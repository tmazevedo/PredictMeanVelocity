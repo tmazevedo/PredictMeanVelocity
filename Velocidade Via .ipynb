{
 "cells": [
  {
   "cell_type": "code",
   "execution_count": 1,
   "metadata": {
    "ExecuteTime": {
     "end_time": "2021-06-10T14:15:43.425162Z",
     "start_time": "2021-06-10T14:15:25.747308Z"
    }
   },
   "outputs": [
    {
     "name": "stdout",
     "output_type": "stream",
     "text": [
      "Wall time: 0 ns\n"
     ]
    }
   ],
   "source": [
    "import numpy as np\n",
    "import glob\n",
    "import matplotlib.pyplot as plt \n",
    "import pandas as pd \n",
    "import folium\n",
    "from geopy.geocoders import Nominatim \n",
    "from pandas.io.json import json_normalize\n",
    "import requests\n",
    "import json\n",
    "import geocoder\n",
    "import datetime\n",
    "from datetime import timedelta\n",
    "import sys; sys.path.append(\"../Notebook/\")\n",
    "\n",
    "%time\n",
    "%matplotlib inline"
   ]
  },
  {
   "cell_type": "markdown",
   "metadata": {},
   "source": [
    "# Dataframe from Velocity"
   ]
  },
  {
   "cell_type": "code",
   "execution_count": 2,
   "metadata": {
    "ExecuteTime": {
     "end_time": "2021-06-10T14:15:43.441017Z",
     "start_time": "2021-06-10T14:15:43.426160Z"
    }
   },
   "outputs": [],
   "source": [
    "array_files_acidentes_vitimas = glob.glob(\"../Velocidades Vias 15 min/*.csv\")"
   ]
  },
  {
   "cell_type": "code",
   "execution_count": 3,
   "metadata": {
    "ExecuteTime": {
     "end_time": "2021-06-10T14:15:43.456393Z",
     "start_time": "2021-06-10T14:15:43.444003Z"
    }
   },
   "outputs": [],
   "source": [
    "def concatenateDatasets(array_to_concatenate):\n",
    "    dataset = 0\n",
    "    array = []\n",
    "    for velocidadeVia in array_to_concatenate:\n",
    "        dataset = pd.read_csv(velocidadeVia,sep=';')\n",
    "        array.append(dataset)\n",
    "    return pd.concat(array)"
   ]
  },
  {
   "cell_type": "code",
   "execution_count": 4,
   "metadata": {
    "ExecuteTime": {
     "end_time": "2021-06-10T14:15:54.719314Z",
     "start_time": "2021-06-10T14:15:43.457376Z"
    }
   },
   "outputs": [],
   "source": [
    "dataFrame = concatenateDatasets(array_files_acidentes_vitimas)"
   ]
  },
  {
   "cell_type": "markdown",
   "metadata": {},
   "source": [
    "# Dataframe from Red Light Camera"
   ]
  },
  {
   "cell_type": "code",
   "execution_count": 5,
   "metadata": {
    "ExecuteTime": {
     "end_time": "2021-06-10T14:15:54.734286Z",
     "start_time": "2021-06-10T14:15:54.721273Z"
    }
   },
   "outputs": [],
   "source": [
    "array_files_acidentes_vitimas_lombadas = glob.glob(\"../Velocidades Vias 15 min/Lombadas/*.csv\")"
   ]
  },
  {
   "cell_type": "code",
   "execution_count": 6,
   "metadata": {
    "ExecuteTime": {
     "end_time": "2021-06-10T14:15:54.765421Z",
     "start_time": "2021-06-10T14:15:54.736408Z"
    }
   },
   "outputs": [],
   "source": [
    "dataFrameLombadas = concatenateDatasets(array_files_acidentes_vitimas_lombadas)"
   ]
  },
  {
   "cell_type": "markdown",
   "metadata": {},
   "source": [
    "## Cleanning DataFrame ( Velocity and Red Light Camera)"
   ]
  },
  {
   "cell_type": "code",
   "execution_count": 7,
   "metadata": {
    "ExecuteTime": {
     "end_time": "2021-06-10T14:15:55.136584Z",
     "start_time": "2021-06-10T14:15:54.767111Z"
    }
   },
   "outputs": [],
   "source": [
    "dataFrameTrainVelocity = pd.DataFrame.copy(dataFrame)"
   ]
  },
  {
   "cell_type": "code",
   "execution_count": 46,
   "metadata": {
    "ExecuteTime": {
     "end_time": "2021-05-23T22:38:22.572591Z",
     "start_time": "2021-05-23T22:38:22.560389Z"
    }
   },
   "outputs": [],
   "source": [
    "dataFrameTrainRedLightCamera = pd.DataFrame.copy(dataFrameLombadas)"
   ]
  },
  {
   "cell_type": "code",
   "execution_count": 47,
   "metadata": {
    "ExecuteTime": {
     "end_time": "2021-05-23T22:38:22.588602Z",
     "start_time": "2021-05-23T22:38:22.573946Z"
    }
   },
   "outputs": [],
   "source": [
    "dataFrameTrainRedLightCamera['bairro'] = ''"
   ]
  },
  {
   "cell_type": "code",
   "execution_count": 48,
   "metadata": {
    "ExecuteTime": {
     "end_time": "2021-05-23T22:38:22.603770Z",
     "start_time": "2021-05-23T22:38:22.592416Z"
    }
   },
   "outputs": [],
   "source": [
    "dataFrameTrainRedLightCamera.sort_values(\"equipamento\",inplace=True)"
   ]
  },
  {
   "cell_type": "code",
   "execution_count": 49,
   "metadata": {
    "ExecuteTime": {
     "end_time": "2021-05-23T22:38:22.619614Z",
     "start_time": "2021-05-23T22:38:22.604759Z"
    }
   },
   "outputs": [],
   "source": [
    "#Removing Duplicates\n",
    "dataFrameTrainRedLightCamera = dataFrameTrainRedLightCamera.drop_duplicates(subset=\"equipamento\")"
   ]
  },
  {
   "cell_type": "code",
   "execution_count": 50,
   "metadata": {
    "ExecuteTime": {
     "end_time": "2021-05-23T22:38:22.635414Z",
     "start_time": "2021-05-23T22:38:22.621819Z"
    },
    "scrolled": true
   },
   "outputs": [],
   "source": [
    "dataFrameTrainRedLightCamera = dataFrameTrainRedLightCamera.drop(dataFrameTrainRedLightCamera.index[0:32])"
   ]
  },
  {
   "cell_type": "markdown",
   "metadata": {},
   "source": [
    "### Removing a sufix from a Equipament column from velocity dataset"
   ]
  },
  {
   "cell_type": "code",
   "execution_count": 51,
   "metadata": {
    "ExecuteTime": {
     "end_time": "2021-05-23T22:38:22.650742Z",
     "start_time": "2021-05-23T22:38:22.637608Z"
    }
   },
   "outputs": [],
   "source": [
    "def remove_suffix(text, suffix):\n",
    "    return text[:-len(suffix)] if text.endswith(suffix) and len(suffix) != 0 else text"
   ]
  },
  {
   "cell_type": "code",
   "execution_count": 52,
   "metadata": {
    "ExecuteTime": {
     "end_time": "2021-05-23T22:38:22.666157Z",
     "start_time": "2021-05-23T22:38:22.652728Z"
    }
   },
   "outputs": [],
   "source": [
    "def remove_rec_string(array_remove):\n",
    "    array_values = []\n",
    "    for value in array_remove:\n",
    "        value = remove_suffix(value,'REC')\n",
    "        array_values.append(value) \n",
    "    return array_values "
   ]
  },
  {
   "cell_type": "code",
   "execution_count": 53,
   "metadata": {
    "ExecuteTime": {
     "end_time": "2021-05-23T22:38:28.868775Z",
     "start_time": "2021-05-23T22:38:22.668679Z"
    }
   },
   "outputs": [],
   "source": [
    "dataFrameTrainVelocity['equipamento'] = remove_rec_string(dataFrame['equipamento'])"
   ]
  },
  {
   "cell_type": "code",
   "execution_count": 54,
   "metadata": {
    "ExecuteTime": {
     "end_time": "2021-05-23T22:38:30.020604Z",
     "start_time": "2021-05-23T22:38:28.871857Z"
    }
   },
   "outputs": [],
   "source": [
    "address='Recife, PE'\n",
    "geolocater=Nominatim(user_agent=\"recife_explorer\")\n",
    "location = geolocater.geocode(address)\n",
    "try:\n",
    "    latitude = location.latitude\n",
    "    longitude = location.longitude\n",
    "except GeocoderTimedOut:\n",
    "    print(\"Geocoder Timeout\")"
   ]
  },
  {
   "cell_type": "markdown",
   "metadata": {},
   "source": [
    "### Insert a Red Lights Camera on the Map"
   ]
  },
  {
   "cell_type": "code",
   "execution_count": 55,
   "metadata": {
    "ExecuteTime": {
     "end_time": "2021-05-23T22:38:30.036612Z",
     "start_time": "2021-05-23T22:38:30.024978Z"
    }
   },
   "outputs": [],
   "source": [
    "districtArray = dataFrameTrainRedLightCamera['bairro']"
   ]
  },
  {
   "cell_type": "code",
   "execution_count": 56,
   "metadata": {
    "ExecuteTime": {
     "end_time": "2021-05-23T22:38:45.241792Z",
     "start_time": "2021-05-23T22:38:30.038604Z"
    }
   },
   "outputs": [
    {
     "data": {
      "text/html": [
       "<div style=\"width:100%;\"><div style=\"position:relative;width:100%;height:0;padding-bottom:60%;\"><span style=\"color:#565656\">Make this Notebook Trusted to load map: File -> Trust Notebook</span><iframe src=\"about:blank\" style=\"position:absolute;width:100%;height:100%;left:0;top:0;border:none !important;\" data-html=%3C%21DOCTYPE%20html%3E%0A%3Chead%3E%20%20%20%20%0A%20%20%20%20%3Cmeta%20http-equiv%3D%22content-type%22%20content%3D%22text/html%3B%20charset%3DUTF-8%22%20/%3E%0A%20%20%20%20%0A%20%20%20%20%20%20%20%20%3Cscript%3E%0A%20%20%20%20%20%20%20%20%20%20%20%20L_NO_TOUCH%20%3D%20false%3B%0A%20%20%20%20%20%20%20%20%20%20%20%20L_DISABLE_3D%20%3D%20false%3B%0A%20%20%20%20%20%20%20%20%3C/script%3E%0A%20%20%20%20%0A%20%20%20%20%3Cstyle%3Ehtml%2C%20body%20%7Bwidth%3A%20100%25%3Bheight%3A%20100%25%3Bmargin%3A%200%3Bpadding%3A%200%3B%7D%3C/style%3E%0A%20%20%20%20%3Cstyle%3E%23map%20%7Bposition%3Aabsolute%3Btop%3A0%3Bbottom%3A0%3Bright%3A0%3Bleft%3A0%3B%7D%3C/style%3E%0A%20%20%20%20%3Cscript%20src%3D%22https%3A//cdn.jsdelivr.net/npm/leaflet%401.6.0/dist/leaflet.js%22%3E%3C/script%3E%0A%20%20%20%20%3Cscript%20src%3D%22https%3A//code.jquery.com/jquery-1.12.4.min.js%22%3E%3C/script%3E%0A%20%20%20%20%3Cscript%20src%3D%22https%3A//maxcdn.bootstrapcdn.com/bootstrap/3.2.0/js/bootstrap.min.js%22%3E%3C/script%3E%0A%20%20%20%20%3Cscript%20src%3D%22https%3A//cdnjs.cloudflare.com/ajax/libs/Leaflet.awesome-markers/2.0.2/leaflet.awesome-markers.js%22%3E%3C/script%3E%0A%20%20%20%20%3Clink%20rel%3D%22stylesheet%22%20href%3D%22https%3A//cdn.jsdelivr.net/npm/leaflet%401.6.0/dist/leaflet.css%22/%3E%0A%20%20%20%20%3Clink%20rel%3D%22stylesheet%22%20href%3D%22https%3A//maxcdn.bootstrapcdn.com/bootstrap/3.2.0/css/bootstrap.min.css%22/%3E%0A%20%20%20%20%3Clink%20rel%3D%22stylesheet%22%20href%3D%22https%3A//maxcdn.bootstrapcdn.com/bootstrap/3.2.0/css/bootstrap-theme.min.css%22/%3E%0A%20%20%20%20%3Clink%20rel%3D%22stylesheet%22%20href%3D%22https%3A//maxcdn.bootstrapcdn.com/font-awesome/4.6.3/css/font-awesome.min.css%22/%3E%0A%20%20%20%20%3Clink%20rel%3D%22stylesheet%22%20href%3D%22https%3A//cdnjs.cloudflare.com/ajax/libs/Leaflet.awesome-markers/2.0.2/leaflet.awesome-markers.css%22/%3E%0A%20%20%20%20%3Clink%20rel%3D%22stylesheet%22%20href%3D%22https%3A//cdn.jsdelivr.net/gh/python-visualization/folium/folium/templates/leaflet.awesome.rotate.min.css%22/%3E%0A%20%20%20%20%0A%20%20%20%20%20%20%20%20%20%20%20%20%3Cmeta%20name%3D%22viewport%22%20content%3D%22width%3Ddevice-width%2C%0A%20%20%20%20%20%20%20%20%20%20%20%20%20%20%20%20initial-scale%3D1.0%2C%20maximum-scale%3D1.0%2C%20user-scalable%3Dno%22%20/%3E%0A%20%20%20%20%20%20%20%20%20%20%20%20%3Cstyle%3E%0A%20%20%20%20%20%20%20%20%20%20%20%20%20%20%20%20%23map_677c0d0139cd4690948d2a6908e2ba2b%20%7B%0A%20%20%20%20%20%20%20%20%20%20%20%20%20%20%20%20%20%20%20%20position%3A%20relative%3B%0A%20%20%20%20%20%20%20%20%20%20%20%20%20%20%20%20%20%20%20%20width%3A%20100.0%25%3B%0A%20%20%20%20%20%20%20%20%20%20%20%20%20%20%20%20%20%20%20%20height%3A%20100.0%25%3B%0A%20%20%20%20%20%20%20%20%20%20%20%20%20%20%20%20%20%20%20%20left%3A%200.0%25%3B%0A%20%20%20%20%20%20%20%20%20%20%20%20%20%20%20%20%20%20%20%20top%3A%200.0%25%3B%0A%20%20%20%20%20%20%20%20%20%20%20%20%20%20%20%20%7D%0A%20%20%20%20%20%20%20%20%20%20%20%20%3C/style%3E%0A%20%20%20%20%20%20%20%20%0A%3C/head%3E%0A%3Cbody%3E%20%20%20%20%0A%20%20%20%20%0A%20%20%20%20%20%20%20%20%20%20%20%20%3Cdiv%20class%3D%22folium-map%22%20id%3D%22map_677c0d0139cd4690948d2a6908e2ba2b%22%20%3E%3C/div%3E%0A%20%20%20%20%20%20%20%20%0A%3C/body%3E%0A%3Cscript%3E%20%20%20%20%0A%20%20%20%20%0A%20%20%20%20%20%20%20%20%20%20%20%20var%20map_677c0d0139cd4690948d2a6908e2ba2b%20%3D%20L.map%28%0A%20%20%20%20%20%20%20%20%20%20%20%20%20%20%20%20%22map_677c0d0139cd4690948d2a6908e2ba2b%22%2C%0A%20%20%20%20%20%20%20%20%20%20%20%20%20%20%20%20%7B%0A%20%20%20%20%20%20%20%20%20%20%20%20%20%20%20%20%20%20%20%20center%3A%20%5B-8.0584933%2C%20-34.8848193%5D%2C%0A%20%20%20%20%20%20%20%20%20%20%20%20%20%20%20%20%20%20%20%20crs%3A%20L.CRS.EPSG3857%2C%0A%20%20%20%20%20%20%20%20%20%20%20%20%20%20%20%20%20%20%20%20zoom%3A%2010%2C%0A%20%20%20%20%20%20%20%20%20%20%20%20%20%20%20%20%20%20%20%20zoomControl%3A%20true%2C%0A%20%20%20%20%20%20%20%20%20%20%20%20%20%20%20%20%20%20%20%20preferCanvas%3A%20false%2C%0A%20%20%20%20%20%20%20%20%20%20%20%20%20%20%20%20%7D%0A%20%20%20%20%20%20%20%20%20%20%20%20%29%3B%0A%0A%20%20%20%20%20%20%20%20%20%20%20%20%0A%0A%20%20%20%20%20%20%20%20%0A%20%20%20%20%0A%20%20%20%20%20%20%20%20%20%20%20%20var%20tile_layer_3f56664dfef44900a80a11e78b3f1d73%20%3D%20L.tileLayer%28%0A%20%20%20%20%20%20%20%20%20%20%20%20%20%20%20%20%22https%3A//%7Bs%7D.tile.openstreetmap.org/%7Bz%7D/%7Bx%7D/%7By%7D.png%22%2C%0A%20%20%20%20%20%20%20%20%20%20%20%20%20%20%20%20%7B%22attribution%22%3A%20%22Data%20by%20%5Cu0026copy%3B%20%5Cu003ca%20href%3D%5C%22http%3A//openstreetmap.org%5C%22%5Cu003eOpenStreetMap%5Cu003c/a%5Cu003e%2C%20under%20%5Cu003ca%20href%3D%5C%22http%3A//www.openstreetmap.org/copyright%5C%22%5Cu003eODbL%5Cu003c/a%5Cu003e.%22%2C%20%22detectRetina%22%3A%20false%2C%20%22maxNativeZoom%22%3A%2018%2C%20%22maxZoom%22%3A%2018%2C%20%22minZoom%22%3A%200%2C%20%22noWrap%22%3A%20false%2C%20%22opacity%22%3A%201%2C%20%22subdomains%22%3A%20%22abc%22%2C%20%22tms%22%3A%20false%7D%0A%20%20%20%20%20%20%20%20%20%20%20%20%29.addTo%28map_677c0d0139cd4690948d2a6908e2ba2b%29%3B%0A%20%20%20%20%20%20%20%20%0A%20%20%20%20%0A%20%20%20%20%20%20%20%20%20%20%20%20var%20circle_marker_96f8f0a376fb4949be00b5c1f7469bfe%20%3D%20L.circleMarker%28%0A%20%20%20%20%20%20%20%20%20%20%20%20%20%20%20%20%5B-8.0634002%2C%20-34.8736694%5D%2C%0A%20%20%20%20%20%20%20%20%20%20%20%20%20%20%20%20%7B%22bubblingMouseEvents%22%3A%20true%2C%20%22color%22%3A%20%22%22%2C%20%22dashArray%22%3A%20null%2C%20%22dashOffset%22%3A%20null%2C%20%22fill%22%3A%20true%2C%20%22fillColor%22%3A%20%22red%22%2C%20%22fillOpacity%22%3A%200.6%2C%20%22fillRule%22%3A%20%22evenodd%22%2C%20%22lineCap%22%3A%20%22round%22%2C%20%22lineJoin%22%3A%20%22round%22%2C%20%22opacity%22%3A%201.0%2C%20%22radius%22%3A%2010%2C%20%22stroke%22%3A%20true%2C%20%22weight%22%3A%203%7D%0A%20%20%20%20%20%20%20%20%20%20%20%20%29.addTo%28map_677c0d0139cd4690948d2a6908e2ba2b%29%3B%0A%20%20%20%20%20%20%20%20%0A%20%20%20%20%0A%20%20%20%20%20%20%20%20%20%20%20%20var%20circle_marker_a7921371bdee4876af1b333c307ef4eb%20%3D%20L.circleMarker%28%0A%20%20%20%20%20%20%20%20%20%20%20%20%20%20%20%20%5B-8.0635787%2C%20-34.873533%5D%2C%0A%20%20%20%20%20%20%20%20%20%20%20%20%20%20%20%20%7B%22bubblingMouseEvents%22%3A%20true%2C%20%22color%22%3A%20%22%22%2C%20%22dashArray%22%3A%20null%2C%20%22dashOffset%22%3A%20null%2C%20%22fill%22%3A%20true%2C%20%22fillColor%22%3A%20%22red%22%2C%20%22fillOpacity%22%3A%200.6%2C%20%22fillRule%22%3A%20%22evenodd%22%2C%20%22lineCap%22%3A%20%22round%22%2C%20%22lineJoin%22%3A%20%22round%22%2C%20%22opacity%22%3A%201.0%2C%20%22radius%22%3A%2010%2C%20%22stroke%22%3A%20true%2C%20%22weight%22%3A%203%7D%0A%20%20%20%20%20%20%20%20%20%20%20%20%29.addTo%28map_677c0d0139cd4690948d2a6908e2ba2b%29%3B%0A%20%20%20%20%20%20%20%20%0A%20%20%20%20%0A%20%20%20%20%20%20%20%20%20%20%20%20var%20circle_marker_29241c76caf74d0d9d37663c7acb4888%20%3D%20L.circleMarker%28%0A%20%20%20%20%20%20%20%20%20%20%20%20%20%20%20%20%5B-8.0887916%2C%20-34.8852251%5D%2C%0A%20%20%20%20%20%20%20%20%20%20%20%20%20%20%20%20%7B%22bubblingMouseEvents%22%3A%20true%2C%20%22color%22%3A%20%22%22%2C%20%22dashArray%22%3A%20null%2C%20%22dashOffset%22%3A%20null%2C%20%22fill%22%3A%20true%2C%20%22fillColor%22%3A%20%22red%22%2C%20%22fillOpacity%22%3A%200.6%2C%20%22fillRule%22%3A%20%22evenodd%22%2C%20%22lineCap%22%3A%20%22round%22%2C%20%22lineJoin%22%3A%20%22round%22%2C%20%22opacity%22%3A%201.0%2C%20%22radius%22%3A%2010%2C%20%22stroke%22%3A%20true%2C%20%22weight%22%3A%203%7D%0A%20%20%20%20%20%20%20%20%20%20%20%20%29.addTo%28map_677c0d0139cd4690948d2a6908e2ba2b%29%3B%0A%20%20%20%20%20%20%20%20%0A%20%20%20%20%0A%20%20%20%20%20%20%20%20%20%20%20%20var%20circle_marker_23d78aa2ec5b4a51aa110a41c378a091%20%3D%20L.circleMarker%28%0A%20%20%20%20%20%20%20%20%20%20%20%20%20%20%20%20%5B-8.1214306%2C%20-34.8990221%5D%2C%0A%20%20%20%20%20%20%20%20%20%20%20%20%20%20%20%20%7B%22bubblingMouseEvents%22%3A%20true%2C%20%22color%22%3A%20%22%22%2C%20%22dashArray%22%3A%20null%2C%20%22dashOffset%22%3A%20null%2C%20%22fill%22%3A%20true%2C%20%22fillColor%22%3A%20%22red%22%2C%20%22fillOpacity%22%3A%200.6%2C%20%22fillRule%22%3A%20%22evenodd%22%2C%20%22lineCap%22%3A%20%22round%22%2C%20%22lineJoin%22%3A%20%22round%22%2C%20%22opacity%22%3A%201.0%2C%20%22radius%22%3A%2010%2C%20%22stroke%22%3A%20true%2C%20%22weight%22%3A%203%7D%0A%20%20%20%20%20%20%20%20%20%20%20%20%29.addTo%28map_677c0d0139cd4690948d2a6908e2ba2b%29%3B%0A%20%20%20%20%20%20%20%20%0A%20%20%20%20%0A%20%20%20%20%20%20%20%20%20%20%20%20var%20circle_marker_ffb56d81588f4b208124adabc425dfa7%20%3D%20L.circleMarker%28%0A%20%20%20%20%20%20%20%20%20%20%20%20%20%20%20%20%5B-8.1052672%2C%20-34.889605%5D%2C%0A%20%20%20%20%20%20%20%20%20%20%20%20%20%20%20%20%7B%22bubblingMouseEvents%22%3A%20true%2C%20%22color%22%3A%20%22%22%2C%20%22dashArray%22%3A%20null%2C%20%22dashOffset%22%3A%20null%2C%20%22fill%22%3A%20true%2C%20%22fillColor%22%3A%20%22red%22%2C%20%22fillOpacity%22%3A%200.6%2C%20%22fillRule%22%3A%20%22evenodd%22%2C%20%22lineCap%22%3A%20%22round%22%2C%20%22lineJoin%22%3A%20%22round%22%2C%20%22opacity%22%3A%201.0%2C%20%22radius%22%3A%2010%2C%20%22stroke%22%3A%20true%2C%20%22weight%22%3A%203%7D%0A%20%20%20%20%20%20%20%20%20%20%20%20%29.addTo%28map_677c0d0139cd4690948d2a6908e2ba2b%29%3B%0A%20%20%20%20%20%20%20%20%0A%20%20%20%20%0A%20%20%20%20%20%20%20%20%20%20%20%20var%20circle_marker_3b231d743bea493c89a0b5403527be99%20%3D%20L.circleMarker%28%0A%20%20%20%20%20%20%20%20%20%20%20%20%20%20%20%20%5B-8.063993%2C%20-34.9357505%5D%2C%0A%20%20%20%20%20%20%20%20%20%20%20%20%20%20%20%20%7B%22bubblingMouseEvents%22%3A%20true%2C%20%22color%22%3A%20%22%22%2C%20%22dashArray%22%3A%20null%2C%20%22dashOffset%22%3A%20null%2C%20%22fill%22%3A%20true%2C%20%22fillColor%22%3A%20%22red%22%2C%20%22fillOpacity%22%3A%200.6%2C%20%22fillRule%22%3A%20%22evenodd%22%2C%20%22lineCap%22%3A%20%22round%22%2C%20%22lineJoin%22%3A%20%22round%22%2C%20%22opacity%22%3A%201.0%2C%20%22radius%22%3A%2010%2C%20%22stroke%22%3A%20true%2C%20%22weight%22%3A%203%7D%0A%20%20%20%20%20%20%20%20%20%20%20%20%29.addTo%28map_677c0d0139cd4690948d2a6908e2ba2b%29%3B%0A%20%20%20%20%20%20%20%20%0A%20%20%20%20%0A%20%20%20%20%20%20%20%20%20%20%20%20var%20circle_marker_a5e487a92a514d1cbbe635015236ebd4%20%3D%20L.circleMarker%28%0A%20%20%20%20%20%20%20%20%20%20%20%20%20%20%20%20%5B-8.0641421%2C%20-34.9358171%5D%2C%0A%20%20%20%20%20%20%20%20%20%20%20%20%20%20%20%20%7B%22bubblingMouseEvents%22%3A%20true%2C%20%22color%22%3A%20%22%22%2C%20%22dashArray%22%3A%20null%2C%20%22dashOffset%22%3A%20null%2C%20%22fill%22%3A%20true%2C%20%22fillColor%22%3A%20%22red%22%2C%20%22fillOpacity%22%3A%200.6%2C%20%22fillRule%22%3A%20%22evenodd%22%2C%20%22lineCap%22%3A%20%22round%22%2C%20%22lineJoin%22%3A%20%22round%22%2C%20%22opacity%22%3A%201.0%2C%20%22radius%22%3A%2010%2C%20%22stroke%22%3A%20true%2C%20%22weight%22%3A%203%7D%0A%20%20%20%20%20%20%20%20%20%20%20%20%29.addTo%28map_677c0d0139cd4690948d2a6908e2ba2b%29%3B%0A%20%20%20%20%20%20%20%20%0A%20%20%20%20%0A%20%20%20%20%20%20%20%20%20%20%20%20var%20circle_marker_fde0a09e153e40b1aaec848110063e95%20%3D%20L.circleMarker%28%0A%20%20%20%20%20%20%20%20%20%20%20%20%20%20%20%20%5B-8.061165%2C%20-34.8832943%5D%2C%0A%20%20%20%20%20%20%20%20%20%20%20%20%20%20%20%20%7B%22bubblingMouseEvents%22%3A%20true%2C%20%22color%22%3A%20%22%22%2C%20%22dashArray%22%3A%20null%2C%20%22dashOffset%22%3A%20null%2C%20%22fill%22%3A%20true%2C%20%22fillColor%22%3A%20%22red%22%2C%20%22fillOpacity%22%3A%200.6%2C%20%22fillRule%22%3A%20%22evenodd%22%2C%20%22lineCap%22%3A%20%22round%22%2C%20%22lineJoin%22%3A%20%22round%22%2C%20%22opacity%22%3A%201.0%2C%20%22radius%22%3A%2010%2C%20%22stroke%22%3A%20true%2C%20%22weight%22%3A%203%7D%0A%20%20%20%20%20%20%20%20%20%20%20%20%29.addTo%28map_677c0d0139cd4690948d2a6908e2ba2b%29%3B%0A%20%20%20%20%20%20%20%20%0A%20%20%20%20%0A%20%20%20%20%20%20%20%20%20%20%20%20var%20circle_marker_88349d9ce7bf42028f4f3f3b3944f28b%20%3D%20L.circleMarker%28%0A%20%20%20%20%20%20%20%20%20%20%20%20%20%20%20%20%5B-8.0626244%2C%20-34.8973606%5D%2C%0A%20%20%20%20%20%20%20%20%20%20%20%20%20%20%20%20%7B%22bubblingMouseEvents%22%3A%20true%2C%20%22color%22%3A%20%22%22%2C%20%22dashArray%22%3A%20null%2C%20%22dashOffset%22%3A%20null%2C%20%22fill%22%3A%20true%2C%20%22fillColor%22%3A%20%22red%22%2C%20%22fillOpacity%22%3A%200.6%2C%20%22fillRule%22%3A%20%22evenodd%22%2C%20%22lineCap%22%3A%20%22round%22%2C%20%22lineJoin%22%3A%20%22round%22%2C%20%22opacity%22%3A%201.0%2C%20%22radius%22%3A%2010%2C%20%22stroke%22%3A%20true%2C%20%22weight%22%3A%203%7D%0A%20%20%20%20%20%20%20%20%20%20%20%20%29.addTo%28map_677c0d0139cd4690948d2a6908e2ba2b%29%3B%0A%20%20%20%20%20%20%20%20%0A%20%20%20%20%0A%20%20%20%20%20%20%20%20%20%20%20%20var%20circle_marker_4e87a04137b34a51a88144713a5e0b31%20%3D%20L.circleMarker%28%0A%20%20%20%20%20%20%20%20%20%20%20%20%20%20%20%20%5B-8.1151484%2C%20-34.9006181%5D%2C%0A%20%20%20%20%20%20%20%20%20%20%20%20%20%20%20%20%7B%22bubblingMouseEvents%22%3A%20true%2C%20%22color%22%3A%20%22%22%2C%20%22dashArray%22%3A%20null%2C%20%22dashOffset%22%3A%20null%2C%20%22fill%22%3A%20true%2C%20%22fillColor%22%3A%20%22red%22%2C%20%22fillOpacity%22%3A%200.6%2C%20%22fillRule%22%3A%20%22evenodd%22%2C%20%22lineCap%22%3A%20%22round%22%2C%20%22lineJoin%22%3A%20%22round%22%2C%20%22opacity%22%3A%201.0%2C%20%22radius%22%3A%2010%2C%20%22stroke%22%3A%20true%2C%20%22weight%22%3A%203%7D%0A%20%20%20%20%20%20%20%20%20%20%20%20%29.addTo%28map_677c0d0139cd4690948d2a6908e2ba2b%29%3B%0A%20%20%20%20%20%20%20%20%0A%20%20%20%20%0A%20%20%20%20%20%20%20%20%20%20%20%20var%20circle_marker_efb17e24ad0c4f3294a38923038a4eb8%20%3D%20L.circleMarker%28%0A%20%20%20%20%20%20%20%20%20%20%20%20%20%20%20%20%5B-8.0516928%2C%20-34.8950315%5D%2C%0A%20%20%20%20%20%20%20%20%20%20%20%20%20%20%20%20%7B%22bubblingMouseEvents%22%3A%20true%2C%20%22color%22%3A%20%22%22%2C%20%22dashArray%22%3A%20null%2C%20%22dashOffset%22%3A%20null%2C%20%22fill%22%3A%20true%2C%20%22fillColor%22%3A%20%22red%22%2C%20%22fillOpacity%22%3A%200.6%2C%20%22fillRule%22%3A%20%22evenodd%22%2C%20%22lineCap%22%3A%20%22round%22%2C%20%22lineJoin%22%3A%20%22round%22%2C%20%22opacity%22%3A%201.0%2C%20%22radius%22%3A%2010%2C%20%22stroke%22%3A%20true%2C%20%22weight%22%3A%203%7D%0A%20%20%20%20%20%20%20%20%20%20%20%20%29.addTo%28map_677c0d0139cd4690948d2a6908e2ba2b%29%3B%0A%20%20%20%20%20%20%20%20%0A%20%20%20%20%0A%20%20%20%20%20%20%20%20%20%20%20%20var%20circle_marker_6a790fa44a164863916da33d80d13630%20%3D%20L.circleMarker%28%0A%20%20%20%20%20%20%20%20%20%20%20%20%20%20%20%20%5B-8.0919008%2C%20-34.8820881%5D%2C%0A%20%20%20%20%20%20%20%20%20%20%20%20%20%20%20%20%7B%22bubblingMouseEvents%22%3A%20true%2C%20%22color%22%3A%20%22%22%2C%20%22dashArray%22%3A%20null%2C%20%22dashOffset%22%3A%20null%2C%20%22fill%22%3A%20true%2C%20%22fillColor%22%3A%20%22red%22%2C%20%22fillOpacity%22%3A%200.6%2C%20%22fillRule%22%3A%20%22evenodd%22%2C%20%22lineCap%22%3A%20%22round%22%2C%20%22lineJoin%22%3A%20%22round%22%2C%20%22opacity%22%3A%201.0%2C%20%22radius%22%3A%2010%2C%20%22stroke%22%3A%20true%2C%20%22weight%22%3A%203%7D%0A%20%20%20%20%20%20%20%20%20%20%20%20%29.addTo%28map_677c0d0139cd4690948d2a6908e2ba2b%29%3B%0A%20%20%20%20%20%20%20%20%0A%20%20%20%20%0A%20%20%20%20%20%20%20%20%20%20%20%20var%20circle_marker_8e414808b4c54f6fba8db5f807a3cafe%20%3D%20L.circleMarker%28%0A%20%20%20%20%20%20%20%20%20%20%20%20%20%20%20%20%5B-8.1273728%2C%20-34.9155178%5D%2C%0A%20%20%20%20%20%20%20%20%20%20%20%20%20%20%20%20%7B%22bubblingMouseEvents%22%3A%20true%2C%20%22color%22%3A%20%22%22%2C%20%22dashArray%22%3A%20null%2C%20%22dashOffset%22%3A%20null%2C%20%22fill%22%3A%20true%2C%20%22fillColor%22%3A%20%22red%22%2C%20%22fillOpacity%22%3A%200.6%2C%20%22fillRule%22%3A%20%22evenodd%22%2C%20%22lineCap%22%3A%20%22round%22%2C%20%22lineJoin%22%3A%20%22round%22%2C%20%22opacity%22%3A%201.0%2C%20%22radius%22%3A%2010%2C%20%22stroke%22%3A%20true%2C%20%22weight%22%3A%203%7D%0A%20%20%20%20%20%20%20%20%20%20%20%20%29.addTo%28map_677c0d0139cd4690948d2a6908e2ba2b%29%3B%0A%20%20%20%20%20%20%20%20%0A%20%20%20%20%0A%20%20%20%20%20%20%20%20%20%20%20%20var%20circle_marker_1e58434db7214220abe2c22144f4cecb%20%3D%20L.circleMarker%28%0A%20%20%20%20%20%20%20%20%20%20%20%20%20%20%20%20%5B-8.1003544%2C%20-34.9282125%5D%2C%0A%20%20%20%20%20%20%20%20%20%20%20%20%20%20%20%20%7B%22bubblingMouseEvents%22%3A%20true%2C%20%22color%22%3A%20%22%22%2C%20%22dashArray%22%3A%20null%2C%20%22dashOffset%22%3A%20null%2C%20%22fill%22%3A%20true%2C%20%22fillColor%22%3A%20%22red%22%2C%20%22fillOpacity%22%3A%200.6%2C%20%22fillRule%22%3A%20%22evenodd%22%2C%20%22lineCap%22%3A%20%22round%22%2C%20%22lineJoin%22%3A%20%22round%22%2C%20%22opacity%22%3A%201.0%2C%20%22radius%22%3A%2010%2C%20%22stroke%22%3A%20true%2C%20%22weight%22%3A%203%7D%0A%20%20%20%20%20%20%20%20%20%20%20%20%29.addTo%28map_677c0d0139cd4690948d2a6908e2ba2b%29%3B%0A%20%20%20%20%20%20%20%20%0A%20%20%20%20%0A%20%20%20%20%20%20%20%20%20%20%20%20var%20circle_marker_b320f69f593a4ff3a97462c68662edf9%20%3D%20L.circleMarker%28%0A%20%20%20%20%20%20%20%20%20%20%20%20%20%20%20%20%5B-8.100547%2C%20-34.9280824%5D%2C%0A%20%20%20%20%20%20%20%20%20%20%20%20%20%20%20%20%7B%22bubblingMouseEvents%22%3A%20true%2C%20%22color%22%3A%20%22%22%2C%20%22dashArray%22%3A%20null%2C%20%22dashOffset%22%3A%20null%2C%20%22fill%22%3A%20true%2C%20%22fillColor%22%3A%20%22red%22%2C%20%22fillOpacity%22%3A%200.6%2C%20%22fillRule%22%3A%20%22evenodd%22%2C%20%22lineCap%22%3A%20%22round%22%2C%20%22lineJoin%22%3A%20%22round%22%2C%20%22opacity%22%3A%201.0%2C%20%22radius%22%3A%2010%2C%20%22stroke%22%3A%20true%2C%20%22weight%22%3A%203%7D%0A%20%20%20%20%20%20%20%20%20%20%20%20%29.addTo%28map_677c0d0139cd4690948d2a6908e2ba2b%29%3B%0A%20%20%20%20%20%20%20%20%0A%20%20%20%20%0A%20%20%20%20%20%20%20%20%20%20%20%20var%20circle_marker_4c19681f544d48169954e8f3db67e576%20%3D%20L.circleMarker%28%0A%20%20%20%20%20%20%20%20%20%20%20%20%20%20%20%20%5B-8.0277621%2C%20-34.928001%5D%2C%0A%20%20%20%20%20%20%20%20%20%20%20%20%20%20%20%20%7B%22bubblingMouseEvents%22%3A%20true%2C%20%22color%22%3A%20%22%22%2C%20%22dashArray%22%3A%20null%2C%20%22dashOffset%22%3A%20null%2C%20%22fill%22%3A%20true%2C%20%22fillColor%22%3A%20%22red%22%2C%20%22fillOpacity%22%3A%200.6%2C%20%22fillRule%22%3A%20%22evenodd%22%2C%20%22lineCap%22%3A%20%22round%22%2C%20%22lineJoin%22%3A%20%22round%22%2C%20%22opacity%22%3A%201.0%2C%20%22radius%22%3A%2010%2C%20%22stroke%22%3A%20true%2C%20%22weight%22%3A%203%7D%0A%20%20%20%20%20%20%20%20%20%20%20%20%29.addTo%28map_677c0d0139cd4690948d2a6908e2ba2b%29%3B%0A%20%20%20%20%20%20%20%20%0A%20%20%20%20%0A%20%20%20%20%20%20%20%20%20%20%20%20var%20circle_marker_77722ccd6b5742dc928f91de818addf6%20%3D%20L.circleMarker%28%0A%20%20%20%20%20%20%20%20%20%20%20%20%20%20%20%20%5B-8.05671%2C%20-34.89797%5D%2C%0A%20%20%20%20%20%20%20%20%20%20%20%20%20%20%20%20%7B%22bubblingMouseEvents%22%3A%20true%2C%20%22color%22%3A%20%22%22%2C%20%22dashArray%22%3A%20null%2C%20%22dashOffset%22%3A%20null%2C%20%22fill%22%3A%20true%2C%20%22fillColor%22%3A%20%22red%22%2C%20%22fillOpacity%22%3A%200.6%2C%20%22fillRule%22%3A%20%22evenodd%22%2C%20%22lineCap%22%3A%20%22round%22%2C%20%22lineJoin%22%3A%20%22round%22%2C%20%22opacity%22%3A%201.0%2C%20%22radius%22%3A%2010%2C%20%22stroke%22%3A%20true%2C%20%22weight%22%3A%203%7D%0A%20%20%20%20%20%20%20%20%20%20%20%20%29.addTo%28map_677c0d0139cd4690948d2a6908e2ba2b%29%3B%0A%20%20%20%20%20%20%20%20%0A%20%20%20%20%0A%20%20%20%20%20%20%20%20%20%20%20%20var%20circle_marker_0284b6a32a23433ebac7ba38ac7a8e2c%20%3D%20L.circleMarker%28%0A%20%20%20%20%20%20%20%20%20%20%20%20%20%20%20%20%5B-8.0278685%2C%20-34.8929091%5D%2C%0A%20%20%20%20%20%20%20%20%20%20%20%20%20%20%20%20%7B%22bubblingMouseEvents%22%3A%20true%2C%20%22color%22%3A%20%22%22%2C%20%22dashArray%22%3A%20null%2C%20%22dashOffset%22%3A%20null%2C%20%22fill%22%3A%20true%2C%20%22fillColor%22%3A%20%22red%22%2C%20%22fillOpacity%22%3A%200.6%2C%20%22fillRule%22%3A%20%22evenodd%22%2C%20%22lineCap%22%3A%20%22round%22%2C%20%22lineJoin%22%3A%20%22round%22%2C%20%22opacity%22%3A%201.0%2C%20%22radius%22%3A%2010%2C%20%22stroke%22%3A%20true%2C%20%22weight%22%3A%203%7D%0A%20%20%20%20%20%20%20%20%20%20%20%20%29.addTo%28map_677c0d0139cd4690948d2a6908e2ba2b%29%3B%0A%20%20%20%20%20%20%20%20%0A%20%20%20%20%0A%20%20%20%20%20%20%20%20%20%20%20%20var%20circle_marker_dbbefc0c537f4d57a9b5944aa9bd3324%20%3D%20L.circleMarker%28%0A%20%20%20%20%20%20%20%20%20%20%20%20%20%20%20%20%5B-8.06242%2C%20-34.91688%5D%2C%0A%20%20%20%20%20%20%20%20%20%20%20%20%20%20%20%20%7B%22bubblingMouseEvents%22%3A%20true%2C%20%22color%22%3A%20%22%22%2C%20%22dashArray%22%3A%20null%2C%20%22dashOffset%22%3A%20null%2C%20%22fill%22%3A%20true%2C%20%22fillColor%22%3A%20%22red%22%2C%20%22fillOpacity%22%3A%200.6%2C%20%22fillRule%22%3A%20%22evenodd%22%2C%20%22lineCap%22%3A%20%22round%22%2C%20%22lineJoin%22%3A%20%22round%22%2C%20%22opacity%22%3A%201.0%2C%20%22radius%22%3A%2010%2C%20%22stroke%22%3A%20true%2C%20%22weight%22%3A%203%7D%0A%20%20%20%20%20%20%20%20%20%20%20%20%29.addTo%28map_677c0d0139cd4690948d2a6908e2ba2b%29%3B%0A%20%20%20%20%20%20%20%20%0A%20%20%20%20%0A%20%20%20%20%20%20%20%20%20%20%20%20var%20circle_marker_bbd0ba655ea6415aacb982c78b3e22c1%20%3D%20L.circleMarker%28%0A%20%20%20%20%20%20%20%20%20%20%20%20%20%20%20%20%5B-8.05538%2C%20-34.90906%5D%2C%0A%20%20%20%20%20%20%20%20%20%20%20%20%20%20%20%20%7B%22bubblingMouseEvents%22%3A%20true%2C%20%22color%22%3A%20%22%22%2C%20%22dashArray%22%3A%20null%2C%20%22dashOffset%22%3A%20null%2C%20%22fill%22%3A%20true%2C%20%22fillColor%22%3A%20%22red%22%2C%20%22fillOpacity%22%3A%200.6%2C%20%22fillRule%22%3A%20%22evenodd%22%2C%20%22lineCap%22%3A%20%22round%22%2C%20%22lineJoin%22%3A%20%22round%22%2C%20%22opacity%22%3A%201.0%2C%20%22radius%22%3A%2010%2C%20%22stroke%22%3A%20true%2C%20%22weight%22%3A%203%7D%0A%20%20%20%20%20%20%20%20%20%20%20%20%29.addTo%28map_677c0d0139cd4690948d2a6908e2ba2b%29%3B%0A%20%20%20%20%20%20%20%20%0A%20%20%20%20%0A%20%20%20%20%20%20%20%20%20%20%20%20var%20circle_marker_7aa4586ee22b4c09afa02bfd88205fe8%20%3D%20L.circleMarker%28%0A%20%20%20%20%20%20%20%20%20%20%20%20%20%20%20%20%5B-8.0182744%2C%20-34.9283043%5D%2C%0A%20%20%20%20%20%20%20%20%20%20%20%20%20%20%20%20%7B%22bubblingMouseEvents%22%3A%20true%2C%20%22color%22%3A%20%22%22%2C%20%22dashArray%22%3A%20null%2C%20%22dashOffset%22%3A%20null%2C%20%22fill%22%3A%20true%2C%20%22fillColor%22%3A%20%22red%22%2C%20%22fillOpacity%22%3A%200.6%2C%20%22fillRule%22%3A%20%22evenodd%22%2C%20%22lineCap%22%3A%20%22round%22%2C%20%22lineJoin%22%3A%20%22round%22%2C%20%22opacity%22%3A%201.0%2C%20%22radius%22%3A%2010%2C%20%22stroke%22%3A%20true%2C%20%22weight%22%3A%203%7D%0A%20%20%20%20%20%20%20%20%20%20%20%20%29.addTo%28map_677c0d0139cd4690948d2a6908e2ba2b%29%3B%0A%20%20%20%20%20%20%20%20%0A%20%20%20%20%0A%20%20%20%20%20%20%20%20%20%20%20%20var%20circle_marker_3f4104bc9b9c44b7a14d7f37e6527544%20%3D%20L.circleMarker%28%0A%20%20%20%20%20%20%20%20%20%20%20%20%20%20%20%20%5B-8.05216%2C%20-34.90217%5D%2C%0A%20%20%20%20%20%20%20%20%20%20%20%20%20%20%20%20%7B%22bubblingMouseEvents%22%3A%20true%2C%20%22color%22%3A%20%22%22%2C%20%22dashArray%22%3A%20null%2C%20%22dashOffset%22%3A%20null%2C%20%22fill%22%3A%20true%2C%20%22fillColor%22%3A%20%22red%22%2C%20%22fillOpacity%22%3A%200.6%2C%20%22fillRule%22%3A%20%22evenodd%22%2C%20%22lineCap%22%3A%20%22round%22%2C%20%22lineJoin%22%3A%20%22round%22%2C%20%22opacity%22%3A%201.0%2C%20%22radius%22%3A%2010%2C%20%22stroke%22%3A%20true%2C%20%22weight%22%3A%203%7D%0A%20%20%20%20%20%20%20%20%20%20%20%20%29.addTo%28map_677c0d0139cd4690948d2a6908e2ba2b%29%3B%0A%20%20%20%20%20%20%20%20%0A%20%20%20%20%0A%20%20%20%20%20%20%20%20%20%20%20%20var%20circle_marker_6ffa38d7bb6c430fadb4ca4241d0972c%20%3D%20L.circleMarker%28%0A%20%20%20%20%20%20%20%20%20%20%20%20%20%20%20%20%5B-8.1215132%2C%20-34.9093425%5D%2C%0A%20%20%20%20%20%20%20%20%20%20%20%20%20%20%20%20%7B%22bubblingMouseEvents%22%3A%20true%2C%20%22color%22%3A%20%22%22%2C%20%22dashArray%22%3A%20null%2C%20%22dashOffset%22%3A%20null%2C%20%22fill%22%3A%20true%2C%20%22fillColor%22%3A%20%22red%22%2C%20%22fillOpacity%22%3A%200.6%2C%20%22fillRule%22%3A%20%22evenodd%22%2C%20%22lineCap%22%3A%20%22round%22%2C%20%22lineJoin%22%3A%20%22round%22%2C%20%22opacity%22%3A%201.0%2C%20%22radius%22%3A%2010%2C%20%22stroke%22%3A%20true%2C%20%22weight%22%3A%203%7D%0A%20%20%20%20%20%20%20%20%20%20%20%20%29.addTo%28map_677c0d0139cd4690948d2a6908e2ba2b%29%3B%0A%20%20%20%20%20%20%20%20%0A%20%20%20%20%0A%20%20%20%20%20%20%20%20%20%20%20%20var%20circle_marker_ab53ccb6f62548769a60a08d6d71da75%20%3D%20L.circleMarker%28%0A%20%20%20%20%20%20%20%20%20%20%20%20%20%20%20%20%5B-8.1214297%2C%20-34.9098383%5D%2C%0A%20%20%20%20%20%20%20%20%20%20%20%20%20%20%20%20%7B%22bubblingMouseEvents%22%3A%20true%2C%20%22color%22%3A%20%22%22%2C%20%22dashArray%22%3A%20null%2C%20%22dashOffset%22%3A%20null%2C%20%22fill%22%3A%20true%2C%20%22fillColor%22%3A%20%22red%22%2C%20%22fillOpacity%22%3A%200.6%2C%20%22fillRule%22%3A%20%22evenodd%22%2C%20%22lineCap%22%3A%20%22round%22%2C%20%22lineJoin%22%3A%20%22round%22%2C%20%22opacity%22%3A%201.0%2C%20%22radius%22%3A%2010%2C%20%22stroke%22%3A%20true%2C%20%22weight%22%3A%203%7D%0A%20%20%20%20%20%20%20%20%20%20%20%20%29.addTo%28map_677c0d0139cd4690948d2a6908e2ba2b%29%3B%0A%20%20%20%20%20%20%20%20%0A%20%20%20%20%0A%20%20%20%20%20%20%20%20%20%20%20%20var%20circle_marker_6346aaf4881a48cc989b4ee993587c4b%20%3D%20L.circleMarker%28%0A%20%20%20%20%20%20%20%20%20%20%20%20%20%20%20%20%5B-8.1362834%2C%20-34.9035808%5D%2C%0A%20%20%20%20%20%20%20%20%20%20%20%20%20%20%20%20%7B%22bubblingMouseEvents%22%3A%20true%2C%20%22color%22%3A%20%22%22%2C%20%22dashArray%22%3A%20null%2C%20%22dashOffset%22%3A%20null%2C%20%22fill%22%3A%20true%2C%20%22fillColor%22%3A%20%22red%22%2C%20%22fillOpacity%22%3A%200.6%2C%20%22fillRule%22%3A%20%22evenodd%22%2C%20%22lineCap%22%3A%20%22round%22%2C%20%22lineJoin%22%3A%20%22round%22%2C%20%22opacity%22%3A%201.0%2C%20%22radius%22%3A%2010%2C%20%22stroke%22%3A%20true%2C%20%22weight%22%3A%203%7D%0A%20%20%20%20%20%20%20%20%20%20%20%20%29.addTo%28map_677c0d0139cd4690948d2a6908e2ba2b%29%3B%0A%20%20%20%20%20%20%20%20%0A%20%20%20%20%0A%20%20%20%20%20%20%20%20%20%20%20%20var%20circle_marker_4fa6a8a6ec78439ead81d5d1a79be8c0%20%3D%20L.circleMarker%28%0A%20%20%20%20%20%20%20%20%20%20%20%20%20%20%20%20%5B-8.1362834%2C%20-34.9035808%5D%2C%0A%20%20%20%20%20%20%20%20%20%20%20%20%20%20%20%20%7B%22bubblingMouseEvents%22%3A%20true%2C%20%22color%22%3A%20%22%22%2C%20%22dashArray%22%3A%20null%2C%20%22dashOffset%22%3A%20null%2C%20%22fill%22%3A%20true%2C%20%22fillColor%22%3A%20%22red%22%2C%20%22fillOpacity%22%3A%200.6%2C%20%22fillRule%22%3A%20%22evenodd%22%2C%20%22lineCap%22%3A%20%22round%22%2C%20%22lineJoin%22%3A%20%22round%22%2C%20%22opacity%22%3A%201.0%2C%20%22radius%22%3A%2010%2C%20%22stroke%22%3A%20true%2C%20%22weight%22%3A%203%7D%0A%20%20%20%20%20%20%20%20%20%20%20%20%29.addTo%28map_677c0d0139cd4690948d2a6908e2ba2b%29%3B%0A%20%20%20%20%20%20%20%20%0A%20%20%20%20%0A%20%20%20%20%20%20%20%20%20%20%20%20var%20circle_marker_9afa81b1b6df49849fe538060288f40e%20%3D%20L.circleMarker%28%0A%20%20%20%20%20%20%20%20%20%20%20%20%20%20%20%20%5B-8.0920388%2C%20-34.9614941%5D%2C%0A%20%20%20%20%20%20%20%20%20%20%20%20%20%20%20%20%7B%22bubblingMouseEvents%22%3A%20true%2C%20%22color%22%3A%20%22%22%2C%20%22dashArray%22%3A%20null%2C%20%22dashOffset%22%3A%20null%2C%20%22fill%22%3A%20true%2C%20%22fillColor%22%3A%20%22red%22%2C%20%22fillOpacity%22%3A%200.6%2C%20%22fillRule%22%3A%20%22evenodd%22%2C%20%22lineCap%22%3A%20%22round%22%2C%20%22lineJoin%22%3A%20%22round%22%2C%20%22opacity%22%3A%201.0%2C%20%22radius%22%3A%2010%2C%20%22stroke%22%3A%20true%2C%20%22weight%22%3A%203%7D%0A%20%20%20%20%20%20%20%20%20%20%20%20%29.addTo%28map_677c0d0139cd4690948d2a6908e2ba2b%29%3B%0A%20%20%20%20%20%20%20%20%0A%20%20%20%20%0A%20%20%20%20%20%20%20%20%20%20%20%20var%20circle_marker_45cfccd4a85b408d8dc5910bddd0c172%20%3D%20L.circleMarker%28%0A%20%20%20%20%20%20%20%20%20%20%20%20%20%20%20%20%5B-8.0811109%2C%20-34.9683544%5D%2C%0A%20%20%20%20%20%20%20%20%20%20%20%20%20%20%20%20%7B%22bubblingMouseEvents%22%3A%20true%2C%20%22color%22%3A%20%22%22%2C%20%22dashArray%22%3A%20null%2C%20%22dashOffset%22%3A%20null%2C%20%22fill%22%3A%20true%2C%20%22fillColor%22%3A%20%22red%22%2C%20%22fillOpacity%22%3A%200.6%2C%20%22fillRule%22%3A%20%22evenodd%22%2C%20%22lineCap%22%3A%20%22round%22%2C%20%22lineJoin%22%3A%20%22round%22%2C%20%22opacity%22%3A%201.0%2C%20%22radius%22%3A%2010%2C%20%22stroke%22%3A%20true%2C%20%22weight%22%3A%203%7D%0A%20%20%20%20%20%20%20%20%20%20%20%20%29.addTo%28map_677c0d0139cd4690948d2a6908e2ba2b%29%3B%0A%20%20%20%20%20%20%20%20%0A%20%20%20%20%0A%20%20%20%20%20%20%20%20%20%20%20%20var%20circle_marker_d8a924455b3c41f2ad1ceafb6ed3d115%20%3D%20L.circleMarker%28%0A%20%20%20%20%20%20%20%20%20%20%20%20%20%20%20%20%5B-8.08463%2C%20-34.92803%5D%2C%0A%20%20%20%20%20%20%20%20%20%20%20%20%20%20%20%20%7B%22bubblingMouseEvents%22%3A%20true%2C%20%22color%22%3A%20%22%22%2C%20%22dashArray%22%3A%20null%2C%20%22dashOffset%22%3A%20null%2C%20%22fill%22%3A%20true%2C%20%22fillColor%22%3A%20%22red%22%2C%20%22fillOpacity%22%3A%200.6%2C%20%22fillRule%22%3A%20%22evenodd%22%2C%20%22lineCap%22%3A%20%22round%22%2C%20%22lineJoin%22%3A%20%22round%22%2C%20%22opacity%22%3A%201.0%2C%20%22radius%22%3A%2010%2C%20%22stroke%22%3A%20true%2C%20%22weight%22%3A%203%7D%0A%20%20%20%20%20%20%20%20%20%20%20%20%29.addTo%28map_677c0d0139cd4690948d2a6908e2ba2b%29%3B%0A%20%20%20%20%20%20%20%20%0A%20%20%20%20%0A%20%20%20%20%20%20%20%20%20%20%20%20var%20circle_marker_01adbac24a144070ad654ff911913698%20%3D%20L.circleMarker%28%0A%20%20%20%20%20%20%20%20%20%20%20%20%20%20%20%20%5B-8.06268%2C%20-34.89733%5D%2C%0A%20%20%20%20%20%20%20%20%20%20%20%20%20%20%20%20%7B%22bubblingMouseEvents%22%3A%20true%2C%20%22color%22%3A%20%22%22%2C%20%22dashArray%22%3A%20null%2C%20%22dashOffset%22%3A%20null%2C%20%22fill%22%3A%20true%2C%20%22fillColor%22%3A%20%22red%22%2C%20%22fillOpacity%22%3A%200.6%2C%20%22fillRule%22%3A%20%22evenodd%22%2C%20%22lineCap%22%3A%20%22round%22%2C%20%22lineJoin%22%3A%20%22round%22%2C%20%22opacity%22%3A%201.0%2C%20%22radius%22%3A%2010%2C%20%22stroke%22%3A%20true%2C%20%22weight%22%3A%203%7D%0A%20%20%20%20%20%20%20%20%20%20%20%20%29.addTo%28map_677c0d0139cd4690948d2a6908e2ba2b%29%3B%0A%20%20%20%20%20%20%20%20%0A%3C/script%3E onload=\"this.contentDocument.open();this.contentDocument.write(    decodeURIComponent(this.getAttribute('data-html')));this.contentDocument.close();\" allowfullscreen webkitallowfullscreen mozallowfullscreen></iframe></div></div>"
      ],
      "text/plain": [
       "<folium.folium.Map at 0x246c70a5ac8>"
      ]
     },
     "metadata": {},
     "output_type": "display_data"
    }
   ],
   "source": [
    "recife_map=folium.Map(location=[latitude,longitude],zoom_start=10)\n",
    "i = 0\n",
    "array = []\n",
    "for lat,long in zip(dataFrameTrainRedLightCamera['latitude'],dataFrameTrainRedLightCamera['longitude']):\n",
    "    locationReverse = geolocater.reverse(str(lat)+\",\"+str(long))\n",
    "    locationDict = locationReverse.raw\n",
    "    district = locationDict['address']['suburb']\n",
    "    array.append(district)\n",
    "    folium.CircleMarker(\n",
    "                    [lat,long],\n",
    "                    raduis=0.5,\n",
    "                    color='',\n",
    "                    #popup=distric,\n",
    "                    fill=True,\n",
    "                    fill_color='red',\n",
    "                    fill_opacity=0.6,\n",
    "                    parse_html=True\n",
    "                    ).add_to(recife_map)\n",
    "display(recife_map)\n",
    "dataFrameTrainRedLightCamera['bairro'] = array"
   ]
  },
  {
   "cell_type": "code",
   "execution_count": 36,
   "metadata": {
    "ExecuteTime": {
     "end_time": "2021-05-23T21:46:45.065770Z",
     "start_time": "2021-05-23T21:46:45.052770Z"
    }
   },
   "outputs": [],
   "source": [
    "districtArray = list(dict.fromkeys(districtArray))"
   ]
  },
  {
   "cell_type": "code",
   "execution_count": 37,
   "metadata": {
    "ExecuteTime": {
     "end_time": "2021-05-23T21:46:45.935479Z",
     "start_time": "2021-05-23T21:46:45.920480Z"
    }
   },
   "outputs": [],
   "source": [
    "districtArray = sorted(districtArray)"
   ]
  },
  {
   "cell_type": "code",
   "execution_count": 58,
   "metadata": {
    "ExecuteTime": {
     "end_time": "2021-05-23T22:40:01.753980Z",
     "start_time": "2021-05-23T22:40:01.744700Z"
    }
   },
   "outputs": [],
   "source": [
    "districArray = np.asarray(dataFrameTrainRedLightCamera['bairro'])"
   ]
  },
  {
   "cell_type": "markdown",
   "metadata": {},
   "source": [
    "### Insert a District on the Map"
   ]
  },
  {
   "cell_type": "code",
   "execution_count": 28,
   "metadata": {
    "ExecuteTime": {
     "end_time": "2021-04-16T05:40:56.115787Z",
     "start_time": "2021-04-16T05:40:46.110783Z"
    }
   },
   "outputs": [
    {
     "data": {
      "text/html": [
       "<div style=\"width:100%;\"><div style=\"position:relative;width:100%;height:0;padding-bottom:60%;\"><span style=\"color:#565656\">Make this Notebook Trusted to load map: File -> Trust Notebook</span><iframe src=\"about:blank\" style=\"position:absolute;width:100%;height:100%;left:0;top:0;border:none !important;\" data-html=%3C%21DOCTYPE%20html%3E%0A%3Chead%3E%20%20%20%20%0A%20%20%20%20%3Cmeta%20http-equiv%3D%22content-type%22%20content%3D%22text/html%3B%20charset%3DUTF-8%22%20/%3E%0A%20%20%20%20%0A%20%20%20%20%20%20%20%20%3Cscript%3E%0A%20%20%20%20%20%20%20%20%20%20%20%20L_NO_TOUCH%20%3D%20false%3B%0A%20%20%20%20%20%20%20%20%20%20%20%20L_DISABLE_3D%20%3D%20false%3B%0A%20%20%20%20%20%20%20%20%3C/script%3E%0A%20%20%20%20%0A%20%20%20%20%3Cstyle%3Ehtml%2C%20body%20%7Bwidth%3A%20100%25%3Bheight%3A%20100%25%3Bmargin%3A%200%3Bpadding%3A%200%3B%7D%3C/style%3E%0A%20%20%20%20%3Cstyle%3E%23map%20%7Bposition%3Aabsolute%3Btop%3A0%3Bbottom%3A0%3Bright%3A0%3Bleft%3A0%3B%7D%3C/style%3E%0A%20%20%20%20%3Cscript%20src%3D%22https%3A//cdn.jsdelivr.net/npm/leaflet%401.6.0/dist/leaflet.js%22%3E%3C/script%3E%0A%20%20%20%20%3Cscript%20src%3D%22https%3A//code.jquery.com/jquery-1.12.4.min.js%22%3E%3C/script%3E%0A%20%20%20%20%3Cscript%20src%3D%22https%3A//maxcdn.bootstrapcdn.com/bootstrap/3.2.0/js/bootstrap.min.js%22%3E%3C/script%3E%0A%20%20%20%20%3Cscript%20src%3D%22https%3A//cdnjs.cloudflare.com/ajax/libs/Leaflet.awesome-markers/2.0.2/leaflet.awesome-markers.js%22%3E%3C/script%3E%0A%20%20%20%20%3Clink%20rel%3D%22stylesheet%22%20href%3D%22https%3A//cdn.jsdelivr.net/npm/leaflet%401.6.0/dist/leaflet.css%22/%3E%0A%20%20%20%20%3Clink%20rel%3D%22stylesheet%22%20href%3D%22https%3A//maxcdn.bootstrapcdn.com/bootstrap/3.2.0/css/bootstrap.min.css%22/%3E%0A%20%20%20%20%3Clink%20rel%3D%22stylesheet%22%20href%3D%22https%3A//maxcdn.bootstrapcdn.com/bootstrap/3.2.0/css/bootstrap-theme.min.css%22/%3E%0A%20%20%20%20%3Clink%20rel%3D%22stylesheet%22%20href%3D%22https%3A//maxcdn.bootstrapcdn.com/font-awesome/4.6.3/css/font-awesome.min.css%22/%3E%0A%20%20%20%20%3Clink%20rel%3D%22stylesheet%22%20href%3D%22https%3A//cdnjs.cloudflare.com/ajax/libs/Leaflet.awesome-markers/2.0.2/leaflet.awesome-markers.css%22/%3E%0A%20%20%20%20%3Clink%20rel%3D%22stylesheet%22%20href%3D%22https%3A//cdn.jsdelivr.net/gh/python-visualization/folium/folium/templates/leaflet.awesome.rotate.min.css%22/%3E%0A%20%20%20%20%0A%20%20%20%20%20%20%20%20%20%20%20%20%3Cmeta%20name%3D%22viewport%22%20content%3D%22width%3Ddevice-width%2C%0A%20%20%20%20%20%20%20%20%20%20%20%20%20%20%20%20initial-scale%3D1.0%2C%20maximum-scale%3D1.0%2C%20user-scalable%3Dno%22%20/%3E%0A%20%20%20%20%20%20%20%20%20%20%20%20%3Cstyle%3E%0A%20%20%20%20%20%20%20%20%20%20%20%20%20%20%20%20%23map_d33f2d5d2a1b4f52a56feedca7f7f4ae%20%7B%0A%20%20%20%20%20%20%20%20%20%20%20%20%20%20%20%20%20%20%20%20position%3A%20relative%3B%0A%20%20%20%20%20%20%20%20%20%20%20%20%20%20%20%20%20%20%20%20width%3A%20100.0%25%3B%0A%20%20%20%20%20%20%20%20%20%20%20%20%20%20%20%20%20%20%20%20height%3A%20100.0%25%3B%0A%20%20%20%20%20%20%20%20%20%20%20%20%20%20%20%20%20%20%20%20left%3A%200.0%25%3B%0A%20%20%20%20%20%20%20%20%20%20%20%20%20%20%20%20%20%20%20%20top%3A%200.0%25%3B%0A%20%20%20%20%20%20%20%20%20%20%20%20%20%20%20%20%7D%0A%20%20%20%20%20%20%20%20%20%20%20%20%3C/style%3E%0A%20%20%20%20%20%20%20%20%0A%3C/head%3E%0A%3Cbody%3E%20%20%20%20%0A%20%20%20%20%0A%20%20%20%20%20%20%20%20%20%20%20%20%3Cdiv%20class%3D%22folium-map%22%20id%3D%22map_d33f2d5d2a1b4f52a56feedca7f7f4ae%22%20%3E%3C/div%3E%0A%20%20%20%20%20%20%20%20%0A%3C/body%3E%0A%3Cscript%3E%20%20%20%20%0A%20%20%20%20%0A%20%20%20%20%20%20%20%20%20%20%20%20var%20map_d33f2d5d2a1b4f52a56feedca7f7f4ae%20%3D%20L.map%28%0A%20%20%20%20%20%20%20%20%20%20%20%20%20%20%20%20%22map_d33f2d5d2a1b4f52a56feedca7f7f4ae%22%2C%0A%20%20%20%20%20%20%20%20%20%20%20%20%20%20%20%20%7B%0A%20%20%20%20%20%20%20%20%20%20%20%20%20%20%20%20%20%20%20%20center%3A%20%5B-8.0584933%2C%20-34.8848193%5D%2C%0A%20%20%20%20%20%20%20%20%20%20%20%20%20%20%20%20%20%20%20%20crs%3A%20L.CRS.EPSG3857%2C%0A%20%20%20%20%20%20%20%20%20%20%20%20%20%20%20%20%20%20%20%20zoom%3A%2010%2C%0A%20%20%20%20%20%20%20%20%20%20%20%20%20%20%20%20%20%20%20%20zoomControl%3A%20true%2C%0A%20%20%20%20%20%20%20%20%20%20%20%20%20%20%20%20%20%20%20%20preferCanvas%3A%20false%2C%0A%20%20%20%20%20%20%20%20%20%20%20%20%20%20%20%20%7D%0A%20%20%20%20%20%20%20%20%20%20%20%20%29%3B%0A%0A%20%20%20%20%20%20%20%20%20%20%20%20%0A%0A%20%20%20%20%20%20%20%20%0A%20%20%20%20%0A%20%20%20%20%20%20%20%20%20%20%20%20var%20tile_layer_3901bfccfbb54d61af3b9c61ef853a86%20%3D%20L.tileLayer%28%0A%20%20%20%20%20%20%20%20%20%20%20%20%20%20%20%20%22https%3A//%7Bs%7D.tile.openstreetmap.org/%7Bz%7D/%7Bx%7D/%7By%7D.png%22%2C%0A%20%20%20%20%20%20%20%20%20%20%20%20%20%20%20%20%7B%22attribution%22%3A%20%22Data%20by%20%5Cu0026copy%3B%20%5Cu003ca%20href%3D%5C%22http%3A//openstreetmap.org%5C%22%5Cu003eOpenStreetMap%5Cu003c/a%5Cu003e%2C%20under%20%5Cu003ca%20href%3D%5C%22http%3A//www.openstreetmap.org/copyright%5C%22%5Cu003eODbL%5Cu003c/a%5Cu003e.%22%2C%20%22detectRetina%22%3A%20false%2C%20%22maxNativeZoom%22%3A%2018%2C%20%22maxZoom%22%3A%2018%2C%20%22minZoom%22%3A%200%2C%20%22noWrap%22%3A%20false%2C%20%22opacity%22%3A%201%2C%20%22subdomains%22%3A%20%22abc%22%2C%20%22tms%22%3A%20false%7D%0A%20%20%20%20%20%20%20%20%20%20%20%20%29.addTo%28map_d33f2d5d2a1b4f52a56feedca7f7f4ae%29%3B%0A%20%20%20%20%20%20%20%20%0A%20%20%20%20%0A%20%20%20%20%20%20%20%20%20%20%20%20var%20circle_marker_969c8964641e48d59d35c746c6bc0b30%20%3D%20L.circleMarker%28%0A%20%20%20%20%20%20%20%20%20%20%20%20%20%20%20%20%5B-8.0634002%2C%20-34.8736694%5D%2C%0A%20%20%20%20%20%20%20%20%20%20%20%20%20%20%20%20%7B%22bubblingMouseEvents%22%3A%20true%2C%20%22color%22%3A%20%22%22%2C%20%22dashArray%22%3A%20null%2C%20%22dashOffset%22%3A%20null%2C%20%22fill%22%3A%20true%2C%20%22fillColor%22%3A%20%22red%22%2C%20%22fillOpacity%22%3A%200.6%2C%20%22fillRule%22%3A%20%22evenodd%22%2C%20%22lineCap%22%3A%20%22round%22%2C%20%22lineJoin%22%3A%20%22round%22%2C%20%22opacity%22%3A%201.0%2C%20%22radius%22%3A%2010%2C%20%22stroke%22%3A%20true%2C%20%22weight%22%3A%203%7D%0A%20%20%20%20%20%20%20%20%20%20%20%20%29.addTo%28map_d33f2d5d2a1b4f52a56feedca7f7f4ae%29%3B%0A%20%20%20%20%20%20%20%20%0A%20%20%20%20%0A%20%20%20%20%20%20%20%20%20%20%20%20var%20circle_marker_ebf8674a76b64536a2604381c94333a6%20%3D%20L.circleMarker%28%0A%20%20%20%20%20%20%20%20%20%20%20%20%20%20%20%20%5B-8.0635787%2C%20-34.873533%5D%2C%0A%20%20%20%20%20%20%20%20%20%20%20%20%20%20%20%20%7B%22bubblingMouseEvents%22%3A%20true%2C%20%22color%22%3A%20%22%22%2C%20%22dashArray%22%3A%20null%2C%20%22dashOffset%22%3A%20null%2C%20%22fill%22%3A%20true%2C%20%22fillColor%22%3A%20%22red%22%2C%20%22fillOpacity%22%3A%200.6%2C%20%22fillRule%22%3A%20%22evenodd%22%2C%20%22lineCap%22%3A%20%22round%22%2C%20%22lineJoin%22%3A%20%22round%22%2C%20%22opacity%22%3A%201.0%2C%20%22radius%22%3A%2010%2C%20%22stroke%22%3A%20true%2C%20%22weight%22%3A%203%7D%0A%20%20%20%20%20%20%20%20%20%20%20%20%29.addTo%28map_d33f2d5d2a1b4f52a56feedca7f7f4ae%29%3B%0A%20%20%20%20%20%20%20%20%0A%20%20%20%20%0A%20%20%20%20%20%20%20%20%20%20%20%20var%20circle_marker_2da39c9a8ed4470ebc0334e582291a9c%20%3D%20L.circleMarker%28%0A%20%20%20%20%20%20%20%20%20%20%20%20%20%20%20%20%5B-8.0887916%2C%20-34.8852251%5D%2C%0A%20%20%20%20%20%20%20%20%20%20%20%20%20%20%20%20%7B%22bubblingMouseEvents%22%3A%20true%2C%20%22color%22%3A%20%22%22%2C%20%22dashArray%22%3A%20null%2C%20%22dashOffset%22%3A%20null%2C%20%22fill%22%3A%20true%2C%20%22fillColor%22%3A%20%22red%22%2C%20%22fillOpacity%22%3A%200.6%2C%20%22fillRule%22%3A%20%22evenodd%22%2C%20%22lineCap%22%3A%20%22round%22%2C%20%22lineJoin%22%3A%20%22round%22%2C%20%22opacity%22%3A%201.0%2C%20%22radius%22%3A%2010%2C%20%22stroke%22%3A%20true%2C%20%22weight%22%3A%203%7D%0A%20%20%20%20%20%20%20%20%20%20%20%20%29.addTo%28map_d33f2d5d2a1b4f52a56feedca7f7f4ae%29%3B%0A%20%20%20%20%20%20%20%20%0A%20%20%20%20%0A%20%20%20%20%20%20%20%20%20%20%20%20var%20circle_marker_f9d978beaf924526afb1fff162a5777a%20%3D%20L.circleMarker%28%0A%20%20%20%20%20%20%20%20%20%20%20%20%20%20%20%20%5B-8.1214306%2C%20-34.8990221%5D%2C%0A%20%20%20%20%20%20%20%20%20%20%20%20%20%20%20%20%7B%22bubblingMouseEvents%22%3A%20true%2C%20%22color%22%3A%20%22%22%2C%20%22dashArray%22%3A%20null%2C%20%22dashOffset%22%3A%20null%2C%20%22fill%22%3A%20true%2C%20%22fillColor%22%3A%20%22red%22%2C%20%22fillOpacity%22%3A%200.6%2C%20%22fillRule%22%3A%20%22evenodd%22%2C%20%22lineCap%22%3A%20%22round%22%2C%20%22lineJoin%22%3A%20%22round%22%2C%20%22opacity%22%3A%201.0%2C%20%22radius%22%3A%2010%2C%20%22stroke%22%3A%20true%2C%20%22weight%22%3A%203%7D%0A%20%20%20%20%20%20%20%20%20%20%20%20%29.addTo%28map_d33f2d5d2a1b4f52a56feedca7f7f4ae%29%3B%0A%20%20%20%20%20%20%20%20%0A%20%20%20%20%0A%20%20%20%20%20%20%20%20%20%20%20%20var%20circle_marker_5d0db462c26d444883fcf0950a5a0c92%20%3D%20L.circleMarker%28%0A%20%20%20%20%20%20%20%20%20%20%20%20%20%20%20%20%5B-8.1052672%2C%20-34.889605%5D%2C%0A%20%20%20%20%20%20%20%20%20%20%20%20%20%20%20%20%7B%22bubblingMouseEvents%22%3A%20true%2C%20%22color%22%3A%20%22%22%2C%20%22dashArray%22%3A%20null%2C%20%22dashOffset%22%3A%20null%2C%20%22fill%22%3A%20true%2C%20%22fillColor%22%3A%20%22red%22%2C%20%22fillOpacity%22%3A%200.6%2C%20%22fillRule%22%3A%20%22evenodd%22%2C%20%22lineCap%22%3A%20%22round%22%2C%20%22lineJoin%22%3A%20%22round%22%2C%20%22opacity%22%3A%201.0%2C%20%22radius%22%3A%2010%2C%20%22stroke%22%3A%20true%2C%20%22weight%22%3A%203%7D%0A%20%20%20%20%20%20%20%20%20%20%20%20%29.addTo%28map_d33f2d5d2a1b4f52a56feedca7f7f4ae%29%3B%0A%20%20%20%20%20%20%20%20%0A%20%20%20%20%0A%20%20%20%20%20%20%20%20%20%20%20%20var%20circle_marker_fbfa6a78ba8e4047817689e4fc528cd5%20%3D%20L.circleMarker%28%0A%20%20%20%20%20%20%20%20%20%20%20%20%20%20%20%20%5B-8.063993%2C%20-34.9357505%5D%2C%0A%20%20%20%20%20%20%20%20%20%20%20%20%20%20%20%20%7B%22bubblingMouseEvents%22%3A%20true%2C%20%22color%22%3A%20%22%22%2C%20%22dashArray%22%3A%20null%2C%20%22dashOffset%22%3A%20null%2C%20%22fill%22%3A%20true%2C%20%22fillColor%22%3A%20%22red%22%2C%20%22fillOpacity%22%3A%200.6%2C%20%22fillRule%22%3A%20%22evenodd%22%2C%20%22lineCap%22%3A%20%22round%22%2C%20%22lineJoin%22%3A%20%22round%22%2C%20%22opacity%22%3A%201.0%2C%20%22radius%22%3A%2010%2C%20%22stroke%22%3A%20true%2C%20%22weight%22%3A%203%7D%0A%20%20%20%20%20%20%20%20%20%20%20%20%29.addTo%28map_d33f2d5d2a1b4f52a56feedca7f7f4ae%29%3B%0A%20%20%20%20%20%20%20%20%0A%20%20%20%20%0A%20%20%20%20%20%20%20%20%20%20%20%20var%20circle_marker_d05d0638395a40b2acfd941056bd1edb%20%3D%20L.circleMarker%28%0A%20%20%20%20%20%20%20%20%20%20%20%20%20%20%20%20%5B-8.0641421%2C%20-34.9358171%5D%2C%0A%20%20%20%20%20%20%20%20%20%20%20%20%20%20%20%20%7B%22bubblingMouseEvents%22%3A%20true%2C%20%22color%22%3A%20%22%22%2C%20%22dashArray%22%3A%20null%2C%20%22dashOffset%22%3A%20null%2C%20%22fill%22%3A%20true%2C%20%22fillColor%22%3A%20%22red%22%2C%20%22fillOpacity%22%3A%200.6%2C%20%22fillRule%22%3A%20%22evenodd%22%2C%20%22lineCap%22%3A%20%22round%22%2C%20%22lineJoin%22%3A%20%22round%22%2C%20%22opacity%22%3A%201.0%2C%20%22radius%22%3A%2010%2C%20%22stroke%22%3A%20true%2C%20%22weight%22%3A%203%7D%0A%20%20%20%20%20%20%20%20%20%20%20%20%29.addTo%28map_d33f2d5d2a1b4f52a56feedca7f7f4ae%29%3B%0A%20%20%20%20%20%20%20%20%0A%20%20%20%20%0A%20%20%20%20%20%20%20%20%20%20%20%20var%20circle_marker_4214237153d34bad9a272f331fe9c728%20%3D%20L.circleMarker%28%0A%20%20%20%20%20%20%20%20%20%20%20%20%20%20%20%20%5B-8.061165%2C%20-34.8832943%5D%2C%0A%20%20%20%20%20%20%20%20%20%20%20%20%20%20%20%20%7B%22bubblingMouseEvents%22%3A%20true%2C%20%22color%22%3A%20%22%22%2C%20%22dashArray%22%3A%20null%2C%20%22dashOffset%22%3A%20null%2C%20%22fill%22%3A%20true%2C%20%22fillColor%22%3A%20%22red%22%2C%20%22fillOpacity%22%3A%200.6%2C%20%22fillRule%22%3A%20%22evenodd%22%2C%20%22lineCap%22%3A%20%22round%22%2C%20%22lineJoin%22%3A%20%22round%22%2C%20%22opacity%22%3A%201.0%2C%20%22radius%22%3A%2010%2C%20%22stroke%22%3A%20true%2C%20%22weight%22%3A%203%7D%0A%20%20%20%20%20%20%20%20%20%20%20%20%29.addTo%28map_d33f2d5d2a1b4f52a56feedca7f7f4ae%29%3B%0A%20%20%20%20%20%20%20%20%0A%20%20%20%20%0A%20%20%20%20%20%20%20%20%20%20%20%20var%20circle_marker_fa2396c1dd7a482fb4325f60d2dd2ef7%20%3D%20L.circleMarker%28%0A%20%20%20%20%20%20%20%20%20%20%20%20%20%20%20%20%5B-8.0626244%2C%20-34.8973606%5D%2C%0A%20%20%20%20%20%20%20%20%20%20%20%20%20%20%20%20%7B%22bubblingMouseEvents%22%3A%20true%2C%20%22color%22%3A%20%22%22%2C%20%22dashArray%22%3A%20null%2C%20%22dashOffset%22%3A%20null%2C%20%22fill%22%3A%20true%2C%20%22fillColor%22%3A%20%22red%22%2C%20%22fillOpacity%22%3A%200.6%2C%20%22fillRule%22%3A%20%22evenodd%22%2C%20%22lineCap%22%3A%20%22round%22%2C%20%22lineJoin%22%3A%20%22round%22%2C%20%22opacity%22%3A%201.0%2C%20%22radius%22%3A%2010%2C%20%22stroke%22%3A%20true%2C%20%22weight%22%3A%203%7D%0A%20%20%20%20%20%20%20%20%20%20%20%20%29.addTo%28map_d33f2d5d2a1b4f52a56feedca7f7f4ae%29%3B%0A%20%20%20%20%20%20%20%20%0A%20%20%20%20%0A%20%20%20%20%20%20%20%20%20%20%20%20var%20circle_marker_53fd20355a4b43b7bd254ba950d6a611%20%3D%20L.circleMarker%28%0A%20%20%20%20%20%20%20%20%20%20%20%20%20%20%20%20%5B-8.1151484%2C%20-34.9006181%5D%2C%0A%20%20%20%20%20%20%20%20%20%20%20%20%20%20%20%20%7B%22bubblingMouseEvents%22%3A%20true%2C%20%22color%22%3A%20%22%22%2C%20%22dashArray%22%3A%20null%2C%20%22dashOffset%22%3A%20null%2C%20%22fill%22%3A%20true%2C%20%22fillColor%22%3A%20%22red%22%2C%20%22fillOpacity%22%3A%200.6%2C%20%22fillRule%22%3A%20%22evenodd%22%2C%20%22lineCap%22%3A%20%22round%22%2C%20%22lineJoin%22%3A%20%22round%22%2C%20%22opacity%22%3A%201.0%2C%20%22radius%22%3A%2010%2C%20%22stroke%22%3A%20true%2C%20%22weight%22%3A%203%7D%0A%20%20%20%20%20%20%20%20%20%20%20%20%29.addTo%28map_d33f2d5d2a1b4f52a56feedca7f7f4ae%29%3B%0A%20%20%20%20%20%20%20%20%0A%20%20%20%20%0A%20%20%20%20%20%20%20%20%20%20%20%20var%20circle_marker_c5f34fc3d0c4440b84e765f7cccd9f56%20%3D%20L.circleMarker%28%0A%20%20%20%20%20%20%20%20%20%20%20%20%20%20%20%20%5B-8.0516928%2C%20-34.8950315%5D%2C%0A%20%20%20%20%20%20%20%20%20%20%20%20%20%20%20%20%7B%22bubblingMouseEvents%22%3A%20true%2C%20%22color%22%3A%20%22%22%2C%20%22dashArray%22%3A%20null%2C%20%22dashOffset%22%3A%20null%2C%20%22fill%22%3A%20true%2C%20%22fillColor%22%3A%20%22red%22%2C%20%22fillOpacity%22%3A%200.6%2C%20%22fillRule%22%3A%20%22evenodd%22%2C%20%22lineCap%22%3A%20%22round%22%2C%20%22lineJoin%22%3A%20%22round%22%2C%20%22opacity%22%3A%201.0%2C%20%22radius%22%3A%2010%2C%20%22stroke%22%3A%20true%2C%20%22weight%22%3A%203%7D%0A%20%20%20%20%20%20%20%20%20%20%20%20%29.addTo%28map_d33f2d5d2a1b4f52a56feedca7f7f4ae%29%3B%0A%20%20%20%20%20%20%20%20%0A%20%20%20%20%0A%20%20%20%20%20%20%20%20%20%20%20%20var%20circle_marker_52c8a37b5036437681a84df02ff32efa%20%3D%20L.circleMarker%28%0A%20%20%20%20%20%20%20%20%20%20%20%20%20%20%20%20%5B-8.0919008%2C%20-34.8820881%5D%2C%0A%20%20%20%20%20%20%20%20%20%20%20%20%20%20%20%20%7B%22bubblingMouseEvents%22%3A%20true%2C%20%22color%22%3A%20%22%22%2C%20%22dashArray%22%3A%20null%2C%20%22dashOffset%22%3A%20null%2C%20%22fill%22%3A%20true%2C%20%22fillColor%22%3A%20%22red%22%2C%20%22fillOpacity%22%3A%200.6%2C%20%22fillRule%22%3A%20%22evenodd%22%2C%20%22lineCap%22%3A%20%22round%22%2C%20%22lineJoin%22%3A%20%22round%22%2C%20%22opacity%22%3A%201.0%2C%20%22radius%22%3A%2010%2C%20%22stroke%22%3A%20true%2C%20%22weight%22%3A%203%7D%0A%20%20%20%20%20%20%20%20%20%20%20%20%29.addTo%28map_d33f2d5d2a1b4f52a56feedca7f7f4ae%29%3B%0A%20%20%20%20%20%20%20%20%0A%20%20%20%20%0A%20%20%20%20%20%20%20%20%20%20%20%20var%20circle_marker_792c0daef9f04bc99bf50261386a1b27%20%3D%20L.circleMarker%28%0A%20%20%20%20%20%20%20%20%20%20%20%20%20%20%20%20%5B-8.1273728%2C%20-34.9155178%5D%2C%0A%20%20%20%20%20%20%20%20%20%20%20%20%20%20%20%20%7B%22bubblingMouseEvents%22%3A%20true%2C%20%22color%22%3A%20%22%22%2C%20%22dashArray%22%3A%20null%2C%20%22dashOffset%22%3A%20null%2C%20%22fill%22%3A%20true%2C%20%22fillColor%22%3A%20%22red%22%2C%20%22fillOpacity%22%3A%200.6%2C%20%22fillRule%22%3A%20%22evenodd%22%2C%20%22lineCap%22%3A%20%22round%22%2C%20%22lineJoin%22%3A%20%22round%22%2C%20%22opacity%22%3A%201.0%2C%20%22radius%22%3A%2010%2C%20%22stroke%22%3A%20true%2C%20%22weight%22%3A%203%7D%0A%20%20%20%20%20%20%20%20%20%20%20%20%29.addTo%28map_d33f2d5d2a1b4f52a56feedca7f7f4ae%29%3B%0A%20%20%20%20%20%20%20%20%0A%20%20%20%20%0A%20%20%20%20%20%20%20%20%20%20%20%20var%20circle_marker_e4b9bf1e8b854fc1844e62d8d21753f6%20%3D%20L.circleMarker%28%0A%20%20%20%20%20%20%20%20%20%20%20%20%20%20%20%20%5B-8.1003544%2C%20-34.9282125%5D%2C%0A%20%20%20%20%20%20%20%20%20%20%20%20%20%20%20%20%7B%22bubblingMouseEvents%22%3A%20true%2C%20%22color%22%3A%20%22%22%2C%20%22dashArray%22%3A%20null%2C%20%22dashOffset%22%3A%20null%2C%20%22fill%22%3A%20true%2C%20%22fillColor%22%3A%20%22red%22%2C%20%22fillOpacity%22%3A%200.6%2C%20%22fillRule%22%3A%20%22evenodd%22%2C%20%22lineCap%22%3A%20%22round%22%2C%20%22lineJoin%22%3A%20%22round%22%2C%20%22opacity%22%3A%201.0%2C%20%22radius%22%3A%2010%2C%20%22stroke%22%3A%20true%2C%20%22weight%22%3A%203%7D%0A%20%20%20%20%20%20%20%20%20%20%20%20%29.addTo%28map_d33f2d5d2a1b4f52a56feedca7f7f4ae%29%3B%0A%20%20%20%20%20%20%20%20%0A%20%20%20%20%0A%20%20%20%20%20%20%20%20%20%20%20%20var%20circle_marker_2c9659a1b2c74ba3a32cd5f1931267c6%20%3D%20L.circleMarker%28%0A%20%20%20%20%20%20%20%20%20%20%20%20%20%20%20%20%5B-8.100547%2C%20-34.9280824%5D%2C%0A%20%20%20%20%20%20%20%20%20%20%20%20%20%20%20%20%7B%22bubblingMouseEvents%22%3A%20true%2C%20%22color%22%3A%20%22%22%2C%20%22dashArray%22%3A%20null%2C%20%22dashOffset%22%3A%20null%2C%20%22fill%22%3A%20true%2C%20%22fillColor%22%3A%20%22red%22%2C%20%22fillOpacity%22%3A%200.6%2C%20%22fillRule%22%3A%20%22evenodd%22%2C%20%22lineCap%22%3A%20%22round%22%2C%20%22lineJoin%22%3A%20%22round%22%2C%20%22opacity%22%3A%201.0%2C%20%22radius%22%3A%2010%2C%20%22stroke%22%3A%20true%2C%20%22weight%22%3A%203%7D%0A%20%20%20%20%20%20%20%20%20%20%20%20%29.addTo%28map_d33f2d5d2a1b4f52a56feedca7f7f4ae%29%3B%0A%20%20%20%20%20%20%20%20%0A%20%20%20%20%0A%20%20%20%20%20%20%20%20%20%20%20%20var%20circle_marker_d08d3fbed8324db1bca8f911e263fc7c%20%3D%20L.circleMarker%28%0A%20%20%20%20%20%20%20%20%20%20%20%20%20%20%20%20%5B-8.0277621%2C%20-34.928001%5D%2C%0A%20%20%20%20%20%20%20%20%20%20%20%20%20%20%20%20%7B%22bubblingMouseEvents%22%3A%20true%2C%20%22color%22%3A%20%22%22%2C%20%22dashArray%22%3A%20null%2C%20%22dashOffset%22%3A%20null%2C%20%22fill%22%3A%20true%2C%20%22fillColor%22%3A%20%22red%22%2C%20%22fillOpacity%22%3A%200.6%2C%20%22fillRule%22%3A%20%22evenodd%22%2C%20%22lineCap%22%3A%20%22round%22%2C%20%22lineJoin%22%3A%20%22round%22%2C%20%22opacity%22%3A%201.0%2C%20%22radius%22%3A%2010%2C%20%22stroke%22%3A%20true%2C%20%22weight%22%3A%203%7D%0A%20%20%20%20%20%20%20%20%20%20%20%20%29.addTo%28map_d33f2d5d2a1b4f52a56feedca7f7f4ae%29%3B%0A%20%20%20%20%20%20%20%20%0A%20%20%20%20%0A%20%20%20%20%20%20%20%20%20%20%20%20var%20circle_marker_113cb2e32b754a81b9a6b8d06ec3971b%20%3D%20L.circleMarker%28%0A%20%20%20%20%20%20%20%20%20%20%20%20%20%20%20%20%5B-8.05671%2C%20-34.89797%5D%2C%0A%20%20%20%20%20%20%20%20%20%20%20%20%20%20%20%20%7B%22bubblingMouseEvents%22%3A%20true%2C%20%22color%22%3A%20%22%22%2C%20%22dashArray%22%3A%20null%2C%20%22dashOffset%22%3A%20null%2C%20%22fill%22%3A%20true%2C%20%22fillColor%22%3A%20%22red%22%2C%20%22fillOpacity%22%3A%200.6%2C%20%22fillRule%22%3A%20%22evenodd%22%2C%20%22lineCap%22%3A%20%22round%22%2C%20%22lineJoin%22%3A%20%22round%22%2C%20%22opacity%22%3A%201.0%2C%20%22radius%22%3A%2010%2C%20%22stroke%22%3A%20true%2C%20%22weight%22%3A%203%7D%0A%20%20%20%20%20%20%20%20%20%20%20%20%29.addTo%28map_d33f2d5d2a1b4f52a56feedca7f7f4ae%29%3B%0A%20%20%20%20%20%20%20%20%0A%20%20%20%20%0A%20%20%20%20%20%20%20%20%20%20%20%20var%20circle_marker_f60232a69dd842ed8fe5f4dee1ae2a13%20%3D%20L.circleMarker%28%0A%20%20%20%20%20%20%20%20%20%20%20%20%20%20%20%20%5B-8.0278685%2C%20-34.8929091%5D%2C%0A%20%20%20%20%20%20%20%20%20%20%20%20%20%20%20%20%7B%22bubblingMouseEvents%22%3A%20true%2C%20%22color%22%3A%20%22%22%2C%20%22dashArray%22%3A%20null%2C%20%22dashOffset%22%3A%20null%2C%20%22fill%22%3A%20true%2C%20%22fillColor%22%3A%20%22red%22%2C%20%22fillOpacity%22%3A%200.6%2C%20%22fillRule%22%3A%20%22evenodd%22%2C%20%22lineCap%22%3A%20%22round%22%2C%20%22lineJoin%22%3A%20%22round%22%2C%20%22opacity%22%3A%201.0%2C%20%22radius%22%3A%2010%2C%20%22stroke%22%3A%20true%2C%20%22weight%22%3A%203%7D%0A%20%20%20%20%20%20%20%20%20%20%20%20%29.addTo%28map_d33f2d5d2a1b4f52a56feedca7f7f4ae%29%3B%0A%20%20%20%20%20%20%20%20%0A%20%20%20%20%0A%20%20%20%20%20%20%20%20%20%20%20%20var%20circle_marker_98a8e6d0b72f40a5aa18fcc8efe647ff%20%3D%20L.circleMarker%28%0A%20%20%20%20%20%20%20%20%20%20%20%20%20%20%20%20%5B-8.06242%2C%20-34.91688%5D%2C%0A%20%20%20%20%20%20%20%20%20%20%20%20%20%20%20%20%7B%22bubblingMouseEvents%22%3A%20true%2C%20%22color%22%3A%20%22%22%2C%20%22dashArray%22%3A%20null%2C%20%22dashOffset%22%3A%20null%2C%20%22fill%22%3A%20true%2C%20%22fillColor%22%3A%20%22red%22%2C%20%22fillOpacity%22%3A%200.6%2C%20%22fillRule%22%3A%20%22evenodd%22%2C%20%22lineCap%22%3A%20%22round%22%2C%20%22lineJoin%22%3A%20%22round%22%2C%20%22opacity%22%3A%201.0%2C%20%22radius%22%3A%2010%2C%20%22stroke%22%3A%20true%2C%20%22weight%22%3A%203%7D%0A%20%20%20%20%20%20%20%20%20%20%20%20%29.addTo%28map_d33f2d5d2a1b4f52a56feedca7f7f4ae%29%3B%0A%20%20%20%20%20%20%20%20%0A%20%20%20%20%0A%20%20%20%20%20%20%20%20%20%20%20%20var%20circle_marker_cb5cbfeece52451f9b38fde005ddb651%20%3D%20L.circleMarker%28%0A%20%20%20%20%20%20%20%20%20%20%20%20%20%20%20%20%5B-8.05538%2C%20-34.90906%5D%2C%0A%20%20%20%20%20%20%20%20%20%20%20%20%20%20%20%20%7B%22bubblingMouseEvents%22%3A%20true%2C%20%22color%22%3A%20%22%22%2C%20%22dashArray%22%3A%20null%2C%20%22dashOffset%22%3A%20null%2C%20%22fill%22%3A%20true%2C%20%22fillColor%22%3A%20%22red%22%2C%20%22fillOpacity%22%3A%200.6%2C%20%22fillRule%22%3A%20%22evenodd%22%2C%20%22lineCap%22%3A%20%22round%22%2C%20%22lineJoin%22%3A%20%22round%22%2C%20%22opacity%22%3A%201.0%2C%20%22radius%22%3A%2010%2C%20%22stroke%22%3A%20true%2C%20%22weight%22%3A%203%7D%0A%20%20%20%20%20%20%20%20%20%20%20%20%29.addTo%28map_d33f2d5d2a1b4f52a56feedca7f7f4ae%29%3B%0A%20%20%20%20%20%20%20%20%0A%20%20%20%20%0A%20%20%20%20%20%20%20%20%20%20%20%20var%20circle_marker_6762107cbe6b40909f8698b5f6a146c0%20%3D%20L.circleMarker%28%0A%20%20%20%20%20%20%20%20%20%20%20%20%20%20%20%20%5B-8.0182744%2C%20-34.9283043%5D%2C%0A%20%20%20%20%20%20%20%20%20%20%20%20%20%20%20%20%7B%22bubblingMouseEvents%22%3A%20true%2C%20%22color%22%3A%20%22%22%2C%20%22dashArray%22%3A%20null%2C%20%22dashOffset%22%3A%20null%2C%20%22fill%22%3A%20true%2C%20%22fillColor%22%3A%20%22red%22%2C%20%22fillOpacity%22%3A%200.6%2C%20%22fillRule%22%3A%20%22evenodd%22%2C%20%22lineCap%22%3A%20%22round%22%2C%20%22lineJoin%22%3A%20%22round%22%2C%20%22opacity%22%3A%201.0%2C%20%22radius%22%3A%2010%2C%20%22stroke%22%3A%20true%2C%20%22weight%22%3A%203%7D%0A%20%20%20%20%20%20%20%20%20%20%20%20%29.addTo%28map_d33f2d5d2a1b4f52a56feedca7f7f4ae%29%3B%0A%20%20%20%20%20%20%20%20%0A%20%20%20%20%0A%20%20%20%20%20%20%20%20%20%20%20%20var%20circle_marker_15403f33d661484db6f33988569663a7%20%3D%20L.circleMarker%28%0A%20%20%20%20%20%20%20%20%20%20%20%20%20%20%20%20%5B-8.05216%2C%20-34.90217%5D%2C%0A%20%20%20%20%20%20%20%20%20%20%20%20%20%20%20%20%7B%22bubblingMouseEvents%22%3A%20true%2C%20%22color%22%3A%20%22%22%2C%20%22dashArray%22%3A%20null%2C%20%22dashOffset%22%3A%20null%2C%20%22fill%22%3A%20true%2C%20%22fillColor%22%3A%20%22red%22%2C%20%22fillOpacity%22%3A%200.6%2C%20%22fillRule%22%3A%20%22evenodd%22%2C%20%22lineCap%22%3A%20%22round%22%2C%20%22lineJoin%22%3A%20%22round%22%2C%20%22opacity%22%3A%201.0%2C%20%22radius%22%3A%2010%2C%20%22stroke%22%3A%20true%2C%20%22weight%22%3A%203%7D%0A%20%20%20%20%20%20%20%20%20%20%20%20%29.addTo%28map_d33f2d5d2a1b4f52a56feedca7f7f4ae%29%3B%0A%20%20%20%20%20%20%20%20%0A%20%20%20%20%0A%20%20%20%20%20%20%20%20%20%20%20%20var%20circle_marker_d498195132c4427d99eac5c26cbc6191%20%3D%20L.circleMarker%28%0A%20%20%20%20%20%20%20%20%20%20%20%20%20%20%20%20%5B-8.1215132%2C%20-34.9093425%5D%2C%0A%20%20%20%20%20%20%20%20%20%20%20%20%20%20%20%20%7B%22bubblingMouseEvents%22%3A%20true%2C%20%22color%22%3A%20%22%22%2C%20%22dashArray%22%3A%20null%2C%20%22dashOffset%22%3A%20null%2C%20%22fill%22%3A%20true%2C%20%22fillColor%22%3A%20%22red%22%2C%20%22fillOpacity%22%3A%200.6%2C%20%22fillRule%22%3A%20%22evenodd%22%2C%20%22lineCap%22%3A%20%22round%22%2C%20%22lineJoin%22%3A%20%22round%22%2C%20%22opacity%22%3A%201.0%2C%20%22radius%22%3A%2010%2C%20%22stroke%22%3A%20true%2C%20%22weight%22%3A%203%7D%0A%20%20%20%20%20%20%20%20%20%20%20%20%29.addTo%28map_d33f2d5d2a1b4f52a56feedca7f7f4ae%29%3B%0A%20%20%20%20%20%20%20%20%0A%20%20%20%20%0A%20%20%20%20%20%20%20%20%20%20%20%20var%20circle_marker_307edcbe9bea47a59453c25fd8a24ba2%20%3D%20L.circleMarker%28%0A%20%20%20%20%20%20%20%20%20%20%20%20%20%20%20%20%5B-8.1214297%2C%20-34.9098383%5D%2C%0A%20%20%20%20%20%20%20%20%20%20%20%20%20%20%20%20%7B%22bubblingMouseEvents%22%3A%20true%2C%20%22color%22%3A%20%22%22%2C%20%22dashArray%22%3A%20null%2C%20%22dashOffset%22%3A%20null%2C%20%22fill%22%3A%20true%2C%20%22fillColor%22%3A%20%22red%22%2C%20%22fillOpacity%22%3A%200.6%2C%20%22fillRule%22%3A%20%22evenodd%22%2C%20%22lineCap%22%3A%20%22round%22%2C%20%22lineJoin%22%3A%20%22round%22%2C%20%22opacity%22%3A%201.0%2C%20%22radius%22%3A%2010%2C%20%22stroke%22%3A%20true%2C%20%22weight%22%3A%203%7D%0A%20%20%20%20%20%20%20%20%20%20%20%20%29.addTo%28map_d33f2d5d2a1b4f52a56feedca7f7f4ae%29%3B%0A%20%20%20%20%20%20%20%20%0A%20%20%20%20%0A%20%20%20%20%20%20%20%20%20%20%20%20var%20circle_marker_3a0cbfda6c164254b5cb60f4366702d3%20%3D%20L.circleMarker%28%0A%20%20%20%20%20%20%20%20%20%20%20%20%20%20%20%20%5B-8.1362834%2C%20-34.9035808%5D%2C%0A%20%20%20%20%20%20%20%20%20%20%20%20%20%20%20%20%7B%22bubblingMouseEvents%22%3A%20true%2C%20%22color%22%3A%20%22%22%2C%20%22dashArray%22%3A%20null%2C%20%22dashOffset%22%3A%20null%2C%20%22fill%22%3A%20true%2C%20%22fillColor%22%3A%20%22red%22%2C%20%22fillOpacity%22%3A%200.6%2C%20%22fillRule%22%3A%20%22evenodd%22%2C%20%22lineCap%22%3A%20%22round%22%2C%20%22lineJoin%22%3A%20%22round%22%2C%20%22opacity%22%3A%201.0%2C%20%22radius%22%3A%2010%2C%20%22stroke%22%3A%20true%2C%20%22weight%22%3A%203%7D%0A%20%20%20%20%20%20%20%20%20%20%20%20%29.addTo%28map_d33f2d5d2a1b4f52a56feedca7f7f4ae%29%3B%0A%20%20%20%20%20%20%20%20%0A%20%20%20%20%0A%20%20%20%20%20%20%20%20%20%20%20%20var%20circle_marker_7c3f0e01fa89438fb4edba08ba63a99f%20%3D%20L.circleMarker%28%0A%20%20%20%20%20%20%20%20%20%20%20%20%20%20%20%20%5B-8.1362834%2C%20-34.9035808%5D%2C%0A%20%20%20%20%20%20%20%20%20%20%20%20%20%20%20%20%7B%22bubblingMouseEvents%22%3A%20true%2C%20%22color%22%3A%20%22%22%2C%20%22dashArray%22%3A%20null%2C%20%22dashOffset%22%3A%20null%2C%20%22fill%22%3A%20true%2C%20%22fillColor%22%3A%20%22red%22%2C%20%22fillOpacity%22%3A%200.6%2C%20%22fillRule%22%3A%20%22evenodd%22%2C%20%22lineCap%22%3A%20%22round%22%2C%20%22lineJoin%22%3A%20%22round%22%2C%20%22opacity%22%3A%201.0%2C%20%22radius%22%3A%2010%2C%20%22stroke%22%3A%20true%2C%20%22weight%22%3A%203%7D%0A%20%20%20%20%20%20%20%20%20%20%20%20%29.addTo%28map_d33f2d5d2a1b4f52a56feedca7f7f4ae%29%3B%0A%20%20%20%20%20%20%20%20%0A%20%20%20%20%0A%20%20%20%20%20%20%20%20%20%20%20%20var%20circle_marker_af1449e6222342b0a8b168ccac96b687%20%3D%20L.circleMarker%28%0A%20%20%20%20%20%20%20%20%20%20%20%20%20%20%20%20%5B-8.0920388%2C%20-34.9614941%5D%2C%0A%20%20%20%20%20%20%20%20%20%20%20%20%20%20%20%20%7B%22bubblingMouseEvents%22%3A%20true%2C%20%22color%22%3A%20%22%22%2C%20%22dashArray%22%3A%20null%2C%20%22dashOffset%22%3A%20null%2C%20%22fill%22%3A%20true%2C%20%22fillColor%22%3A%20%22red%22%2C%20%22fillOpacity%22%3A%200.6%2C%20%22fillRule%22%3A%20%22evenodd%22%2C%20%22lineCap%22%3A%20%22round%22%2C%20%22lineJoin%22%3A%20%22round%22%2C%20%22opacity%22%3A%201.0%2C%20%22radius%22%3A%2010%2C%20%22stroke%22%3A%20true%2C%20%22weight%22%3A%203%7D%0A%20%20%20%20%20%20%20%20%20%20%20%20%29.addTo%28map_d33f2d5d2a1b4f52a56feedca7f7f4ae%29%3B%0A%20%20%20%20%20%20%20%20%0A%20%20%20%20%0A%20%20%20%20%20%20%20%20%20%20%20%20var%20circle_marker_091fe7e8a2c94f69acb317516316fa33%20%3D%20L.circleMarker%28%0A%20%20%20%20%20%20%20%20%20%20%20%20%20%20%20%20%5B-8.0811109%2C%20-34.9683544%5D%2C%0A%20%20%20%20%20%20%20%20%20%20%20%20%20%20%20%20%7B%22bubblingMouseEvents%22%3A%20true%2C%20%22color%22%3A%20%22%22%2C%20%22dashArray%22%3A%20null%2C%20%22dashOffset%22%3A%20null%2C%20%22fill%22%3A%20true%2C%20%22fillColor%22%3A%20%22red%22%2C%20%22fillOpacity%22%3A%200.6%2C%20%22fillRule%22%3A%20%22evenodd%22%2C%20%22lineCap%22%3A%20%22round%22%2C%20%22lineJoin%22%3A%20%22round%22%2C%20%22opacity%22%3A%201.0%2C%20%22radius%22%3A%2010%2C%20%22stroke%22%3A%20true%2C%20%22weight%22%3A%203%7D%0A%20%20%20%20%20%20%20%20%20%20%20%20%29.addTo%28map_d33f2d5d2a1b4f52a56feedca7f7f4ae%29%3B%0A%20%20%20%20%20%20%20%20%0A%20%20%20%20%0A%20%20%20%20%20%20%20%20%20%20%20%20var%20circle_marker_c62a2e56091047dfb04b4a5a63325225%20%3D%20L.circleMarker%28%0A%20%20%20%20%20%20%20%20%20%20%20%20%20%20%20%20%5B-8.08463%2C%20-34.92803%5D%2C%0A%20%20%20%20%20%20%20%20%20%20%20%20%20%20%20%20%7B%22bubblingMouseEvents%22%3A%20true%2C%20%22color%22%3A%20%22%22%2C%20%22dashArray%22%3A%20null%2C%20%22dashOffset%22%3A%20null%2C%20%22fill%22%3A%20true%2C%20%22fillColor%22%3A%20%22red%22%2C%20%22fillOpacity%22%3A%200.6%2C%20%22fillRule%22%3A%20%22evenodd%22%2C%20%22lineCap%22%3A%20%22round%22%2C%20%22lineJoin%22%3A%20%22round%22%2C%20%22opacity%22%3A%201.0%2C%20%22radius%22%3A%2010%2C%20%22stroke%22%3A%20true%2C%20%22weight%22%3A%203%7D%0A%20%20%20%20%20%20%20%20%20%20%20%20%29.addTo%28map_d33f2d5d2a1b4f52a56feedca7f7f4ae%29%3B%0A%20%20%20%20%20%20%20%20%0A%20%20%20%20%0A%20%20%20%20%20%20%20%20%20%20%20%20var%20circle_marker_95e99882c7424f0f932127b657d11d41%20%3D%20L.circleMarker%28%0A%20%20%20%20%20%20%20%20%20%20%20%20%20%20%20%20%5B-8.06268%2C%20-34.89733%5D%2C%0A%20%20%20%20%20%20%20%20%20%20%20%20%20%20%20%20%7B%22bubblingMouseEvents%22%3A%20true%2C%20%22color%22%3A%20%22%22%2C%20%22dashArray%22%3A%20null%2C%20%22dashOffset%22%3A%20null%2C%20%22fill%22%3A%20true%2C%20%22fillColor%22%3A%20%22red%22%2C%20%22fillOpacity%22%3A%200.6%2C%20%22fillRule%22%3A%20%22evenodd%22%2C%20%22lineCap%22%3A%20%22round%22%2C%20%22lineJoin%22%3A%20%22round%22%2C%20%22opacity%22%3A%201.0%2C%20%22radius%22%3A%2010%2C%20%22stroke%22%3A%20true%2C%20%22weight%22%3A%203%7D%0A%20%20%20%20%20%20%20%20%20%20%20%20%29.addTo%28map_d33f2d5d2a1b4f52a56feedca7f7f4ae%29%3B%0A%20%20%20%20%20%20%20%20%0A%20%20%20%20%0A%20%20%20%20%20%20%20%20%20%20%20%20var%20circle_4d5436b707614166a837f436a6b906ff%20%3D%20L.circle%28%0A%20%20%20%20%20%20%20%20%20%20%20%20%20%20%20%20%5B-8.0941474%2C%20-34.9284115%5D%2C%0A%20%20%20%20%20%20%20%20%20%20%20%20%20%20%20%20%7B%22bubblingMouseEvents%22%3A%20true%2C%20%22color%22%3A%20%22%233186cc%22%2C%20%22dashArray%22%3A%20null%2C%20%22dashOffset%22%3A%20null%2C%20%22fill%22%3A%20true%2C%20%22fillColor%22%3A%20%22%233186cc%22%2C%20%22fillOpacity%22%3A%200.2%2C%20%22fillRule%22%3A%20%22evenodd%22%2C%20%22lineCap%22%3A%20%22round%22%2C%20%22lineJoin%22%3A%20%22round%22%2C%20%22opacity%22%3A%201.0%2C%20%22radius%22%3A%20800%2C%20%22stroke%22%3A%20true%2C%20%22weight%22%3A%203%7D%0A%20%20%20%20%20%20%20%20%20%20%20%20%29.addTo%28map_d33f2d5d2a1b4f52a56feedca7f7f4ae%29%3B%0A%20%20%20%20%20%20%20%20%0A%20%20%20%20%0A%20%20%20%20%20%20%20%20var%20popup_d5f9eb167c964e65b72250bc89a399e2%20%3D%20L.popup%28%7B%22maxWidth%22%3A%20%22100%25%22%7D%29%3B%0A%0A%20%20%20%20%20%20%20%20%0A%20%20%20%20%20%20%20%20%20%20%20%20var%20html_175658c659904b4ea37eefd3787367fe%20%3D%20%24%28%60%3Cdiv%20id%3D%22html_175658c659904b4ea37eefd3787367fe%22%20style%3D%22width%3A%20100.0%25%3B%20height%3A%20100.0%25%3B%22%3EAreias%3C/div%3E%60%29%5B0%5D%3B%0A%20%20%20%20%20%20%20%20%20%20%20%20popup_d5f9eb167c964e65b72250bc89a399e2.setContent%28html_175658c659904b4ea37eefd3787367fe%29%3B%0A%20%20%20%20%20%20%20%20%0A%0A%20%20%20%20%20%20%20%20circle_4d5436b707614166a837f436a6b906ff.bindPopup%28popup_d5f9eb167c964e65b72250bc89a399e2%29%0A%20%20%20%20%20%20%20%20%3B%0A%0A%20%20%20%20%20%20%20%20%0A%20%20%20%20%0A%20%20%20%20%0A%20%20%20%20%20%20%20%20%20%20%20%20var%20circle_9818914202c34489a91b0ceec64f1e66%20%3D%20L.circle%28%0A%20%20%20%20%20%20%20%20%20%20%20%20%20%20%20%20%5B-8.0632498%2C%20-34.8727071%5D%2C%0A%20%20%20%20%20%20%20%20%20%20%20%20%20%20%20%20%7B%22bubblingMouseEvents%22%3A%20true%2C%20%22color%22%3A%20%22%233186cc%22%2C%20%22dashArray%22%3A%20null%2C%20%22dashOffset%22%3A%20null%2C%20%22fill%22%3A%20true%2C%20%22fillColor%22%3A%20%22%233186cc%22%2C%20%22fillOpacity%22%3A%200.2%2C%20%22fillRule%22%3A%20%22evenodd%22%2C%20%22lineCap%22%3A%20%22round%22%2C%20%22lineJoin%22%3A%20%22round%22%2C%20%22opacity%22%3A%201.0%2C%20%22radius%22%3A%20800%2C%20%22stroke%22%3A%20true%2C%20%22weight%22%3A%203%7D%0A%20%20%20%20%20%20%20%20%20%20%20%20%29.addTo%28map_d33f2d5d2a1b4f52a56feedca7f7f4ae%29%3B%0A%20%20%20%20%20%20%20%20%0A%20%20%20%20%0A%20%20%20%20%20%20%20%20var%20popup_00dfb57ee13f421e92d48c5b2e6b1f77%20%3D%20L.popup%28%7B%22maxWidth%22%3A%20%22100%25%22%7D%29%3B%0A%0A%20%20%20%20%20%20%20%20%0A%20%20%20%20%20%20%20%20%20%20%20%20var%20html_036b155f7caa468280d6fd0cfbe80223%20%3D%20%24%28%60%3Cdiv%20id%3D%22html_036b155f7caa468280d6fd0cfbe80223%22%20style%3D%22width%3A%20100.0%25%3B%20height%3A%20100.0%25%3B%22%3EBairro%20do%20Recife%3C/div%3E%60%29%5B0%5D%3B%0A%20%20%20%20%20%20%20%20%20%20%20%20popup_00dfb57ee13f421e92d48c5b2e6b1f77.setContent%28html_036b155f7caa468280d6fd0cfbe80223%29%3B%0A%20%20%20%20%20%20%20%20%0A%0A%20%20%20%20%20%20%20%20circle_9818914202c34489a91b0ceec64f1e66.bindPopup%28popup_00dfb57ee13f421e92d48c5b2e6b1f77%29%0A%20%20%20%20%20%20%20%20%3B%0A%0A%20%20%20%20%20%20%20%20%0A%20%20%20%20%0A%20%20%20%20%0A%20%20%20%20%20%20%20%20%20%20%20%20var%20circle_60d1121e5f534748ab0428304ed2eb39%20%3D%20L.circle%28%0A%20%20%20%20%20%20%20%20%20%20%20%20%20%20%20%20%5B-8.1235027%2C%20-34.9033955%5D%2C%0A%20%20%20%20%20%20%20%20%20%20%20%20%20%20%20%20%7B%22bubblingMouseEvents%22%3A%20true%2C%20%22color%22%3A%20%22%233186cc%22%2C%20%22dashArray%22%3A%20null%2C%20%22dashOffset%22%3A%20null%2C%20%22fill%22%3A%20true%2C%20%22fillColor%22%3A%20%22%233186cc%22%2C%20%22fillOpacity%22%3A%200.2%2C%20%22fillRule%22%3A%20%22evenodd%22%2C%20%22lineCap%22%3A%20%22round%22%2C%20%22lineJoin%22%3A%20%22round%22%2C%20%22opacity%22%3A%201.0%2C%20%22radius%22%3A%20800%2C%20%22stroke%22%3A%20true%2C%20%22weight%22%3A%203%7D%0A%20%20%20%20%20%20%20%20%20%20%20%20%29.addTo%28map_d33f2d5d2a1b4f52a56feedca7f7f4ae%29%3B%0A%20%20%20%20%20%20%20%20%0A%20%20%20%20%0A%20%20%20%20%20%20%20%20var%20popup_e081406d0e6e4d89a7b23721f90bda29%20%3D%20L.popup%28%7B%22maxWidth%22%3A%20%22100%25%22%7D%29%3B%0A%0A%20%20%20%20%20%20%20%20%0A%20%20%20%20%20%20%20%20%20%20%20%20var%20html_6a14da58a0844319a959e81a579d0d38%20%3D%20%24%28%60%3Cdiv%20id%3D%22html_6a14da58a0844319a959e81a579d0d38%22%20style%3D%22width%3A%20100.0%25%3B%20height%3A%20100.0%25%3B%22%3EBoa%20Viagem%3C/div%3E%60%29%5B0%5D%3B%0A%20%20%20%20%20%20%20%20%20%20%20%20popup_e081406d0e6e4d89a7b23721f90bda29.setContent%28html_6a14da58a0844319a959e81a579d0d38%29%3B%0A%20%20%20%20%20%20%20%20%0A%0A%20%20%20%20%20%20%20%20circle_60d1121e5f534748ab0428304ed2eb39.bindPopup%28popup_e081406d0e6e4d89a7b23721f90bda29%29%0A%20%20%20%20%20%20%20%20%3B%0A%0A%20%20%20%20%20%20%20%20%0A%20%20%20%20%0A%20%20%20%20%0A%20%20%20%20%20%20%20%20%20%20%20%20var%20circle_53f53d14140a4e75840f7a24d9d242c3%20%3D%20L.circle%28%0A%20%20%20%20%20%20%20%20%20%20%20%20%20%20%20%20%5B-8.0617501%2C%20-34.8872674%5D%2C%0A%20%20%20%20%20%20%20%20%20%20%20%20%20%20%20%20%7B%22bubblingMouseEvents%22%3A%20true%2C%20%22color%22%3A%20%22%233186cc%22%2C%20%22dashArray%22%3A%20null%2C%20%22dashOffset%22%3A%20null%2C%20%22fill%22%3A%20true%2C%20%22fillColor%22%3A%20%22%233186cc%22%2C%20%22fillOpacity%22%3A%200.2%2C%20%22fillRule%22%3A%20%22evenodd%22%2C%20%22lineCap%22%3A%20%22round%22%2C%20%22lineJoin%22%3A%20%22round%22%2C%20%22opacity%22%3A%201.0%2C%20%22radius%22%3A%20800%2C%20%22stroke%22%3A%20true%2C%20%22weight%22%3A%203%7D%0A%20%20%20%20%20%20%20%20%20%20%20%20%29.addTo%28map_d33f2d5d2a1b4f52a56feedca7f7f4ae%29%3B%0A%20%20%20%20%20%20%20%20%0A%20%20%20%20%0A%20%20%20%20%20%20%20%20var%20popup_977018d3517647caba4ceeda4f02ce04%20%3D%20L.popup%28%7B%22maxWidth%22%3A%20%22100%25%22%7D%29%3B%0A%0A%20%20%20%20%20%20%20%20%0A%20%20%20%20%20%20%20%20%20%20%20%20var%20html_7a0bf5c91c3a4d5ab5816fd112acd49f%20%3D%20%24%28%60%3Cdiv%20id%3D%22html_7a0bf5c91c3a4d5ab5816fd112acd49f%22%20style%3D%22width%3A%20100.0%25%3B%20height%3A%20100.0%25%3B%22%3EBoa%20Vista%3C/div%3E%60%29%5B0%5D%3B%0A%20%20%20%20%20%20%20%20%20%20%20%20popup_977018d3517647caba4ceeda4f02ce04.setContent%28html_7a0bf5c91c3a4d5ab5816fd112acd49f%29%3B%0A%20%20%20%20%20%20%20%20%0A%0A%20%20%20%20%20%20%20%20circle_53f53d14140a4e75840f7a24d9d242c3.bindPopup%28popup_977018d3517647caba4ceeda4f02ce04%29%0A%20%20%20%20%20%20%20%20%3B%0A%0A%20%20%20%20%20%20%20%20%0A%20%20%20%20%0A%20%20%20%20%0A%20%20%20%20%20%20%20%20%20%20%20%20var%20circle_88edf3f131434763956df0845414e96e%20%3D%20L.circle%28%0A%20%20%20%20%20%20%20%20%20%20%20%20%20%20%20%20%5B-8.1010559%2C%20-34.9326892%5D%2C%0A%20%20%20%20%20%20%20%20%20%20%20%20%20%20%20%20%7B%22bubblingMouseEvents%22%3A%20true%2C%20%22color%22%3A%20%22%233186cc%22%2C%20%22dashArray%22%3A%20null%2C%20%22dashOffset%22%3A%20null%2C%20%22fill%22%3A%20true%2C%20%22fillColor%22%3A%20%22%233186cc%22%2C%20%22fillOpacity%22%3A%200.2%2C%20%22fillRule%22%3A%20%22evenodd%22%2C%20%22lineCap%22%3A%20%22round%22%2C%20%22lineJoin%22%3A%20%22round%22%2C%20%22opacity%22%3A%201.0%2C%20%22radius%22%3A%20800%2C%20%22stroke%22%3A%20true%2C%20%22weight%22%3A%203%7D%0A%20%20%20%20%20%20%20%20%20%20%20%20%29.addTo%28map_d33f2d5d2a1b4f52a56feedca7f7f4ae%29%3B%0A%20%20%20%20%20%20%20%20%0A%20%20%20%20%0A%20%20%20%20%20%20%20%20var%20popup_91957f417cf74cc79d04af76a70c983f%20%3D%20L.popup%28%7B%22maxWidth%22%3A%20%22100%25%22%7D%29%3B%0A%0A%20%20%20%20%20%20%20%20%0A%20%20%20%20%20%20%20%20%20%20%20%20var%20html_ff484bc94b66464e927e7d3653f65cb6%20%3D%20%24%28%60%3Cdiv%20id%3D%22html_ff484bc94b66464e927e7d3653f65cb6%22%20style%3D%22width%3A%20100.0%25%3B%20height%3A%20100.0%25%3B%22%3ECa%C3%A7ote%3C/div%3E%60%29%5B0%5D%3B%0A%20%20%20%20%20%20%20%20%20%20%20%20popup_91957f417cf74cc79d04af76a70c983f.setContent%28html_ff484bc94b66464e927e7d3653f65cb6%29%3B%0A%20%20%20%20%20%20%20%20%0A%0A%20%20%20%20%20%20%20%20circle_88edf3f131434763956df0845414e96e.bindPopup%28popup_91957f417cf74cc79d04af76a70c983f%29%0A%20%20%20%20%20%20%20%20%3B%0A%0A%20%20%20%20%20%20%20%20%0A%20%20%20%20%0A%20%20%20%20%0A%20%20%20%20%20%20%20%20%20%20%20%20var%20circle_f52ae158df4b4cd29b00ffc76877cab5%20%3D%20L.circle%28%0A%20%20%20%20%20%20%20%20%20%20%20%20%20%20%20%20%5B-8.071751299999999%2C%20-35.0048535225382%5D%2C%0A%20%20%20%20%20%20%20%20%20%20%20%20%20%20%20%20%7B%22bubblingMouseEvents%22%3A%20true%2C%20%22color%22%3A%20%22%233186cc%22%2C%20%22dashArray%22%3A%20null%2C%20%22dashOffset%22%3A%20null%2C%20%22fill%22%3A%20true%2C%20%22fillColor%22%3A%20%22%233186cc%22%2C%20%22fillOpacity%22%3A%200.2%2C%20%22fillRule%22%3A%20%22evenodd%22%2C%20%22lineCap%22%3A%20%22round%22%2C%20%22lineJoin%22%3A%20%22round%22%2C%20%22opacity%22%3A%201.0%2C%20%22radius%22%3A%20800%2C%20%22stroke%22%3A%20true%2C%20%22weight%22%3A%203%7D%0A%20%20%20%20%20%20%20%20%20%20%20%20%29.addTo%28map_d33f2d5d2a1b4f52a56feedca7f7f4ae%29%3B%0A%20%20%20%20%20%20%20%20%0A%20%20%20%20%0A%20%20%20%20%20%20%20%20var%20popup_c98e9d54a4b34e74a92d3e83a77c9935%20%3D%20L.popup%28%7B%22maxWidth%22%3A%20%22100%25%22%7D%29%3B%0A%0A%20%20%20%20%20%20%20%20%0A%20%20%20%20%20%20%20%20%20%20%20%20var%20html_7b3a3f1e02d6493eb09b3a68e896a7ab%20%3D%20%24%28%60%3Cdiv%20id%3D%22html_7b3a3f1e02d6493eb09b3a68e896a7ab%22%20style%3D%22width%3A%20100.0%25%3B%20height%3A%20100.0%25%3B%22%3ECurado%3C/div%3E%60%29%5B0%5D%3B%0A%20%20%20%20%20%20%20%20%20%20%20%20popup_c98e9d54a4b34e74a92d3e83a77c9935.setContent%28html_7b3a3f1e02d6493eb09b3a68e896a7ab%29%3B%0A%20%20%20%20%20%20%20%20%0A%0A%20%20%20%20%20%20%20%20circle_f52ae158df4b4cd29b00ffc76877cab5.bindPopup%28popup_c98e9d54a4b34e74a92d3e83a77c9935%29%0A%20%20%20%20%20%20%20%20%3B%0A%0A%20%20%20%20%20%20%20%20%0A%20%20%20%20%0A%20%20%20%20%0A%20%20%20%20%20%20%20%20%20%20%20%20var%20circle_96c914728ba54552875a13eba230dfaa%20%3D%20L.circle%28%0A%20%20%20%20%20%20%20%20%20%20%20%20%20%20%20%20%5B-8.0577836%2C%20-34.8990371%5D%2C%0A%20%20%20%20%20%20%20%20%20%20%20%20%20%20%20%20%7B%22bubblingMouseEvents%22%3A%20true%2C%20%22color%22%3A%20%22%233186cc%22%2C%20%22dashArray%22%3A%20null%2C%20%22dashOffset%22%3A%20null%2C%20%22fill%22%3A%20true%2C%20%22fillColor%22%3A%20%22%233186cc%22%2C%20%22fillOpacity%22%3A%200.2%2C%20%22fillRule%22%3A%20%22evenodd%22%2C%20%22lineCap%22%3A%20%22round%22%2C%20%22lineJoin%22%3A%20%22round%22%2C%20%22opacity%22%3A%201.0%2C%20%22radius%22%3A%20800%2C%20%22stroke%22%3A%20true%2C%20%22weight%22%3A%203%7D%0A%20%20%20%20%20%20%20%20%20%20%20%20%29.addTo%28map_d33f2d5d2a1b4f52a56feedca7f7f4ae%29%3B%0A%20%20%20%20%20%20%20%20%0A%20%20%20%20%0A%20%20%20%20%20%20%20%20var%20popup_f177b1ec0c9845d18a0876d4295e432a%20%3D%20L.popup%28%7B%22maxWidth%22%3A%20%22100%25%22%7D%29%3B%0A%0A%20%20%20%20%20%20%20%20%0A%20%20%20%20%20%20%20%20%20%20%20%20var%20html_b14814d4cf964f6db0f1a2eb50b36394%20%3D%20%24%28%60%3Cdiv%20id%3D%22html_b14814d4cf964f6db0f1a2eb50b36394%22%20style%3D%22width%3A%20100.0%25%3B%20height%3A%20100.0%25%3B%22%3EDerby%3C/div%3E%60%29%5B0%5D%3B%0A%20%20%20%20%20%20%20%20%20%20%20%20popup_f177b1ec0c9845d18a0876d4295e432a.setContent%28html_b14814d4cf964f6db0f1a2eb50b36394%29%3B%0A%20%20%20%20%20%20%20%20%0A%0A%20%20%20%20%20%20%20%20circle_96c914728ba54552875a13eba230dfaa.bindPopup%28popup_f177b1ec0c9845d18a0876d4295e432a%29%0A%20%20%20%20%20%20%20%20%3B%0A%0A%20%20%20%20%20%20%20%20%0A%20%20%20%20%0A%20%20%20%20%0A%20%20%20%20%20%20%20%20%20%20%20%20var%20circle_f2e67f54aec84a57ba9a8b3b29c8e75d%20%3D%20L.circle%28%0A%20%20%20%20%20%20%20%20%20%20%20%20%20%20%20%20%5B-8.0451664%2C%20-34.9007686%5D%2C%0A%20%20%20%20%20%20%20%20%20%20%20%20%20%20%20%20%7B%22bubblingMouseEvents%22%3A%20true%2C%20%22color%22%3A%20%22%233186cc%22%2C%20%22dashArray%22%3A%20null%2C%20%22dashOffset%22%3A%20null%2C%20%22fill%22%3A%20true%2C%20%22fillColor%22%3A%20%22%233186cc%22%2C%20%22fillOpacity%22%3A%200.2%2C%20%22fillRule%22%3A%20%22evenodd%22%2C%20%22lineCap%22%3A%20%22round%22%2C%20%22lineJoin%22%3A%20%22round%22%2C%20%22opacity%22%3A%201.0%2C%20%22radius%22%3A%20800%2C%20%22stroke%22%3A%20true%2C%20%22weight%22%3A%203%7D%0A%20%20%20%20%20%20%20%20%20%20%20%20%29.addTo%28map_d33f2d5d2a1b4f52a56feedca7f7f4ae%29%3B%0A%20%20%20%20%20%20%20%20%0A%20%20%20%20%0A%20%20%20%20%20%20%20%20var%20popup_e4cab0b820f1452c97b7578a8eec0bb1%20%3D%20L.popup%28%7B%22maxWidth%22%3A%20%22100%25%22%7D%29%3B%0A%0A%20%20%20%20%20%20%20%20%0A%20%20%20%20%20%20%20%20%20%20%20%20var%20html_c2bf88a0ba7f49a49c5af49dcf863ee0%20%3D%20%24%28%60%3Cdiv%20id%3D%22html_c2bf88a0ba7f49a49c5af49dcf863ee0%22%20style%3D%22width%3A%20100.0%25%3B%20height%3A%20100.0%25%3B%22%3EGra%C3%A7as%3C/div%3E%60%29%5B0%5D%3B%0A%20%20%20%20%20%20%20%20%20%20%20%20popup_e4cab0b820f1452c97b7578a8eec0bb1.setContent%28html_c2bf88a0ba7f49a49c5af49dcf863ee0%29%3B%0A%20%20%20%20%20%20%20%20%0A%0A%20%20%20%20%20%20%20%20circle_f2e67f54aec84a57ba9a8b3b29c8e75d.bindPopup%28popup_e4cab0b820f1452c97b7578a8eec0bb1%29%0A%20%20%20%20%20%20%20%20%3B%0A%0A%20%20%20%20%20%20%20%20%0A%20%20%20%20%0A%20%20%20%20%0A%20%20%20%20%20%20%20%20%20%20%20%20var%20circle_2017e348abdf477c9f48104f6cc4f506%20%3D%20L.circle%28%0A%20%20%20%20%20%20%20%20%20%20%20%20%20%20%20%20%5B-8.1223529%2C%20-34.9321458%5D%2C%0A%20%20%20%20%20%20%20%20%20%20%20%20%20%20%20%20%7B%22bubblingMouseEvents%22%3A%20true%2C%20%22color%22%3A%20%22%233186cc%22%2C%20%22dashArray%22%3A%20null%2C%20%22dashOffset%22%3A%20null%2C%20%22fill%22%3A%20true%2C%20%22fillColor%22%3A%20%22%233186cc%22%2C%20%22fillOpacity%22%3A%200.2%2C%20%22fillRule%22%3A%20%22evenodd%22%2C%20%22lineCap%22%3A%20%22round%22%2C%20%22lineJoin%22%3A%20%22round%22%2C%20%22opacity%22%3A%201.0%2C%20%22radius%22%3A%20800%2C%20%22stroke%22%3A%20true%2C%20%22weight%22%3A%203%7D%0A%20%20%20%20%20%20%20%20%20%20%20%20%29.addTo%28map_d33f2d5d2a1b4f52a56feedca7f7f4ae%29%3B%0A%20%20%20%20%20%20%20%20%0A%20%20%20%20%0A%20%20%20%20%20%20%20%20var%20popup_a2b25194b16a4679a8bcd95bdac4181f%20%3D%20L.popup%28%7B%22maxWidth%22%3A%20%22100%25%22%7D%29%3B%0A%0A%20%20%20%20%20%20%20%20%0A%20%20%20%20%20%20%20%20%20%20%20%20var%20html_989db66c3cbb4f2baf5ff6cdfe1ed23d%20%3D%20%24%28%60%3Cdiv%20id%3D%22html_989db66c3cbb4f2baf5ff6cdfe1ed23d%22%20style%3D%22width%3A%20100.0%25%3B%20height%3A%20100.0%25%3B%22%3EIbura%3C/div%3E%60%29%5B0%5D%3B%0A%20%20%20%20%20%20%20%20%20%20%20%20popup_a2b25194b16a4679a8bcd95bdac4181f.setContent%28html_989db66c3cbb4f2baf5ff6cdfe1ed23d%29%3B%0A%20%20%20%20%20%20%20%20%0A%0A%20%20%20%20%20%20%20%20circle_2017e348abdf477c9f48104f6cc4f506.bindPopup%28popup_a2b25194b16a4679a8bcd95bdac4181f%29%0A%20%20%20%20%20%20%20%20%3B%0A%0A%20%20%20%20%20%20%20%20%0A%20%20%20%20%0A%20%20%20%20%0A%20%20%20%20%20%20%20%20%20%20%20%20var%20circle_a9da3b28571343f0b8cbb8c6508f85b4%20%3D%20L.circle%28%0A%20%20%20%20%20%20%20%20%20%20%20%20%20%20%20%20%5B-8.1028376%2C%20-34.9108623%5D%2C%0A%20%20%20%20%20%20%20%20%20%20%20%20%20%20%20%20%7B%22bubblingMouseEvents%22%3A%20true%2C%20%22color%22%3A%20%22%233186cc%22%2C%20%22dashArray%22%3A%20null%2C%20%22dashOffset%22%3A%20null%2C%20%22fill%22%3A%20true%2C%20%22fillColor%22%3A%20%22%233186cc%22%2C%20%22fillOpacity%22%3A%200.2%2C%20%22fillRule%22%3A%20%22evenodd%22%2C%20%22lineCap%22%3A%20%22round%22%2C%20%22lineJoin%22%3A%20%22round%22%2C%20%22opacity%22%3A%201.0%2C%20%22radius%22%3A%20800%2C%20%22stroke%22%3A%20true%2C%20%22weight%22%3A%203%7D%0A%20%20%20%20%20%20%20%20%20%20%20%20%29.addTo%28map_d33f2d5d2a1b4f52a56feedca7f7f4ae%29%3B%0A%20%20%20%20%20%20%20%20%0A%20%20%20%20%0A%20%20%20%20%20%20%20%20var%20popup_f54c03cdff314d7ba9a462b65ae1e50f%20%3D%20L.popup%28%7B%22maxWidth%22%3A%20%22100%25%22%7D%29%3B%0A%0A%20%20%20%20%20%20%20%20%0A%20%20%20%20%20%20%20%20%20%20%20%20var%20html_9872f001b6714630ac5738c02860cef6%20%3D%20%24%28%60%3Cdiv%20id%3D%22html_9872f001b6714630ac5738c02860cef6%22%20style%3D%22width%3A%20100.0%25%3B%20height%3A%20100.0%25%3B%22%3EImbiribeira%3C/div%3E%60%29%5B0%5D%3B%0A%20%20%20%20%20%20%20%20%20%20%20%20popup_f54c03cdff314d7ba9a462b65ae1e50f.setContent%28html_9872f001b6714630ac5738c02860cef6%29%3B%0A%20%20%20%20%20%20%20%20%0A%0A%20%20%20%20%20%20%20%20circle_a9da3b28571343f0b8cbb8c6508f85b4.bindPopup%28popup_f54c03cdff314d7ba9a462b65ae1e50f%29%0A%20%20%20%20%20%20%20%20%3B%0A%0A%20%20%20%20%20%20%20%20%0A%20%20%20%20%0A%20%20%20%20%0A%20%20%20%20%20%20%20%20%20%20%20%20var%20circle_81c3ce0009eb4f97b7ee7163b6808dd1%20%3D%20L.circle%28%0A%20%20%20%20%20%20%20%20%20%20%20%20%20%20%20%20%5B-8.0875245%2C%20-34.9245208%5D%2C%0A%20%20%20%20%20%20%20%20%20%20%20%20%20%20%20%20%7B%22bubblingMouseEvents%22%3A%20true%2C%20%22color%22%3A%20%22%233186cc%22%2C%20%22dashArray%22%3A%20null%2C%20%22dashOffset%22%3A%20null%2C%20%22fill%22%3A%20true%2C%20%22fillColor%22%3A%20%22%233186cc%22%2C%20%22fillOpacity%22%3A%200.2%2C%20%22fillRule%22%3A%20%22evenodd%22%2C%20%22lineCap%22%3A%20%22round%22%2C%20%22lineJoin%22%3A%20%22round%22%2C%20%22opacity%22%3A%201.0%2C%20%22radius%22%3A%20800%2C%20%22stroke%22%3A%20true%2C%20%22weight%22%3A%203%7D%0A%20%20%20%20%20%20%20%20%20%20%20%20%29.addTo%28map_d33f2d5d2a1b4f52a56feedca7f7f4ae%29%3B%0A%20%20%20%20%20%20%20%20%0A%20%20%20%20%0A%20%20%20%20%20%20%20%20var%20popup_b389a06c760c4f2d9aab7f875d4a5875%20%3D%20L.popup%28%7B%22maxWidth%22%3A%20%22100%25%22%7D%29%3B%0A%0A%20%20%20%20%20%20%20%20%0A%20%20%20%20%20%20%20%20%20%20%20%20var%20html_6756f389f8f14478b6cd668f6cda2d2a%20%3D%20%24%28%60%3Cdiv%20id%3D%22html_6756f389f8f14478b6cd668f6cda2d2a%22%20style%3D%22width%3A%20100.0%25%3B%20height%3A%20100.0%25%3B%22%3EJiqui%C3%A1%3C/div%3E%60%29%5B0%5D%3B%0A%20%20%20%20%20%20%20%20%20%20%20%20popup_b389a06c760c4f2d9aab7f875d4a5875.setContent%28html_6756f389f8f14478b6cd668f6cda2d2a%29%3B%0A%20%20%20%20%20%20%20%20%0A%0A%20%20%20%20%20%20%20%20circle_81c3ce0009eb4f97b7ee7163b6808dd1.bindPopup%28popup_b389a06c760c4f2d9aab7f875d4a5875%29%0A%20%20%20%20%20%20%20%20%3B%0A%0A%20%20%20%20%20%20%20%20%0A%20%20%20%20%0A%20%20%20%20%0A%20%20%20%20%20%20%20%20%20%20%20%20var%20circle_05d88e99449a4fed90349993e2354179%20%3D%20L.circle%28%0A%20%20%20%20%20%20%20%20%20%20%20%20%20%20%20%20%5B-8.0118867%2C%20-34.9311631%5D%2C%0A%20%20%20%20%20%20%20%20%20%20%20%20%20%20%20%20%7B%22bubblingMouseEvents%22%3A%20true%2C%20%22color%22%3A%20%22%233186cc%22%2C%20%22dashArray%22%3A%20null%2C%20%22dashOffset%22%3A%20null%2C%20%22fill%22%3A%20true%2C%20%22fillColor%22%3A%20%22%233186cc%22%2C%20%22fillOpacity%22%3A%200.2%2C%20%22fillRule%22%3A%20%22evenodd%22%2C%20%22lineCap%22%3A%20%22round%22%2C%20%22lineJoin%22%3A%20%22round%22%2C%20%22opacity%22%3A%201.0%2C%20%22radius%22%3A%20800%2C%20%22stroke%22%3A%20true%2C%20%22weight%22%3A%203%7D%0A%20%20%20%20%20%20%20%20%20%20%20%20%29.addTo%28map_d33f2d5d2a1b4f52a56feedca7f7f4ae%29%3B%0A%20%20%20%20%20%20%20%20%0A%20%20%20%20%0A%20%20%20%20%20%20%20%20var%20popup_621a1e1e6a254826801e6954dfab78a5%20%3D%20L.popup%28%7B%22maxWidth%22%3A%20%22100%25%22%7D%29%3B%0A%0A%20%20%20%20%20%20%20%20%0A%20%20%20%20%20%20%20%20%20%20%20%20var%20html_0af3a9b436304aaf887198fb8c9ec770%20%3D%20%24%28%60%3Cdiv%20id%3D%22html_0af3a9b436304aaf887198fb8c9ec770%22%20style%3D%22width%3A%20100.0%25%3B%20height%3A%20100.0%25%3B%22%3EMacaxeira%3C/div%3E%60%29%5B0%5D%3B%0A%20%20%20%20%20%20%20%20%20%20%20%20popup_621a1e1e6a254826801e6954dfab78a5.setContent%28html_0af3a9b436304aaf887198fb8c9ec770%29%3B%0A%20%20%20%20%20%20%20%20%0A%0A%20%20%20%20%20%20%20%20circle_05d88e99449a4fed90349993e2354179.bindPopup%28popup_621a1e1e6a254826801e6954dfab78a5%29%0A%20%20%20%20%20%20%20%20%3B%0A%0A%20%20%20%20%20%20%20%20%0A%20%20%20%20%0A%20%20%20%20%0A%20%20%20%20%20%20%20%20%20%20%20%20var%20circle_e21ab38b943a424ab0837250db42c7e4%20%3D%20L.circle%28%0A%20%20%20%20%20%20%20%20%20%20%20%20%20%20%20%20%5B-8.0537581%2C%20-34.9083686%5D%2C%0A%20%20%20%20%20%20%20%20%20%20%20%20%20%20%20%20%7B%22bubblingMouseEvents%22%3A%20true%2C%20%22color%22%3A%20%22%233186cc%22%2C%20%22dashArray%22%3A%20null%2C%20%22dashOffset%22%3A%20null%2C%20%22fill%22%3A%20true%2C%20%22fillColor%22%3A%20%22%233186cc%22%2C%20%22fillOpacity%22%3A%200.2%2C%20%22fillRule%22%3A%20%22evenodd%22%2C%20%22lineCap%22%3A%20%22round%22%2C%20%22lineJoin%22%3A%20%22round%22%2C%20%22opacity%22%3A%201.0%2C%20%22radius%22%3A%20800%2C%20%22stroke%22%3A%20true%2C%20%22weight%22%3A%203%7D%0A%20%20%20%20%20%20%20%20%20%20%20%20%29.addTo%28map_d33f2d5d2a1b4f52a56feedca7f7f4ae%29%3B%0A%20%20%20%20%20%20%20%20%0A%20%20%20%20%0A%20%20%20%20%20%20%20%20var%20popup_8ca1a81bc4184169bfc522eedb9a4f82%20%3D%20L.popup%28%7B%22maxWidth%22%3A%20%22100%25%22%7D%29%3B%0A%0A%20%20%20%20%20%20%20%20%0A%20%20%20%20%20%20%20%20%20%20%20%20var%20html_00509a8645ca45279a08962466be0d0e%20%3D%20%24%28%60%3Cdiv%20id%3D%22html_00509a8645ca45279a08962466be0d0e%22%20style%3D%22width%3A%20100.0%25%3B%20height%3A%20100.0%25%3B%22%3EMadalena%3C/div%3E%60%29%5B0%5D%3B%0A%20%20%20%20%20%20%20%20%20%20%20%20popup_8ca1a81bc4184169bfc522eedb9a4f82.setContent%28html_00509a8645ca45279a08962466be0d0e%29%3B%0A%20%20%20%20%20%20%20%20%0A%0A%20%20%20%20%20%20%20%20circle_e21ab38b943a424ab0837250db42c7e4.bindPopup%28popup_8ca1a81bc4184169bfc522eedb9a4f82%29%0A%20%20%20%20%20%20%20%20%3B%0A%0A%20%20%20%20%20%20%20%20%0A%20%20%20%20%0A%20%20%20%20%0A%20%20%20%20%20%20%20%20%20%20%20%20var%20circle_72eb136faadf49bd8585937937108c28%20%3D%20L.circle%28%0A%20%20%20%20%20%20%20%20%20%20%20%20%20%20%20%20%5B-8.0263217%2C%20-34.9287912%5D%2C%0A%20%20%20%20%20%20%20%20%20%20%20%20%20%20%20%20%7B%22bubblingMouseEvents%22%3A%20true%2C%20%22color%22%3A%20%22%233186cc%22%2C%20%22dashArray%22%3A%20null%2C%20%22dashOffset%22%3A%20null%2C%20%22fill%22%3A%20true%2C%20%22fillColor%22%3A%20%22%233186cc%22%2C%20%22fillOpacity%22%3A%200.2%2C%20%22fillRule%22%3A%20%22evenodd%22%2C%20%22lineCap%22%3A%20%22round%22%2C%20%22lineJoin%22%3A%20%22round%22%2C%20%22opacity%22%3A%201.0%2C%20%22radius%22%3A%20800%2C%20%22stroke%22%3A%20true%2C%20%22weight%22%3A%203%7D%0A%20%20%20%20%20%20%20%20%20%20%20%20%29.addTo%28map_d33f2d5d2a1b4f52a56feedca7f7f4ae%29%3B%0A%20%20%20%20%20%20%20%20%0A%20%20%20%20%0A%20%20%20%20%20%20%20%20var%20popup_51b24e8562e04eb98584919085c084c9%20%3D%20L.popup%28%7B%22maxWidth%22%3A%20%22100%25%22%7D%29%3B%0A%0A%20%20%20%20%20%20%20%20%0A%20%20%20%20%20%20%20%20%20%20%20%20var%20html_2b723152f48e408d8b0b77b36a4fbb26%20%3D%20%24%28%60%3Cdiv%20id%3D%22html_2b723152f48e408d8b0b77b36a4fbb26%22%20style%3D%22width%3A%20100.0%25%3B%20height%3A%20100.0%25%3B%22%3EMonteiro%3C/div%3E%60%29%5B0%5D%3B%0A%20%20%20%20%20%20%20%20%20%20%20%20popup_51b24e8562e04eb98584919085c084c9.setContent%28html_2b723152f48e408d8b0b77b36a4fbb26%29%3B%0A%20%20%20%20%20%20%20%20%0A%0A%20%20%20%20%20%20%20%20circle_72eb136faadf49bd8585937937108c28.bindPopup%28popup_51b24e8562e04eb98584919085c084c9%29%0A%20%20%20%20%20%20%20%20%3B%0A%0A%20%20%20%20%20%20%20%20%0A%20%20%20%20%0A%20%20%20%20%0A%20%20%20%20%20%20%20%20%20%20%20%20var%20circle_ced9662389c64df28519915713e00baf%20%3D%20L.circle%28%0A%20%20%20%20%20%20%20%20%20%20%20%20%20%20%20%20%5B-8.062844%2C%20-34.8987639%5D%2C%0A%20%20%20%20%20%20%20%20%20%20%20%20%20%20%20%20%7B%22bubblingMouseEvents%22%3A%20true%2C%20%22color%22%3A%20%22%233186cc%22%2C%20%22dashArray%22%3A%20null%2C%20%22dashOffset%22%3A%20null%2C%20%22fill%22%3A%20true%2C%20%22fillColor%22%3A%20%22%233186cc%22%2C%20%22fillOpacity%22%3A%200.2%2C%20%22fillRule%22%3A%20%22evenodd%22%2C%20%22lineCap%22%3A%20%22round%22%2C%20%22lineJoin%22%3A%20%22round%22%2C%20%22opacity%22%3A%201.0%2C%20%22radius%22%3A%20800%2C%20%22stroke%22%3A%20true%2C%20%22weight%22%3A%203%7D%0A%20%20%20%20%20%20%20%20%20%20%20%20%29.addTo%28map_d33f2d5d2a1b4f52a56feedca7f7f4ae%29%3B%0A%20%20%20%20%20%20%20%20%0A%20%20%20%20%0A%20%20%20%20%20%20%20%20var%20popup_4873423b0c2447aaa8c708aa4f8d921a%20%3D%20L.popup%28%7B%22maxWidth%22%3A%20%22100%25%22%7D%29%3B%0A%0A%20%20%20%20%20%20%20%20%0A%20%20%20%20%20%20%20%20%20%20%20%20var%20html_d1f58b04dcf746379a115553f303f4fb%20%3D%20%24%28%60%3Cdiv%20id%3D%22html_d1f58b04dcf746379a115553f303f4fb%22%20style%3D%22width%3A%20100.0%25%3B%20height%3A%20100.0%25%3B%22%3EPaissandu%3C/div%3E%60%29%5B0%5D%3B%0A%20%20%20%20%20%20%20%20%20%20%20%20popup_4873423b0c2447aaa8c708aa4f8d921a.setContent%28html_d1f58b04dcf746379a115553f303f4fb%29%3B%0A%20%20%20%20%20%20%20%20%0A%0A%20%20%20%20%20%20%20%20circle_ced9662389c64df28519915713e00baf.bindPopup%28popup_4873423b0c2447aaa8c708aa4f8d921a%29%0A%20%20%20%20%20%20%20%20%3B%0A%0A%20%20%20%20%20%20%20%20%0A%20%20%20%20%0A%20%20%20%20%0A%20%20%20%20%20%20%20%20%20%20%20%20var%20circle_415c29529b75463c9bbff2109063cc0c%20%3D%20L.circle%28%0A%20%20%20%20%20%20%20%20%20%20%20%20%20%20%20%20%5B-8.0963033%2C%20-34.8946884%5D%2C%0A%20%20%20%20%20%20%20%20%20%20%20%20%20%20%20%20%7B%22bubblingMouseEvents%22%3A%20true%2C%20%22color%22%3A%20%22%233186cc%22%2C%20%22dashArray%22%3A%20null%2C%20%22dashOffset%22%3A%20null%2C%20%22fill%22%3A%20true%2C%20%22fillColor%22%3A%20%22%233186cc%22%2C%20%22fillOpacity%22%3A%200.2%2C%20%22fillRule%22%3A%20%22evenodd%22%2C%20%22lineCap%22%3A%20%22round%22%2C%20%22lineJoin%22%3A%20%22round%22%2C%20%22opacity%22%3A%201.0%2C%20%22radius%22%3A%20800%2C%20%22stroke%22%3A%20true%2C%20%22weight%22%3A%203%7D%0A%20%20%20%20%20%20%20%20%20%20%20%20%29.addTo%28map_d33f2d5d2a1b4f52a56feedca7f7f4ae%29%3B%0A%20%20%20%20%20%20%20%20%0A%20%20%20%20%0A%20%20%20%20%20%20%20%20var%20popup_55d876bf1d0b456eaa26456e3c3dc7ef%20%3D%20L.popup%28%7B%22maxWidth%22%3A%20%22100%25%22%7D%29%3B%0A%0A%20%20%20%20%20%20%20%20%0A%20%20%20%20%20%20%20%20%20%20%20%20var%20html_92dc7335841b49a3b8122086eb4d1556%20%3D%20%24%28%60%3Cdiv%20id%3D%22html_92dc7335841b49a3b8122086eb4d1556%22%20style%3D%22width%3A%20100.0%25%3B%20height%3A%20100.0%25%3B%22%3EPina%3C/div%3E%60%29%5B0%5D%3B%0A%20%20%20%20%20%20%20%20%20%20%20%20popup_55d876bf1d0b456eaa26456e3c3dc7ef.setContent%28html_92dc7335841b49a3b8122086eb4d1556%29%3B%0A%20%20%20%20%20%20%20%20%0A%0A%20%20%20%20%20%20%20%20circle_415c29529b75463c9bbff2109063cc0c.bindPopup%28popup_55d876bf1d0b456eaa26456e3c3dc7ef%29%0A%20%20%20%20%20%20%20%20%3B%0A%0A%20%20%20%20%20%20%20%20%0A%20%20%20%20%0A%20%20%20%20%0A%20%20%20%20%20%20%20%20%20%20%20%20var%20circle_dc6d4a550ea14bd2a7d1e6dc15ddf105%20%3D%20L.circle%28%0A%20%20%20%20%20%20%20%20%20%20%20%20%20%20%20%20%5B-8.0296995%2C%20-34.8930853%5D%2C%0A%20%20%20%20%20%20%20%20%20%20%20%20%20%20%20%20%7B%22bubblingMouseEvents%22%3A%20true%2C%20%22color%22%3A%20%22%233186cc%22%2C%20%22dashArray%22%3A%20null%2C%20%22dashOffset%22%3A%20null%2C%20%22fill%22%3A%20true%2C%20%22fillColor%22%3A%20%22%233186cc%22%2C%20%22fillOpacity%22%3A%200.2%2C%20%22fillRule%22%3A%20%22evenodd%22%2C%20%22lineCap%22%3A%20%22round%22%2C%20%22lineJoin%22%3A%20%22round%22%2C%20%22opacity%22%3A%201.0%2C%20%22radius%22%3A%20800%2C%20%22stroke%22%3A%20true%2C%20%22weight%22%3A%203%7D%0A%20%20%20%20%20%20%20%20%20%20%20%20%29.addTo%28map_d33f2d5d2a1b4f52a56feedca7f7f4ae%29%3B%0A%20%20%20%20%20%20%20%20%0A%20%20%20%20%0A%20%20%20%20%20%20%20%20var%20popup_bd04b58d3be549fe83731d51c4f73271%20%3D%20L.popup%28%7B%22maxWidth%22%3A%20%22100%25%22%7D%29%3B%0A%0A%20%20%20%20%20%20%20%20%0A%20%20%20%20%20%20%20%20%20%20%20%20var%20html_8f7feca5160b43e38599c4b20daaa46f%20%3D%20%24%28%60%3Cdiv%20id%3D%22html_8f7feca5160b43e38599c4b20daaa46f%22%20style%3D%22width%3A%20100.0%25%3B%20height%3A%20100.0%25%3B%22%3EPonto%20de%20Parada%3C/div%3E%60%29%5B0%5D%3B%0A%20%20%20%20%20%20%20%20%20%20%20%20popup_bd04b58d3be549fe83731d51c4f73271.setContent%28html_8f7feca5160b43e38599c4b20daaa46f%29%3B%0A%20%20%20%20%20%20%20%20%0A%0A%20%20%20%20%20%20%20%20circle_dc6d4a550ea14bd2a7d1e6dc15ddf105.bindPopup%28popup_bd04b58d3be549fe83731d51c4f73271%29%0A%20%20%20%20%20%20%20%20%3B%0A%0A%20%20%20%20%20%20%20%20%0A%20%20%20%20%0A%20%20%20%20%0A%20%20%20%20%20%20%20%20%20%20%20%20var%20circle_b1907b8cfe654a8c8567e4e0af6532f8%20%3D%20L.circle%28%0A%20%20%20%20%20%20%20%20%20%20%20%20%20%20%20%20%5B-8.0598858%2C%20-34.9139126%5D%2C%0A%20%20%20%20%20%20%20%20%20%20%20%20%20%20%20%20%7B%22bubblingMouseEvents%22%3A%20true%2C%20%22color%22%3A%20%22%233186cc%22%2C%20%22dashArray%22%3A%20null%2C%20%22dashOffset%22%3A%20null%2C%20%22fill%22%3A%20true%2C%20%22fillColor%22%3A%20%22%233186cc%22%2C%20%22fillOpacity%22%3A%200.2%2C%20%22fillRule%22%3A%20%22evenodd%22%2C%20%22lineCap%22%3A%20%22round%22%2C%20%22lineJoin%22%3A%20%22round%22%2C%20%22opacity%22%3A%201.0%2C%20%22radius%22%3A%20800%2C%20%22stroke%22%3A%20true%2C%20%22weight%22%3A%203%7D%0A%20%20%20%20%20%20%20%20%20%20%20%20%29.addTo%28map_d33f2d5d2a1b4f52a56feedca7f7f4ae%29%3B%0A%20%20%20%20%20%20%20%20%0A%20%20%20%20%0A%20%20%20%20%20%20%20%20var%20popup_8ab2da136a85404d9215d7d2ad6ad3d5%20%3D%20L.popup%28%7B%22maxWidth%22%3A%20%22100%25%22%7D%29%3B%0A%0A%20%20%20%20%20%20%20%20%0A%20%20%20%20%20%20%20%20%20%20%20%20var%20html_f4721205389344f7ac378a0486faf775%20%3D%20%24%28%60%3Cdiv%20id%3D%22html_f4721205389344f7ac378a0486faf775%22%20style%3D%22width%3A%20100.0%25%3B%20height%3A%20100.0%25%3B%22%3EPrado%3C/div%3E%60%29%5B0%5D%3B%0A%20%20%20%20%20%20%20%20%20%20%20%20popup_8ab2da136a85404d9215d7d2ad6ad3d5.setContent%28html_f4721205389344f7ac378a0486faf775%29%3B%0A%20%20%20%20%20%20%20%20%0A%0A%20%20%20%20%20%20%20%20circle_b1907b8cfe654a8c8567e4e0af6532f8.bindPopup%28popup_8ab2da136a85404d9215d7d2ad6ad3d5%29%0A%20%20%20%20%20%20%20%20%3B%0A%0A%20%20%20%20%20%20%20%20%0A%20%20%20%20%0A%20%20%20%20%0A%20%20%20%20%20%20%20%20%20%20%20%20var%20circle_6bb664b2c7f14366aeb5f71b1a4b576d%20%3D%20L.circle%28%0A%20%20%20%20%20%20%20%20%20%20%20%20%20%20%20%20%5B-8.0869251%2C%20-34.9551063%5D%2C%0A%20%20%20%20%20%20%20%20%20%20%20%20%20%20%20%20%7B%22bubblingMouseEvents%22%3A%20true%2C%20%22color%22%3A%20%22%233186cc%22%2C%20%22dashArray%22%3A%20null%2C%20%22dashOffset%22%3A%20null%2C%20%22fill%22%3A%20true%2C%20%22fillColor%22%3A%20%22%233186cc%22%2C%20%22fillOpacity%22%3A%200.2%2C%20%22fillRule%22%3A%20%22evenodd%22%2C%20%22lineCap%22%3A%20%22round%22%2C%20%22lineJoin%22%3A%20%22round%22%2C%20%22opacity%22%3A%201.0%2C%20%22radius%22%3A%20800%2C%20%22stroke%22%3A%20true%2C%20%22weight%22%3A%203%7D%0A%20%20%20%20%20%20%20%20%20%20%20%20%29.addTo%28map_d33f2d5d2a1b4f52a56feedca7f7f4ae%29%3B%0A%20%20%20%20%20%20%20%20%0A%20%20%20%20%0A%20%20%20%20%20%20%20%20var%20popup_6508798038f344f484d3cfd6ebdfd95f%20%3D%20L.popup%28%7B%22maxWidth%22%3A%20%22100%25%22%7D%29%3B%0A%0A%20%20%20%20%20%20%20%20%0A%20%20%20%20%20%20%20%20%20%20%20%20var%20html_d239ad368fde430b93f4b1bc2ad16605%20%3D%20%24%28%60%3Cdiv%20id%3D%22html_d239ad368fde430b93f4b1bc2ad16605%22%20style%3D%22width%3A%20100.0%25%3B%20height%3A%20100.0%25%3B%22%3ETejipi%C3%B3%3C/div%3E%60%29%5B0%5D%3B%0A%20%20%20%20%20%20%20%20%20%20%20%20popup_6508798038f344f484d3cfd6ebdfd95f.setContent%28html_d239ad368fde430b93f4b1bc2ad16605%29%3B%0A%20%20%20%20%20%20%20%20%0A%0A%20%20%20%20%20%20%20%20circle_6bb664b2c7f14366aeb5f71b1a4b576d.bindPopup%28popup_6508798038f344f484d3cfd6ebdfd95f%29%0A%20%20%20%20%20%20%20%20%3B%0A%0A%20%20%20%20%20%20%20%20%0A%20%20%20%20%0A%20%20%20%20%0A%20%20%20%20%20%20%20%20%20%20%20%20var%20circle_2e457310517d49ab8df4175c6bd7eb0d%20%3D%20L.circle%28%0A%20%20%20%20%20%20%20%20%20%20%20%20%20%20%20%20%5B-8.0618637%2C%20-34.9360457%5D%2C%0A%20%20%20%20%20%20%20%20%20%20%20%20%20%20%20%20%7B%22bubblingMouseEvents%22%3A%20true%2C%20%22color%22%3A%20%22%233186cc%22%2C%20%22dashArray%22%3A%20null%2C%20%22dashOffset%22%3A%20null%2C%20%22fill%22%3A%20true%2C%20%22fillColor%22%3A%20%22%233186cc%22%2C%20%22fillOpacity%22%3A%200.2%2C%20%22fillRule%22%3A%20%22evenodd%22%2C%20%22lineCap%22%3A%20%22round%22%2C%20%22lineJoin%22%3A%20%22round%22%2C%20%22opacity%22%3A%201.0%2C%20%22radius%22%3A%20800%2C%20%22stroke%22%3A%20true%2C%20%22weight%22%3A%203%7D%0A%20%20%20%20%20%20%20%20%20%20%20%20%29.addTo%28map_d33f2d5d2a1b4f52a56feedca7f7f4ae%29%3B%0A%20%20%20%20%20%20%20%20%0A%20%20%20%20%0A%20%20%20%20%20%20%20%20var%20popup_0424132e4cfa4cc28407f6235099a6cd%20%3D%20L.popup%28%7B%22maxWidth%22%3A%20%22100%25%22%7D%29%3B%0A%0A%20%20%20%20%20%20%20%20%0A%20%20%20%20%20%20%20%20%20%20%20%20var%20html_03e1b2cc02924999b42391a4874bf82c%20%3D%20%24%28%60%3Cdiv%20id%3D%22html_03e1b2cc02924999b42391a4874bf82c%22%20style%3D%22width%3A%20100.0%25%3B%20height%3A%20100.0%25%3B%22%3ETorr%C3%B5es%3C/div%3E%60%29%5B0%5D%3B%0A%20%20%20%20%20%20%20%20%20%20%20%20popup_0424132e4cfa4cc28407f6235099a6cd.setContent%28html_03e1b2cc02924999b42391a4874bf82c%29%3B%0A%20%20%20%20%20%20%20%20%0A%0A%20%20%20%20%20%20%20%20circle_2e457310517d49ab8df4175c6bd7eb0d.bindPopup%28popup_0424132e4cfa4cc28407f6235099a6cd%29%0A%20%20%20%20%20%20%20%20%3B%0A%0A%20%20%20%20%20%20%20%20%0A%20%20%20%20%0A%3C/script%3E onload=\"this.contentDocument.open();this.contentDocument.write(    decodeURIComponent(this.getAttribute('data-html')));this.contentDocument.close();\" allowfullscreen webkitallowfullscreen mozallowfullscreen></iframe></div></div>"
      ],
      "text/plain": [
       "<folium.folium.Map at 0x1b5fdee95c8>"
      ]
     },
     "metadata": {},
     "output_type": "display_data"
    }
   ],
   "source": [
    "for value in districtArray:\n",
    "    location = geolocater.geocode(value+','+'Recife')\n",
    "    latitude = location.latitude\n",
    "    longitude = location.longitude\n",
    "    folium.Circle(\n",
    "                location = [latitude,longitude],\n",
    "                radius=800,\n",
    "                popup=value,\n",
    "                color='#3186cc',\n",
    "                fill=True,\n",
    "                fill_color=\"#3186cc\",\n",
    "                ).add_to(recife_map)\n",
    "display(recife_map)"
   ]
  },
  {
   "cell_type": "markdown",
   "metadata": {},
   "source": [
    "### Process Data"
   ]
  },
  {
   "cell_type": "code",
   "execution_count": 29,
   "metadata": {
    "ExecuteTime": {
     "end_time": "2021-04-16T05:40:56.131855Z",
     "start_time": "2021-04-16T05:40:56.119685Z"
    }
   },
   "outputs": [],
   "source": [
    "dataframeProcess = pd.DataFrame(columns=['hora','minuto',\"dia\",'mes','ano','diaDaSemana','rua','bairro','longitude','latitude','velocidade_via'])"
   ]
  },
  {
   "cell_type": "code",
   "execution_count": 30,
   "metadata": {
    "ExecuteTime": {
     "end_time": "2021-04-16T05:40:56.147673Z",
     "start_time": "2021-04-16T05:40:56.135220Z"
    }
   },
   "outputs": [],
   "source": [
    "def divideInDateDayYear():\n",
    "    week_days=[\"Monday\",\"Tuesday\",\"Wednesday\",\"Thursday\",\"Friday\",\"Saturday\",\"Sunday\"]\n",
    "    i = 0\n",
    "    arrayDia = []\n",
    "    arrayMes = []\n",
    "    arrayAno = []\n",
    "    arrayDiaDaSemana = []\n",
    "    for value in dataFrameTrainVelocity['data']:\n",
    "        splitValue = value.split('-')\n",
    "        arrayDia.append(splitValue[2])\n",
    "        arrayMes.append(splitValue[1])\n",
    "        arrayAno.append(splitValue [0]) \n",
    "        week_num = datetime.date(int(splitValue[0]),int(splitValue[1]),int(splitValue[2])).weekday()\n",
    "        arrayDiaDaSemana.append(week_days[week_num])\n",
    "    dataframeProcess['dia'] = arrayDia\n",
    "    dataframeProcess['mes'] = arrayMes\n",
    "    dataframeProcess['ano'] = arrayAno\n",
    "    dataframeProcess['diaDaSemana'] = arrayDiaDaSemana"
   ]
  },
  {
   "cell_type": "code",
   "execution_count": 31,
   "metadata": {
    "ExecuteTime": {
     "end_time": "2021-04-16T05:41:16.314914Z",
     "start_time": "2021-04-16T05:40:56.148809Z"
    }
   },
   "outputs": [],
   "source": [
    "divideInDateDayYear()"
   ]
  },
  {
   "cell_type": "code",
   "execution_count": 32,
   "metadata": {
    "ExecuteTime": {
     "end_time": "2021-04-16T05:41:16.469907Z",
     "start_time": "2021-04-16T05:41:16.316822Z"
    }
   },
   "outputs": [],
   "source": [
    "dataframeProcess['velocidadeMedia'] = ''\n",
    "dataframeProcess['numeroVeiculos'] = ''"
   ]
  },
  {
   "cell_type": "code",
   "execution_count": 33,
   "metadata": {
    "ExecuteTime": {
     "end_time": "2021-04-16T05:41:16.485177Z",
     "start_time": "2021-04-16T05:41:16.472146Z"
    }
   },
   "outputs": [],
   "source": [
    "columnsDataset = dataFrameTrainVelocity.columns"
   ]
  },
  {
   "cell_type": "code",
   "execution_count": 34,
   "metadata": {
    "ExecuteTime": {
     "end_time": "2021-04-16T05:41:16.500449Z",
     "start_time": "2021-04-16T05:41:16.487179Z"
    }
   },
   "outputs": [],
   "source": [
    "columnsDataset = list(dict.fromkeys(columnsDataset))"
   ]
  },
  {
   "cell_type": "code",
   "execution_count": 35,
   "metadata": {
    "ExecuteTime": {
     "end_time": "2021-04-16T05:41:16.515840Z",
     "start_time": "2021-04-16T05:41:16.501452Z"
    }
   },
   "outputs": [],
   "source": [
    "del columnsDataset[0:6]"
   ]
  },
  {
   "cell_type": "code",
   "execution_count": 197,
   "metadata": {
    "ExecuteTime": {
     "end_time": "2021-04-18T16:49:25.959397Z",
     "start_time": "2021-04-18T16:49:25.918986Z"
    }
   },
   "outputs": [],
   "source": [
    "def getIntervalo(name):\n",
    "    if(name == 'qtd_0a10km'):\n",
    "        return 5\n",
    "    if(name == 'qtd_11a20km'):\n",
    "        return 15.5\n",
    "    if(name == 'qtd_21a30km'):\n",
    "        return 25.5\n",
    "    if(name == 'qtd_31a40km'):\n",
    "        return 35.5\n",
    "    if(name == 'qtd_41a50km'):\n",
    "        return 45.5\n",
    "    if(name == 'qtd_51a60km'):\n",
    "        return 55.5\n",
    "    if(name == 'qtd_61a70km'):\n",
    "        return 65.5\n",
    "    if(name == 'qtd_71a80km'):\n",
    "        return 75.5\n",
    "    if(name == 'qtd_81a90km'):\n",
    "        return 80.5\n",
    "    if(name == 'qtd_91a100km'):\n",
    "        return 95.5\n",
    "    if(name == 'qtd_acimade100km'):\n",
    "        return 110"
   ]
  },
  {
   "cell_type": "code",
   "execution_count": 198,
   "metadata": {
    "ExecuteTime": {
     "end_time": "2021-04-18T16:49:26.926055Z",
     "start_time": "2021-04-18T16:49:26.910027Z"
    }
   },
   "outputs": [],
   "source": [
    "def setMeanVelocity():\n",
    "    arrayVelocidadeMedia = []\n",
    "    arrayQtdCarros = []\n",
    "    quantidadeTotalCarros = 0\n",
    "    ponderatedMean = 0\n",
    "    for index, row in dataFrameTrainVelocity.iterrows():\n",
    "        for columns in columnsDataset: \n",
    "            ponderatedMean =(row[columns] * getIntervalo(columns)) + ponderatedMean\n",
    "            quantidadeTotalCarros = row[columns] + quantidadeTotalCarros\n",
    "        veloMedia = ponderatedMean / quantidadeTotalCarros\n",
    "        arrayVelocidadeMedia.append(veloMedia)\n",
    "        arrayQtdCarros.append(quantidadeTotalCarros)\n",
    "        ponderatedMean = 0  \n",
    "        quantidadeTotalCarros = 0\n",
    "    dataframeProcess['velocidadeMedia'] = arrayVelocidadeMedia\n",
    "    dataframeProcess['numeroVeiculos'] = arrayQtdCarros\n",
    "    return dataframeProcess"
   ]
  },
  {
   "cell_type": "code",
   "execution_count": 199,
   "metadata": {
    "ExecuteTime": {
     "end_time": "2021-04-18T18:00:07.878302Z",
     "start_time": "2021-04-18T16:49:33.298467Z"
    },
    "scrolled": false
   },
   "outputs": [
    {
     "data": {
      "text/html": [
       "<div>\n",
       "<style scoped>\n",
       "    .dataframe tbody tr th:only-of-type {\n",
       "        vertical-align: middle;\n",
       "    }\n",
       "\n",
       "    .dataframe tbody tr th {\n",
       "        vertical-align: top;\n",
       "    }\n",
       "\n",
       "    .dataframe thead th {\n",
       "        text-align: right;\n",
       "    }\n",
       "</style>\n",
       "<table border=\"1\" class=\"dataframe\">\n",
       "  <thead>\n",
       "    <tr style=\"text-align: right;\">\n",
       "      <th></th>\n",
       "      <th>hora</th>\n",
       "      <th>minuto</th>\n",
       "      <th>dia</th>\n",
       "      <th>mes</th>\n",
       "      <th>ano</th>\n",
       "      <th>diaDaSemana</th>\n",
       "      <th>rua</th>\n",
       "      <th>bairro</th>\n",
       "      <th>longitude</th>\n",
       "      <th>latitude</th>\n",
       "      <th>velocidade_via</th>\n",
       "      <th>velocidadeMedia</th>\n",
       "      <th>numeroVeiculos</th>\n",
       "      <th>equipamento</th>\n",
       "    </tr>\n",
       "  </thead>\n",
       "  <tbody>\n",
       "    <tr>\n",
       "      <th>0</th>\n",
       "      <td>0</td>\n",
       "      <td>15</td>\n",
       "      <td>01</td>\n",
       "      <td>01</td>\n",
       "      <td>2016</td>\n",
       "      <td>Friday</td>\n",
       "      <td>RUA MADRE DE DEUS, SEMAFORO 020.</td>\n",
       "      <td>Bairro do Recife</td>\n",
       "      <td>-34.873669</td>\n",
       "      <td>-8.0634</td>\n",
       "      <td>30 Km/h</td>\n",
       "      <td>15.500000</td>\n",
       "      <td>2</td>\n",
       "      <td>FS002</td>\n",
       "    </tr>\n",
       "    <tr>\n",
       "      <th>1</th>\n",
       "      <td>0</td>\n",
       "      <td>30</td>\n",
       "      <td>01</td>\n",
       "      <td>01</td>\n",
       "      <td>2016</td>\n",
       "      <td>Friday</td>\n",
       "      <td>RUA MADRE DE DEUS, SEMAFORO 020.</td>\n",
       "      <td>Bairro do Recife</td>\n",
       "      <td>-34.873669</td>\n",
       "      <td>-8.0634</td>\n",
       "      <td>30 Km/h</td>\n",
       "      <td>15.500000</td>\n",
       "      <td>1</td>\n",
       "      <td>FS002</td>\n",
       "    </tr>\n",
       "    <tr>\n",
       "      <th>2</th>\n",
       "      <td>0</td>\n",
       "      <td>45</td>\n",
       "      <td>01</td>\n",
       "      <td>01</td>\n",
       "      <td>2016</td>\n",
       "      <td>Friday</td>\n",
       "      <td>RUA MADRE DE DEUS, SEMAFORO 020.</td>\n",
       "      <td>Bairro do Recife</td>\n",
       "      <td>-34.873669</td>\n",
       "      <td>-8.0634</td>\n",
       "      <td>30 Km/h</td>\n",
       "      <td>15.400000</td>\n",
       "      <td>5</td>\n",
       "      <td>FS002</td>\n",
       "    </tr>\n",
       "    <tr>\n",
       "      <th>3</th>\n",
       "      <td>0</td>\n",
       "      <td>59</td>\n",
       "      <td>01</td>\n",
       "      <td>01</td>\n",
       "      <td>2016</td>\n",
       "      <td>Friday</td>\n",
       "      <td>RUA MADRE DE DEUS, SEMAFORO 020.</td>\n",
       "      <td>Bairro do Recife</td>\n",
       "      <td>-34.873669</td>\n",
       "      <td>-8.0634</td>\n",
       "      <td>30 Km/h</td>\n",
       "      <td>10.250000</td>\n",
       "      <td>2</td>\n",
       "      <td>FS002</td>\n",
       "    </tr>\n",
       "    <tr>\n",
       "      <th>4</th>\n",
       "      <td>1</td>\n",
       "      <td>75</td>\n",
       "      <td>01</td>\n",
       "      <td>01</td>\n",
       "      <td>2016</td>\n",
       "      <td>Friday</td>\n",
       "      <td>RUA MADRE DE DEUS, SEMAFORO 020.</td>\n",
       "      <td>Bairro do Recife</td>\n",
       "      <td>-34.873669</td>\n",
       "      <td>-8.0634</td>\n",
       "      <td>30 Km/h</td>\n",
       "      <td>15.500000</td>\n",
       "      <td>4</td>\n",
       "      <td>FS002</td>\n",
       "    </tr>\n",
       "    <tr>\n",
       "      <th>...</th>\n",
       "      <td>...</td>\n",
       "      <td>...</td>\n",
       "      <td>...</td>\n",
       "      <td>...</td>\n",
       "      <td>...</td>\n",
       "      <td>...</td>\n",
       "      <td>...</td>\n",
       "      <td>...</td>\n",
       "      <td>...</td>\n",
       "      <td>...</td>\n",
       "      <td>...</td>\n",
       "      <td>...</td>\n",
       "      <td>...</td>\n",
       "      <td>...</td>\n",
       "    </tr>\n",
       "    <tr>\n",
       "      <th>9561061</th>\n",
       "      <td>22</td>\n",
       "      <td>1379</td>\n",
       "      <td>31</td>\n",
       "      <td>01</td>\n",
       "      <td>2020</td>\n",
       "      <td>Friday</td>\n",
       "      <td>AV. GOV. AGAMENON MAGALHAES, SEMAFORO 069</td>\n",
       "      <td>Paissandu</td>\n",
       "      <td>-34.89733</td>\n",
       "      <td>-8.06268</td>\n",
       "      <td>60 Km/h</td>\n",
       "      <td>22.243243</td>\n",
       "      <td>37</td>\n",
       "      <td>FS037</td>\n",
       "    </tr>\n",
       "    <tr>\n",
       "      <th>9561062</th>\n",
       "      <td>23</td>\n",
       "      <td>1395</td>\n",
       "      <td>31</td>\n",
       "      <td>01</td>\n",
       "      <td>2020</td>\n",
       "      <td>Friday</td>\n",
       "      <td>AV. GOV. AGAMENON MAGALHAES, SEMAFORO 069</td>\n",
       "      <td>Paissandu</td>\n",
       "      <td>-34.89733</td>\n",
       "      <td>-8.06268</td>\n",
       "      <td>60 Km/h</td>\n",
       "      <td>22.057143</td>\n",
       "      <td>35</td>\n",
       "      <td>FS037</td>\n",
       "    </tr>\n",
       "    <tr>\n",
       "      <th>9561063</th>\n",
       "      <td>23</td>\n",
       "      <td>1410</td>\n",
       "      <td>31</td>\n",
       "      <td>01</td>\n",
       "      <td>2020</td>\n",
       "      <td>Friday</td>\n",
       "      <td>AV. GOV. AGAMENON MAGALHAES, SEMAFORO 069</td>\n",
       "      <td>Paissandu</td>\n",
       "      <td>-34.89733</td>\n",
       "      <td>-8.06268</td>\n",
       "      <td>60 Km/h</td>\n",
       "      <td>19.771429</td>\n",
       "      <td>35</td>\n",
       "      <td>FS037</td>\n",
       "    </tr>\n",
       "    <tr>\n",
       "      <th>9561064</th>\n",
       "      <td>23</td>\n",
       "      <td>1425</td>\n",
       "      <td>31</td>\n",
       "      <td>01</td>\n",
       "      <td>2020</td>\n",
       "      <td>Friday</td>\n",
       "      <td>AV. GOV. AGAMENON MAGALHAES, SEMAFORO 069</td>\n",
       "      <td>Paissandu</td>\n",
       "      <td>-34.89733</td>\n",
       "      <td>-8.06268</td>\n",
       "      <td>60 Km/h</td>\n",
       "      <td>19.388889</td>\n",
       "      <td>18</td>\n",
       "      <td>FS037</td>\n",
       "    </tr>\n",
       "    <tr>\n",
       "      <th>9561065</th>\n",
       "      <td>23</td>\n",
       "      <td>1439</td>\n",
       "      <td>31</td>\n",
       "      <td>01</td>\n",
       "      <td>2020</td>\n",
       "      <td>Friday</td>\n",
       "      <td>AV. GOV. AGAMENON MAGALHAES, SEMAFORO 069</td>\n",
       "      <td>Paissandu</td>\n",
       "      <td>-34.89733</td>\n",
       "      <td>-8.06268</td>\n",
       "      <td>60 Km/h</td>\n",
       "      <td>17.950000</td>\n",
       "      <td>20</td>\n",
       "      <td>FS037</td>\n",
       "    </tr>\n",
       "  </tbody>\n",
       "</table>\n",
       "<p>9561066 rows × 14 columns</p>\n",
       "</div>"
      ],
      "text/plain": [
       "        hora  minuto dia mes   ano diaDaSemana  \\\n",
       "0          0      15  01  01  2016      Friday   \n",
       "1          0      30  01  01  2016      Friday   \n",
       "2          0      45  01  01  2016      Friday   \n",
       "3          0      59  01  01  2016      Friday   \n",
       "4          1      75  01  01  2016      Friday   \n",
       "...      ...     ...  ..  ..   ...         ...   \n",
       "9561061   22    1379  31  01  2020      Friday   \n",
       "9561062   23    1395  31  01  2020      Friday   \n",
       "9561063   23    1410  31  01  2020      Friday   \n",
       "9561064   23    1425  31  01  2020      Friday   \n",
       "9561065   23    1439  31  01  2020      Friday   \n",
       "\n",
       "                                               rua            bairro  \\\n",
       "0                 RUA MADRE DE DEUS, SEMAFORO 020.  Bairro do Recife   \n",
       "1                 RUA MADRE DE DEUS, SEMAFORO 020.  Bairro do Recife   \n",
       "2                 RUA MADRE DE DEUS, SEMAFORO 020.  Bairro do Recife   \n",
       "3                 RUA MADRE DE DEUS, SEMAFORO 020.  Bairro do Recife   \n",
       "4                 RUA MADRE DE DEUS, SEMAFORO 020.  Bairro do Recife   \n",
       "...                                            ...               ...   \n",
       "9561061  AV. GOV. AGAMENON MAGALHAES, SEMAFORO 069         Paissandu   \n",
       "9561062  AV. GOV. AGAMENON MAGALHAES, SEMAFORO 069         Paissandu   \n",
       "9561063  AV. GOV. AGAMENON MAGALHAES, SEMAFORO 069         Paissandu   \n",
       "9561064  AV. GOV. AGAMENON MAGALHAES, SEMAFORO 069         Paissandu   \n",
       "9561065  AV. GOV. AGAMENON MAGALHAES, SEMAFORO 069         Paissandu   \n",
       "\n",
       "         longitude latitude velocidade_via  velocidadeMedia  numeroVeiculos  \\\n",
       "0       -34.873669  -8.0634        30 Km/h        15.500000               2   \n",
       "1       -34.873669  -8.0634        30 Km/h        15.500000               1   \n",
       "2       -34.873669  -8.0634        30 Km/h        15.400000               5   \n",
       "3       -34.873669  -8.0634        30 Km/h        10.250000               2   \n",
       "4       -34.873669  -8.0634        30 Km/h        15.500000               4   \n",
       "...            ...      ...            ...              ...             ...   \n",
       "9561061  -34.89733 -8.06268        60 Km/h        22.243243              37   \n",
       "9561062  -34.89733 -8.06268        60 Km/h        22.057143              35   \n",
       "9561063  -34.89733 -8.06268        60 Km/h        19.771429              35   \n",
       "9561064  -34.89733 -8.06268        60 Km/h        19.388889              18   \n",
       "9561065  -34.89733 -8.06268        60 Km/h        17.950000              20   \n",
       "\n",
       "        equipamento  \n",
       "0             FS002  \n",
       "1             FS002  \n",
       "2             FS002  \n",
       "3             FS002  \n",
       "4             FS002  \n",
       "...             ...  \n",
       "9561061       FS037  \n",
       "9561062       FS037  \n",
       "9561063       FS037  \n",
       "9561064       FS037  \n",
       "9561065       FS037  \n",
       "\n",
       "[9561066 rows x 14 columns]"
      ]
     },
     "execution_count": 199,
     "metadata": {},
     "output_type": "execute_result"
    }
   ],
   "source": [
    "setMeanVelocity()"
   ]
  },
  {
   "cell_type": "code",
   "execution_count": 38,
   "metadata": {
    "ExecuteTime": {
     "end_time": "2021-04-16T05:41:16.561253Z",
     "start_time": "2021-04-16T05:41:16.548438Z"
    }
   },
   "outputs": [],
   "source": [
    "def setData():\n",
    "    arrayData = []\n",
    "    for value in dataFrameTrainVelocity['hora']:\n",
    "        arrayData.append(str(value))\n",
    "    dataframeProcess['hora'] = arrayData\n",
    "    return dataframeProcess"
   ]
  },
  {
   "cell_type": "code",
   "execution_count": 39,
   "metadata": {
    "ExecuteTime": {
     "end_time": "2021-04-16T05:41:20.358693Z",
     "start_time": "2021-04-16T05:41:16.563259Z"
    }
   },
   "outputs": [
    {
     "data": {
      "text/html": [
       "<div>\n",
       "<style scoped>\n",
       "    .dataframe tbody tr th:only-of-type {\n",
       "        vertical-align: middle;\n",
       "    }\n",
       "\n",
       "    .dataframe tbody tr th {\n",
       "        vertical-align: top;\n",
       "    }\n",
       "\n",
       "    .dataframe thead th {\n",
       "        text-align: right;\n",
       "    }\n",
       "</style>\n",
       "<table border=\"1\" class=\"dataframe\">\n",
       "  <thead>\n",
       "    <tr style=\"text-align: right;\">\n",
       "      <th></th>\n",
       "      <th>hora</th>\n",
       "      <th>minuto</th>\n",
       "      <th>dia</th>\n",
       "      <th>mes</th>\n",
       "      <th>ano</th>\n",
       "      <th>diaDaSemana</th>\n",
       "      <th>rua</th>\n",
       "      <th>bairro</th>\n",
       "      <th>longitude</th>\n",
       "      <th>latitude</th>\n",
       "      <th>velocidade_via</th>\n",
       "      <th>velocidadeMedia</th>\n",
       "      <th>numeroVeiculos</th>\n",
       "    </tr>\n",
       "  </thead>\n",
       "  <tbody>\n",
       "    <tr>\n",
       "      <th>0</th>\n",
       "      <td>0</td>\n",
       "      <td>NaN</td>\n",
       "      <td>01</td>\n",
       "      <td>01</td>\n",
       "      <td>2016</td>\n",
       "      <td>Friday</td>\n",
       "      <td>NaN</td>\n",
       "      <td>NaN</td>\n",
       "      <td>NaN</td>\n",
       "      <td>NaN</td>\n",
       "      <td>NaN</td>\n",
       "      <td></td>\n",
       "      <td></td>\n",
       "    </tr>\n",
       "    <tr>\n",
       "      <th>1</th>\n",
       "      <td>0</td>\n",
       "      <td>NaN</td>\n",
       "      <td>01</td>\n",
       "      <td>01</td>\n",
       "      <td>2016</td>\n",
       "      <td>Friday</td>\n",
       "      <td>NaN</td>\n",
       "      <td>NaN</td>\n",
       "      <td>NaN</td>\n",
       "      <td>NaN</td>\n",
       "      <td>NaN</td>\n",
       "      <td></td>\n",
       "      <td></td>\n",
       "    </tr>\n",
       "    <tr>\n",
       "      <th>2</th>\n",
       "      <td>0</td>\n",
       "      <td>NaN</td>\n",
       "      <td>01</td>\n",
       "      <td>01</td>\n",
       "      <td>2016</td>\n",
       "      <td>Friday</td>\n",
       "      <td>NaN</td>\n",
       "      <td>NaN</td>\n",
       "      <td>NaN</td>\n",
       "      <td>NaN</td>\n",
       "      <td>NaN</td>\n",
       "      <td></td>\n",
       "      <td></td>\n",
       "    </tr>\n",
       "    <tr>\n",
       "      <th>3</th>\n",
       "      <td>0</td>\n",
       "      <td>NaN</td>\n",
       "      <td>01</td>\n",
       "      <td>01</td>\n",
       "      <td>2016</td>\n",
       "      <td>Friday</td>\n",
       "      <td>NaN</td>\n",
       "      <td>NaN</td>\n",
       "      <td>NaN</td>\n",
       "      <td>NaN</td>\n",
       "      <td>NaN</td>\n",
       "      <td></td>\n",
       "      <td></td>\n",
       "    </tr>\n",
       "    <tr>\n",
       "      <th>4</th>\n",
       "      <td>1</td>\n",
       "      <td>NaN</td>\n",
       "      <td>01</td>\n",
       "      <td>01</td>\n",
       "      <td>2016</td>\n",
       "      <td>Friday</td>\n",
       "      <td>NaN</td>\n",
       "      <td>NaN</td>\n",
       "      <td>NaN</td>\n",
       "      <td>NaN</td>\n",
       "      <td>NaN</td>\n",
       "      <td></td>\n",
       "      <td></td>\n",
       "    </tr>\n",
       "    <tr>\n",
       "      <th>...</th>\n",
       "      <td>...</td>\n",
       "      <td>...</td>\n",
       "      <td>...</td>\n",
       "      <td>...</td>\n",
       "      <td>...</td>\n",
       "      <td>...</td>\n",
       "      <td>...</td>\n",
       "      <td>...</td>\n",
       "      <td>...</td>\n",
       "      <td>...</td>\n",
       "      <td>...</td>\n",
       "      <td>...</td>\n",
       "      <td>...</td>\n",
       "    </tr>\n",
       "    <tr>\n",
       "      <th>9561061</th>\n",
       "      <td>22</td>\n",
       "      <td>NaN</td>\n",
       "      <td>31</td>\n",
       "      <td>01</td>\n",
       "      <td>2020</td>\n",
       "      <td>Friday</td>\n",
       "      <td>NaN</td>\n",
       "      <td>NaN</td>\n",
       "      <td>NaN</td>\n",
       "      <td>NaN</td>\n",
       "      <td>NaN</td>\n",
       "      <td></td>\n",
       "      <td></td>\n",
       "    </tr>\n",
       "    <tr>\n",
       "      <th>9561062</th>\n",
       "      <td>23</td>\n",
       "      <td>NaN</td>\n",
       "      <td>31</td>\n",
       "      <td>01</td>\n",
       "      <td>2020</td>\n",
       "      <td>Friday</td>\n",
       "      <td>NaN</td>\n",
       "      <td>NaN</td>\n",
       "      <td>NaN</td>\n",
       "      <td>NaN</td>\n",
       "      <td>NaN</td>\n",
       "      <td></td>\n",
       "      <td></td>\n",
       "    </tr>\n",
       "    <tr>\n",
       "      <th>9561063</th>\n",
       "      <td>23</td>\n",
       "      <td>NaN</td>\n",
       "      <td>31</td>\n",
       "      <td>01</td>\n",
       "      <td>2020</td>\n",
       "      <td>Friday</td>\n",
       "      <td>NaN</td>\n",
       "      <td>NaN</td>\n",
       "      <td>NaN</td>\n",
       "      <td>NaN</td>\n",
       "      <td>NaN</td>\n",
       "      <td></td>\n",
       "      <td></td>\n",
       "    </tr>\n",
       "    <tr>\n",
       "      <th>9561064</th>\n",
       "      <td>23</td>\n",
       "      <td>NaN</td>\n",
       "      <td>31</td>\n",
       "      <td>01</td>\n",
       "      <td>2020</td>\n",
       "      <td>Friday</td>\n",
       "      <td>NaN</td>\n",
       "      <td>NaN</td>\n",
       "      <td>NaN</td>\n",
       "      <td>NaN</td>\n",
       "      <td>NaN</td>\n",
       "      <td></td>\n",
       "      <td></td>\n",
       "    </tr>\n",
       "    <tr>\n",
       "      <th>9561065</th>\n",
       "      <td>23</td>\n",
       "      <td>NaN</td>\n",
       "      <td>31</td>\n",
       "      <td>01</td>\n",
       "      <td>2020</td>\n",
       "      <td>Friday</td>\n",
       "      <td>NaN</td>\n",
       "      <td>NaN</td>\n",
       "      <td>NaN</td>\n",
       "      <td>NaN</td>\n",
       "      <td>NaN</td>\n",
       "      <td></td>\n",
       "      <td></td>\n",
       "    </tr>\n",
       "  </tbody>\n",
       "</table>\n",
       "<p>9561066 rows × 13 columns</p>\n",
       "</div>"
      ],
      "text/plain": [
       "        hora minuto dia mes   ano diaDaSemana  rua bairro longitude latitude  \\\n",
       "0          0    NaN  01  01  2016      Friday  NaN    NaN       NaN      NaN   \n",
       "1          0    NaN  01  01  2016      Friday  NaN    NaN       NaN      NaN   \n",
       "2          0    NaN  01  01  2016      Friday  NaN    NaN       NaN      NaN   \n",
       "3          0    NaN  01  01  2016      Friday  NaN    NaN       NaN      NaN   \n",
       "4          1    NaN  01  01  2016      Friday  NaN    NaN       NaN      NaN   \n",
       "...      ...    ...  ..  ..   ...         ...  ...    ...       ...      ...   \n",
       "9561061   22    NaN  31  01  2020      Friday  NaN    NaN       NaN      NaN   \n",
       "9561062   23    NaN  31  01  2020      Friday  NaN    NaN       NaN      NaN   \n",
       "9561063   23    NaN  31  01  2020      Friday  NaN    NaN       NaN      NaN   \n",
       "9561064   23    NaN  31  01  2020      Friday  NaN    NaN       NaN      NaN   \n",
       "9561065   23    NaN  31  01  2020      Friday  NaN    NaN       NaN      NaN   \n",
       "\n",
       "        velocidade_via velocidadeMedia numeroVeiculos  \n",
       "0                  NaN                                 \n",
       "1                  NaN                                 \n",
       "2                  NaN                                 \n",
       "3                  NaN                                 \n",
       "4                  NaN                                 \n",
       "...                ...             ...            ...  \n",
       "9561061            NaN                                 \n",
       "9561062            NaN                                 \n",
       "9561063            NaN                                 \n",
       "9561064            NaN                                 \n",
       "9561065            NaN                                 \n",
       "\n",
       "[9561066 rows x 13 columns]"
      ]
     },
     "execution_count": 39,
     "metadata": {},
     "output_type": "execute_result"
    }
   ],
   "source": [
    "setData()"
   ]
  },
  {
   "cell_type": "code",
   "execution_count": 40,
   "metadata": {
    "ExecuteTime": {
     "end_time": "2021-04-16T05:41:20.374341Z",
     "start_time": "2021-04-16T05:41:20.360693Z"
    }
   },
   "outputs": [],
   "source": [
    "def setMinutes():\n",
    "    arrayMinuto = []\n",
    "    for hora,minuto_intervalo in zip (dataframeProcess['hora'],dataFrameTrainVelocity['minutos_intervalo']):\n",
    "        splitMinutosIntervalo = minuto_intervalo.split('-')\n",
    "        delta = timedelta(hours=int(hora), minutes=int(splitMinutosIntervalo[1]))\n",
    "        total_seconds = delta.total_seconds()\n",
    "        minutes = int(total_seconds // 60)\n",
    "        arrayMinuto.append(minutes)\n",
    "    dataframeProcess['minuto'] = arrayMinuto\n",
    "    return dataframeProcess"
   ]
  },
  {
   "cell_type": "code",
   "execution_count": 41,
   "metadata": {
    "ExecuteTime": {
     "end_time": "2021-04-16T05:41:48.082990Z",
     "start_time": "2021-04-16T05:41:20.375895Z"
    },
    "scrolled": true
   },
   "outputs": [
    {
     "data": {
      "text/html": [
       "<div>\n",
       "<style scoped>\n",
       "    .dataframe tbody tr th:only-of-type {\n",
       "        vertical-align: middle;\n",
       "    }\n",
       "\n",
       "    .dataframe tbody tr th {\n",
       "        vertical-align: top;\n",
       "    }\n",
       "\n",
       "    .dataframe thead th {\n",
       "        text-align: right;\n",
       "    }\n",
       "</style>\n",
       "<table border=\"1\" class=\"dataframe\">\n",
       "  <thead>\n",
       "    <tr style=\"text-align: right;\">\n",
       "      <th></th>\n",
       "      <th>hora</th>\n",
       "      <th>minuto</th>\n",
       "      <th>dia</th>\n",
       "      <th>mes</th>\n",
       "      <th>ano</th>\n",
       "      <th>diaDaSemana</th>\n",
       "      <th>rua</th>\n",
       "      <th>bairro</th>\n",
       "      <th>longitude</th>\n",
       "      <th>latitude</th>\n",
       "      <th>velocidade_via</th>\n",
       "      <th>velocidadeMedia</th>\n",
       "      <th>numeroVeiculos</th>\n",
       "    </tr>\n",
       "  </thead>\n",
       "  <tbody>\n",
       "    <tr>\n",
       "      <th>0</th>\n",
       "      <td>0</td>\n",
       "      <td>15</td>\n",
       "      <td>01</td>\n",
       "      <td>01</td>\n",
       "      <td>2016</td>\n",
       "      <td>Friday</td>\n",
       "      <td>NaN</td>\n",
       "      <td>NaN</td>\n",
       "      <td>NaN</td>\n",
       "      <td>NaN</td>\n",
       "      <td>NaN</td>\n",
       "      <td></td>\n",
       "      <td></td>\n",
       "    </tr>\n",
       "    <tr>\n",
       "      <th>1</th>\n",
       "      <td>0</td>\n",
       "      <td>30</td>\n",
       "      <td>01</td>\n",
       "      <td>01</td>\n",
       "      <td>2016</td>\n",
       "      <td>Friday</td>\n",
       "      <td>NaN</td>\n",
       "      <td>NaN</td>\n",
       "      <td>NaN</td>\n",
       "      <td>NaN</td>\n",
       "      <td>NaN</td>\n",
       "      <td></td>\n",
       "      <td></td>\n",
       "    </tr>\n",
       "    <tr>\n",
       "      <th>2</th>\n",
       "      <td>0</td>\n",
       "      <td>45</td>\n",
       "      <td>01</td>\n",
       "      <td>01</td>\n",
       "      <td>2016</td>\n",
       "      <td>Friday</td>\n",
       "      <td>NaN</td>\n",
       "      <td>NaN</td>\n",
       "      <td>NaN</td>\n",
       "      <td>NaN</td>\n",
       "      <td>NaN</td>\n",
       "      <td></td>\n",
       "      <td></td>\n",
       "    </tr>\n",
       "    <tr>\n",
       "      <th>3</th>\n",
       "      <td>0</td>\n",
       "      <td>59</td>\n",
       "      <td>01</td>\n",
       "      <td>01</td>\n",
       "      <td>2016</td>\n",
       "      <td>Friday</td>\n",
       "      <td>NaN</td>\n",
       "      <td>NaN</td>\n",
       "      <td>NaN</td>\n",
       "      <td>NaN</td>\n",
       "      <td>NaN</td>\n",
       "      <td></td>\n",
       "      <td></td>\n",
       "    </tr>\n",
       "    <tr>\n",
       "      <th>4</th>\n",
       "      <td>1</td>\n",
       "      <td>75</td>\n",
       "      <td>01</td>\n",
       "      <td>01</td>\n",
       "      <td>2016</td>\n",
       "      <td>Friday</td>\n",
       "      <td>NaN</td>\n",
       "      <td>NaN</td>\n",
       "      <td>NaN</td>\n",
       "      <td>NaN</td>\n",
       "      <td>NaN</td>\n",
       "      <td></td>\n",
       "      <td></td>\n",
       "    </tr>\n",
       "    <tr>\n",
       "      <th>...</th>\n",
       "      <td>...</td>\n",
       "      <td>...</td>\n",
       "      <td>...</td>\n",
       "      <td>...</td>\n",
       "      <td>...</td>\n",
       "      <td>...</td>\n",
       "      <td>...</td>\n",
       "      <td>...</td>\n",
       "      <td>...</td>\n",
       "      <td>...</td>\n",
       "      <td>...</td>\n",
       "      <td>...</td>\n",
       "      <td>...</td>\n",
       "    </tr>\n",
       "    <tr>\n",
       "      <th>9561061</th>\n",
       "      <td>22</td>\n",
       "      <td>1379</td>\n",
       "      <td>31</td>\n",
       "      <td>01</td>\n",
       "      <td>2020</td>\n",
       "      <td>Friday</td>\n",
       "      <td>NaN</td>\n",
       "      <td>NaN</td>\n",
       "      <td>NaN</td>\n",
       "      <td>NaN</td>\n",
       "      <td>NaN</td>\n",
       "      <td></td>\n",
       "      <td></td>\n",
       "    </tr>\n",
       "    <tr>\n",
       "      <th>9561062</th>\n",
       "      <td>23</td>\n",
       "      <td>1395</td>\n",
       "      <td>31</td>\n",
       "      <td>01</td>\n",
       "      <td>2020</td>\n",
       "      <td>Friday</td>\n",
       "      <td>NaN</td>\n",
       "      <td>NaN</td>\n",
       "      <td>NaN</td>\n",
       "      <td>NaN</td>\n",
       "      <td>NaN</td>\n",
       "      <td></td>\n",
       "      <td></td>\n",
       "    </tr>\n",
       "    <tr>\n",
       "      <th>9561063</th>\n",
       "      <td>23</td>\n",
       "      <td>1410</td>\n",
       "      <td>31</td>\n",
       "      <td>01</td>\n",
       "      <td>2020</td>\n",
       "      <td>Friday</td>\n",
       "      <td>NaN</td>\n",
       "      <td>NaN</td>\n",
       "      <td>NaN</td>\n",
       "      <td>NaN</td>\n",
       "      <td>NaN</td>\n",
       "      <td></td>\n",
       "      <td></td>\n",
       "    </tr>\n",
       "    <tr>\n",
       "      <th>9561064</th>\n",
       "      <td>23</td>\n",
       "      <td>1425</td>\n",
       "      <td>31</td>\n",
       "      <td>01</td>\n",
       "      <td>2020</td>\n",
       "      <td>Friday</td>\n",
       "      <td>NaN</td>\n",
       "      <td>NaN</td>\n",
       "      <td>NaN</td>\n",
       "      <td>NaN</td>\n",
       "      <td>NaN</td>\n",
       "      <td></td>\n",
       "      <td></td>\n",
       "    </tr>\n",
       "    <tr>\n",
       "      <th>9561065</th>\n",
       "      <td>23</td>\n",
       "      <td>1439</td>\n",
       "      <td>31</td>\n",
       "      <td>01</td>\n",
       "      <td>2020</td>\n",
       "      <td>Friday</td>\n",
       "      <td>NaN</td>\n",
       "      <td>NaN</td>\n",
       "      <td>NaN</td>\n",
       "      <td>NaN</td>\n",
       "      <td>NaN</td>\n",
       "      <td></td>\n",
       "      <td></td>\n",
       "    </tr>\n",
       "  </tbody>\n",
       "</table>\n",
       "<p>9561066 rows × 13 columns</p>\n",
       "</div>"
      ],
      "text/plain": [
       "        hora  minuto dia mes   ano diaDaSemana  rua bairro longitude latitude  \\\n",
       "0          0      15  01  01  2016      Friday  NaN    NaN       NaN      NaN   \n",
       "1          0      30  01  01  2016      Friday  NaN    NaN       NaN      NaN   \n",
       "2          0      45  01  01  2016      Friday  NaN    NaN       NaN      NaN   \n",
       "3          0      59  01  01  2016      Friday  NaN    NaN       NaN      NaN   \n",
       "4          1      75  01  01  2016      Friday  NaN    NaN       NaN      NaN   \n",
       "...      ...     ...  ..  ..   ...         ...  ...    ...       ...      ...   \n",
       "9561061   22    1379  31  01  2020      Friday  NaN    NaN       NaN      NaN   \n",
       "9561062   23    1395  31  01  2020      Friday  NaN    NaN       NaN      NaN   \n",
       "9561063   23    1410  31  01  2020      Friday  NaN    NaN       NaN      NaN   \n",
       "9561064   23    1425  31  01  2020      Friday  NaN    NaN       NaN      NaN   \n",
       "9561065   23    1439  31  01  2020      Friday  NaN    NaN       NaN      NaN   \n",
       "\n",
       "        velocidade_via velocidadeMedia numeroVeiculos  \n",
       "0                  NaN                                 \n",
       "1                  NaN                                 \n",
       "2                  NaN                                 \n",
       "3                  NaN                                 \n",
       "4                  NaN                                 \n",
       "...                ...             ...            ...  \n",
       "9561061            NaN                                 \n",
       "9561062            NaN                                 \n",
       "9561063            NaN                                 \n",
       "9561064            NaN                                 \n",
       "9561065            NaN                                 \n",
       "\n",
       "[9561066 rows x 13 columns]"
      ]
     },
     "execution_count": 41,
     "metadata": {},
     "output_type": "execute_result"
    }
   ],
   "source": [
    "setMinutes()"
   ]
  },
  {
   "cell_type": "code",
   "execution_count": 43,
   "metadata": {
    "ExecuteTime": {
     "end_time": "2021-04-16T05:42:15.536199Z",
     "start_time": "2021-04-16T05:42:15.508303Z"
    }
   },
   "outputs": [
    {
     "data": {
      "text/html": [
       "<div>\n",
       "<style scoped>\n",
       "    .dataframe tbody tr th:only-of-type {\n",
       "        vertical-align: middle;\n",
       "    }\n",
       "\n",
       "    .dataframe tbody tr th {\n",
       "        vertical-align: top;\n",
       "    }\n",
       "\n",
       "    .dataframe thead th {\n",
       "        text-align: right;\n",
       "    }\n",
       "</style>\n",
       "<table border=\"1\" class=\"dataframe\">\n",
       "  <thead>\n",
       "    <tr style=\"text-align: right;\">\n",
       "      <th></th>\n",
       "      <th>hora</th>\n",
       "      <th>minuto</th>\n",
       "      <th>dia</th>\n",
       "      <th>mes</th>\n",
       "      <th>ano</th>\n",
       "      <th>diaDaSemana</th>\n",
       "      <th>rua</th>\n",
       "      <th>bairro</th>\n",
       "      <th>longitude</th>\n",
       "      <th>latitude</th>\n",
       "      <th>velocidade_via</th>\n",
       "      <th>velocidadeMedia</th>\n",
       "      <th>numeroVeiculos</th>\n",
       "    </tr>\n",
       "  </thead>\n",
       "  <tbody>\n",
       "    <tr>\n",
       "      <th>0</th>\n",
       "      <td>0</td>\n",
       "      <td>15</td>\n",
       "      <td>01</td>\n",
       "      <td>01</td>\n",
       "      <td>2016</td>\n",
       "      <td>Friday</td>\n",
       "      <td>NaN</td>\n",
       "      <td>NaN</td>\n",
       "      <td>NaN</td>\n",
       "      <td>NaN</td>\n",
       "      <td>NaN</td>\n",
       "      <td></td>\n",
       "      <td></td>\n",
       "    </tr>\n",
       "    <tr>\n",
       "      <th>1</th>\n",
       "      <td>0</td>\n",
       "      <td>30</td>\n",
       "      <td>01</td>\n",
       "      <td>01</td>\n",
       "      <td>2016</td>\n",
       "      <td>Friday</td>\n",
       "      <td>NaN</td>\n",
       "      <td>NaN</td>\n",
       "      <td>NaN</td>\n",
       "      <td>NaN</td>\n",
       "      <td>NaN</td>\n",
       "      <td></td>\n",
       "      <td></td>\n",
       "    </tr>\n",
       "    <tr>\n",
       "      <th>2</th>\n",
       "      <td>0</td>\n",
       "      <td>45</td>\n",
       "      <td>01</td>\n",
       "      <td>01</td>\n",
       "      <td>2016</td>\n",
       "      <td>Friday</td>\n",
       "      <td>NaN</td>\n",
       "      <td>NaN</td>\n",
       "      <td>NaN</td>\n",
       "      <td>NaN</td>\n",
       "      <td>NaN</td>\n",
       "      <td></td>\n",
       "      <td></td>\n",
       "    </tr>\n",
       "    <tr>\n",
       "      <th>3</th>\n",
       "      <td>0</td>\n",
       "      <td>59</td>\n",
       "      <td>01</td>\n",
       "      <td>01</td>\n",
       "      <td>2016</td>\n",
       "      <td>Friday</td>\n",
       "      <td>NaN</td>\n",
       "      <td>NaN</td>\n",
       "      <td>NaN</td>\n",
       "      <td>NaN</td>\n",
       "      <td>NaN</td>\n",
       "      <td></td>\n",
       "      <td></td>\n",
       "    </tr>\n",
       "    <tr>\n",
       "      <th>4</th>\n",
       "      <td>1</td>\n",
       "      <td>75</td>\n",
       "      <td>01</td>\n",
       "      <td>01</td>\n",
       "      <td>2016</td>\n",
       "      <td>Friday</td>\n",
       "      <td>NaN</td>\n",
       "      <td>NaN</td>\n",
       "      <td>NaN</td>\n",
       "      <td>NaN</td>\n",
       "      <td>NaN</td>\n",
       "      <td></td>\n",
       "      <td></td>\n",
       "    </tr>\n",
       "    <tr>\n",
       "      <th>...</th>\n",
       "      <td>...</td>\n",
       "      <td>...</td>\n",
       "      <td>...</td>\n",
       "      <td>...</td>\n",
       "      <td>...</td>\n",
       "      <td>...</td>\n",
       "      <td>...</td>\n",
       "      <td>...</td>\n",
       "      <td>...</td>\n",
       "      <td>...</td>\n",
       "      <td>...</td>\n",
       "      <td>...</td>\n",
       "      <td>...</td>\n",
       "    </tr>\n",
       "    <tr>\n",
       "      <th>9561061</th>\n",
       "      <td>22</td>\n",
       "      <td>1379</td>\n",
       "      <td>31</td>\n",
       "      <td>01</td>\n",
       "      <td>2020</td>\n",
       "      <td>Friday</td>\n",
       "      <td>NaN</td>\n",
       "      <td>NaN</td>\n",
       "      <td>NaN</td>\n",
       "      <td>NaN</td>\n",
       "      <td>NaN</td>\n",
       "      <td></td>\n",
       "      <td></td>\n",
       "    </tr>\n",
       "    <tr>\n",
       "      <th>9561062</th>\n",
       "      <td>23</td>\n",
       "      <td>1395</td>\n",
       "      <td>31</td>\n",
       "      <td>01</td>\n",
       "      <td>2020</td>\n",
       "      <td>Friday</td>\n",
       "      <td>NaN</td>\n",
       "      <td>NaN</td>\n",
       "      <td>NaN</td>\n",
       "      <td>NaN</td>\n",
       "      <td>NaN</td>\n",
       "      <td></td>\n",
       "      <td></td>\n",
       "    </tr>\n",
       "    <tr>\n",
       "      <th>9561063</th>\n",
       "      <td>23</td>\n",
       "      <td>1410</td>\n",
       "      <td>31</td>\n",
       "      <td>01</td>\n",
       "      <td>2020</td>\n",
       "      <td>Friday</td>\n",
       "      <td>NaN</td>\n",
       "      <td>NaN</td>\n",
       "      <td>NaN</td>\n",
       "      <td>NaN</td>\n",
       "      <td>NaN</td>\n",
       "      <td></td>\n",
       "      <td></td>\n",
       "    </tr>\n",
       "    <tr>\n",
       "      <th>9561064</th>\n",
       "      <td>23</td>\n",
       "      <td>1425</td>\n",
       "      <td>31</td>\n",
       "      <td>01</td>\n",
       "      <td>2020</td>\n",
       "      <td>Friday</td>\n",
       "      <td>NaN</td>\n",
       "      <td>NaN</td>\n",
       "      <td>NaN</td>\n",
       "      <td>NaN</td>\n",
       "      <td>NaN</td>\n",
       "      <td></td>\n",
       "      <td></td>\n",
       "    </tr>\n",
       "    <tr>\n",
       "      <th>9561065</th>\n",
       "      <td>23</td>\n",
       "      <td>1439</td>\n",
       "      <td>31</td>\n",
       "      <td>01</td>\n",
       "      <td>2020</td>\n",
       "      <td>Friday</td>\n",
       "      <td>NaN</td>\n",
       "      <td>NaN</td>\n",
       "      <td>NaN</td>\n",
       "      <td>NaN</td>\n",
       "      <td>NaN</td>\n",
       "      <td></td>\n",
       "      <td></td>\n",
       "    </tr>\n",
       "  </tbody>\n",
       "</table>\n",
       "<p>9561066 rows × 13 columns</p>\n",
       "</div>"
      ],
      "text/plain": [
       "        hora  minuto dia mes   ano diaDaSemana  rua bairro longitude latitude  \\\n",
       "0          0      15  01  01  2016      Friday  NaN    NaN       NaN      NaN   \n",
       "1          0      30  01  01  2016      Friday  NaN    NaN       NaN      NaN   \n",
       "2          0      45  01  01  2016      Friday  NaN    NaN       NaN      NaN   \n",
       "3          0      59  01  01  2016      Friday  NaN    NaN       NaN      NaN   \n",
       "4          1      75  01  01  2016      Friday  NaN    NaN       NaN      NaN   \n",
       "...      ...     ...  ..  ..   ...         ...  ...    ...       ...      ...   \n",
       "9561061   22    1379  31  01  2020      Friday  NaN    NaN       NaN      NaN   \n",
       "9561062   23    1395  31  01  2020      Friday  NaN    NaN       NaN      NaN   \n",
       "9561063   23    1410  31  01  2020      Friday  NaN    NaN       NaN      NaN   \n",
       "9561064   23    1425  31  01  2020      Friday  NaN    NaN       NaN      NaN   \n",
       "9561065   23    1439  31  01  2020      Friday  NaN    NaN       NaN      NaN   \n",
       "\n",
       "        velocidade_via velocidadeMedia numeroVeiculos  \n",
       "0                  NaN                                 \n",
       "1                  NaN                                 \n",
       "2                  NaN                                 \n",
       "3                  NaN                                 \n",
       "4                  NaN                                 \n",
       "...                ...             ...            ...  \n",
       "9561061            NaN                                 \n",
       "9561062            NaN                                 \n",
       "9561063            NaN                                 \n",
       "9561064            NaN                                 \n",
       "9561065            NaN                                 \n",
       "\n",
       "[9561066 rows x 13 columns]"
      ]
     },
     "execution_count": 43,
     "metadata": {},
     "output_type": "execute_result"
    }
   ],
   "source": [
    "dataframeProcess"
   ]
  },
  {
   "cell_type": "code",
   "execution_count": 44,
   "metadata": {
    "ExecuteTime": {
     "end_time": "2021-04-16T05:42:22.277606Z",
     "start_time": "2021-04-16T05:42:22.268500Z"
    }
   },
   "outputs": [],
   "source": [
    "def setEquipamento():\n",
    "    arrayData = []\n",
    "    for value in dataFrameTrainVelocity['equipamento']:\n",
    "        arrayData.append(value)\n",
    "    dataframeProcess['equipamento'] = arrayData\n",
    "    return dataframeProcess"
   ]
  },
  {
   "cell_type": "code",
   "execution_count": 45,
   "metadata": {
    "ExecuteTime": {
     "end_time": "2021-04-16T05:42:24.898079Z",
     "start_time": "2021-04-16T05:42:23.083846Z"
    },
    "scrolled": true
   },
   "outputs": [
    {
     "data": {
      "text/html": [
       "<div>\n",
       "<style scoped>\n",
       "    .dataframe tbody tr th:only-of-type {\n",
       "        vertical-align: middle;\n",
       "    }\n",
       "\n",
       "    .dataframe tbody tr th {\n",
       "        vertical-align: top;\n",
       "    }\n",
       "\n",
       "    .dataframe thead th {\n",
       "        text-align: right;\n",
       "    }\n",
       "</style>\n",
       "<table border=\"1\" class=\"dataframe\">\n",
       "  <thead>\n",
       "    <tr style=\"text-align: right;\">\n",
       "      <th></th>\n",
       "      <th>hora</th>\n",
       "      <th>minuto</th>\n",
       "      <th>dia</th>\n",
       "      <th>mes</th>\n",
       "      <th>ano</th>\n",
       "      <th>diaDaSemana</th>\n",
       "      <th>rua</th>\n",
       "      <th>bairro</th>\n",
       "      <th>longitude</th>\n",
       "      <th>latitude</th>\n",
       "      <th>velocidade_via</th>\n",
       "      <th>velocidadeMedia</th>\n",
       "      <th>numeroVeiculos</th>\n",
       "      <th>equipamento</th>\n",
       "    </tr>\n",
       "  </thead>\n",
       "  <tbody>\n",
       "    <tr>\n",
       "      <th>0</th>\n",
       "      <td>0</td>\n",
       "      <td>15</td>\n",
       "      <td>01</td>\n",
       "      <td>01</td>\n",
       "      <td>2016</td>\n",
       "      <td>Friday</td>\n",
       "      <td>NaN</td>\n",
       "      <td>NaN</td>\n",
       "      <td>NaN</td>\n",
       "      <td>NaN</td>\n",
       "      <td>NaN</td>\n",
       "      <td></td>\n",
       "      <td></td>\n",
       "      <td>FS002</td>\n",
       "    </tr>\n",
       "    <tr>\n",
       "      <th>1</th>\n",
       "      <td>0</td>\n",
       "      <td>30</td>\n",
       "      <td>01</td>\n",
       "      <td>01</td>\n",
       "      <td>2016</td>\n",
       "      <td>Friday</td>\n",
       "      <td>NaN</td>\n",
       "      <td>NaN</td>\n",
       "      <td>NaN</td>\n",
       "      <td>NaN</td>\n",
       "      <td>NaN</td>\n",
       "      <td></td>\n",
       "      <td></td>\n",
       "      <td>FS002</td>\n",
       "    </tr>\n",
       "    <tr>\n",
       "      <th>2</th>\n",
       "      <td>0</td>\n",
       "      <td>45</td>\n",
       "      <td>01</td>\n",
       "      <td>01</td>\n",
       "      <td>2016</td>\n",
       "      <td>Friday</td>\n",
       "      <td>NaN</td>\n",
       "      <td>NaN</td>\n",
       "      <td>NaN</td>\n",
       "      <td>NaN</td>\n",
       "      <td>NaN</td>\n",
       "      <td></td>\n",
       "      <td></td>\n",
       "      <td>FS002</td>\n",
       "    </tr>\n",
       "    <tr>\n",
       "      <th>3</th>\n",
       "      <td>0</td>\n",
       "      <td>59</td>\n",
       "      <td>01</td>\n",
       "      <td>01</td>\n",
       "      <td>2016</td>\n",
       "      <td>Friday</td>\n",
       "      <td>NaN</td>\n",
       "      <td>NaN</td>\n",
       "      <td>NaN</td>\n",
       "      <td>NaN</td>\n",
       "      <td>NaN</td>\n",
       "      <td></td>\n",
       "      <td></td>\n",
       "      <td>FS002</td>\n",
       "    </tr>\n",
       "    <tr>\n",
       "      <th>4</th>\n",
       "      <td>1</td>\n",
       "      <td>75</td>\n",
       "      <td>01</td>\n",
       "      <td>01</td>\n",
       "      <td>2016</td>\n",
       "      <td>Friday</td>\n",
       "      <td>NaN</td>\n",
       "      <td>NaN</td>\n",
       "      <td>NaN</td>\n",
       "      <td>NaN</td>\n",
       "      <td>NaN</td>\n",
       "      <td></td>\n",
       "      <td></td>\n",
       "      <td>FS002</td>\n",
       "    </tr>\n",
       "    <tr>\n",
       "      <th>...</th>\n",
       "      <td>...</td>\n",
       "      <td>...</td>\n",
       "      <td>...</td>\n",
       "      <td>...</td>\n",
       "      <td>...</td>\n",
       "      <td>...</td>\n",
       "      <td>...</td>\n",
       "      <td>...</td>\n",
       "      <td>...</td>\n",
       "      <td>...</td>\n",
       "      <td>...</td>\n",
       "      <td>...</td>\n",
       "      <td>...</td>\n",
       "      <td>...</td>\n",
       "    </tr>\n",
       "    <tr>\n",
       "      <th>9561061</th>\n",
       "      <td>22</td>\n",
       "      <td>1379</td>\n",
       "      <td>31</td>\n",
       "      <td>01</td>\n",
       "      <td>2020</td>\n",
       "      <td>Friday</td>\n",
       "      <td>NaN</td>\n",
       "      <td>NaN</td>\n",
       "      <td>NaN</td>\n",
       "      <td>NaN</td>\n",
       "      <td>NaN</td>\n",
       "      <td></td>\n",
       "      <td></td>\n",
       "      <td>FS037</td>\n",
       "    </tr>\n",
       "    <tr>\n",
       "      <th>9561062</th>\n",
       "      <td>23</td>\n",
       "      <td>1395</td>\n",
       "      <td>31</td>\n",
       "      <td>01</td>\n",
       "      <td>2020</td>\n",
       "      <td>Friday</td>\n",
       "      <td>NaN</td>\n",
       "      <td>NaN</td>\n",
       "      <td>NaN</td>\n",
       "      <td>NaN</td>\n",
       "      <td>NaN</td>\n",
       "      <td></td>\n",
       "      <td></td>\n",
       "      <td>FS037</td>\n",
       "    </tr>\n",
       "    <tr>\n",
       "      <th>9561063</th>\n",
       "      <td>23</td>\n",
       "      <td>1410</td>\n",
       "      <td>31</td>\n",
       "      <td>01</td>\n",
       "      <td>2020</td>\n",
       "      <td>Friday</td>\n",
       "      <td>NaN</td>\n",
       "      <td>NaN</td>\n",
       "      <td>NaN</td>\n",
       "      <td>NaN</td>\n",
       "      <td>NaN</td>\n",
       "      <td></td>\n",
       "      <td></td>\n",
       "      <td>FS037</td>\n",
       "    </tr>\n",
       "    <tr>\n",
       "      <th>9561064</th>\n",
       "      <td>23</td>\n",
       "      <td>1425</td>\n",
       "      <td>31</td>\n",
       "      <td>01</td>\n",
       "      <td>2020</td>\n",
       "      <td>Friday</td>\n",
       "      <td>NaN</td>\n",
       "      <td>NaN</td>\n",
       "      <td>NaN</td>\n",
       "      <td>NaN</td>\n",
       "      <td>NaN</td>\n",
       "      <td></td>\n",
       "      <td></td>\n",
       "      <td>FS037</td>\n",
       "    </tr>\n",
       "    <tr>\n",
       "      <th>9561065</th>\n",
       "      <td>23</td>\n",
       "      <td>1439</td>\n",
       "      <td>31</td>\n",
       "      <td>01</td>\n",
       "      <td>2020</td>\n",
       "      <td>Friday</td>\n",
       "      <td>NaN</td>\n",
       "      <td>NaN</td>\n",
       "      <td>NaN</td>\n",
       "      <td>NaN</td>\n",
       "      <td>NaN</td>\n",
       "      <td></td>\n",
       "      <td></td>\n",
       "      <td>FS037</td>\n",
       "    </tr>\n",
       "  </tbody>\n",
       "</table>\n",
       "<p>9561066 rows × 14 columns</p>\n",
       "</div>"
      ],
      "text/plain": [
       "        hora  minuto dia mes   ano diaDaSemana  rua bairro longitude latitude  \\\n",
       "0          0      15  01  01  2016      Friday  NaN    NaN       NaN      NaN   \n",
       "1          0      30  01  01  2016      Friday  NaN    NaN       NaN      NaN   \n",
       "2          0      45  01  01  2016      Friday  NaN    NaN       NaN      NaN   \n",
       "3          0      59  01  01  2016      Friday  NaN    NaN       NaN      NaN   \n",
       "4          1      75  01  01  2016      Friday  NaN    NaN       NaN      NaN   \n",
       "...      ...     ...  ..  ..   ...         ...  ...    ...       ...      ...   \n",
       "9561061   22    1379  31  01  2020      Friday  NaN    NaN       NaN      NaN   \n",
       "9561062   23    1395  31  01  2020      Friday  NaN    NaN       NaN      NaN   \n",
       "9561063   23    1410  31  01  2020      Friday  NaN    NaN       NaN      NaN   \n",
       "9561064   23    1425  31  01  2020      Friday  NaN    NaN       NaN      NaN   \n",
       "9561065   23    1439  31  01  2020      Friday  NaN    NaN       NaN      NaN   \n",
       "\n",
       "        velocidade_via velocidadeMedia numeroVeiculos equipamento  \n",
       "0                  NaN                                      FS002  \n",
       "1                  NaN                                      FS002  \n",
       "2                  NaN                                      FS002  \n",
       "3                  NaN                                      FS002  \n",
       "4                  NaN                                      FS002  \n",
       "...                ...             ...            ...         ...  \n",
       "9561061            NaN                                      FS037  \n",
       "9561062            NaN                                      FS037  \n",
       "9561063            NaN                                      FS037  \n",
       "9561064            NaN                                      FS037  \n",
       "9561065            NaN                                      FS037  \n",
       "\n",
       "[9561066 rows x 14 columns]"
      ]
     },
     "execution_count": 45,
     "metadata": {},
     "output_type": "execute_result"
    }
   ],
   "source": [
    "setEquipamento()"
   ]
  },
  {
   "cell_type": "code",
   "execution_count": 46,
   "metadata": {
    "ExecuteTime": {
     "end_time": "2021-04-16T05:42:32.076284Z",
     "start_time": "2021-04-16T05:42:32.061799Z"
    }
   },
   "outputs": [],
   "source": [
    "def findValueDataFrame(dataframe,column,valueToFind,columnObject):\n",
    "    value = dataframe.loc[dataframe[column] == valueToFind]\n",
    "    valueToFind = value[columnObject].values\n",
    "    \n",
    "    if(valueToFind != None):\n",
    "        return valueToFind[0]\n",
    "    else:\n",
    "        return ''"
   ]
  },
  {
   "cell_type": "code",
   "execution_count": 185,
   "metadata": {
    "ExecuteTime": {
     "end_time": "2021-04-18T02:33:55.844119Z",
     "start_time": "2021-04-18T02:33:55.649997Z"
    }
   },
   "outputs": [],
   "source": [
    "dataframeProcess['latitude'] = ''"
   ]
  },
  {
   "cell_type": "code",
   "execution_count": 188,
   "metadata": {
    "ExecuteTime": {
     "end_time": "2021-04-18T02:56:33.298647Z",
     "start_time": "2021-04-18T02:56:33.267194Z"
    }
   },
   "outputs": [],
   "source": [
    "import warnings\n",
    "warnings.filterwarnings(action='ignore', category=DeprecationWarning)"
   ]
  },
  {
   "cell_type": "code",
   "execution_count": 193,
   "metadata": {
    "ExecuteTime": {
     "end_time": "2021-04-18T04:51:15.068375Z",
     "start_time": "2021-04-18T03:46:01.043159Z"
    },
    "scrolled": true
   },
   "outputs": [],
   "source": [
    "dataframeProcess['latitude'] = dataframeProcess.apply(lambda row: findValueDataFrame(dataFrameTrainRedLightCamera,'equipamento',row['equipamento'],'latitude'),axis=1)"
   ]
  },
  {
   "cell_type": "code",
   "execution_count": 196,
   "metadata": {
    "ExecuteTime": {
     "end_time": "2021-04-18T16:40:05.940645Z",
     "start_time": "2021-04-18T15:29:00.434573Z"
    }
   },
   "outputs": [],
   "source": [
    "dataframeProcess['longitude'] = dataframeProcess.apply(lambda row: findValueDataFrame(dataFrameTrainRedLightCamera,'equipamento',row['equipamento'],'longitude'),axis=1)\n",
    "dataframeProcess['velocidade_via'] = dataframeProcess.apply(lambda row: findValueDataFrame(dataFrameTrainRedLightCamera,'equipamento',row['equipamento'],'velocidade_via'),axis=1)\n",
    "dataframeProcess['bairro'] = dataframeProcess.apply(lambda row: findValueDataFrame(dataFrameTrainRedLightCamera,'equipamento',row['equipamento'],'bairro'),axis=1)\n",
    "dataframeProcess['rua'] = dataframeProcess.apply(lambda row: findValueDataFrame(dataFrameTrainRedLightCamera,'equipamento',row['equipamento'],'logradouro'),axis=1)"
   ]
  },
  {
   "cell_type": "code",
   "execution_count": 200,
   "metadata": {
    "ExecuteTime": {
     "end_time": "2021-04-18T18:26:24.069442Z",
     "start_time": "2021-04-18T18:25:11.178524Z"
    }
   },
   "outputs": [],
   "source": [
    "dataframeProcess.to_csv('dfProcess.csv',encoding='utf-8')"
   ]
  },
  {
   "cell_type": "code",
   "execution_count": 208,
   "metadata": {
    "ExecuteTime": {
     "end_time": "2021-04-18T18:51:44.067916Z",
     "start_time": "2021-04-18T18:48:23.217214Z"
    }
   },
   "outputs": [],
   "source": [
    "dataframeProcess.to_pickle('dfProcess.pickle')"
   ]
  },
  {
   "cell_type": "markdown",
   "metadata": {},
   "source": [
    "### Train Dataset with MLP Backpropagation"
   ]
  },
  {
   "cell_type": "code",
   "execution_count": 12,
   "metadata": {
    "ExecuteTime": {
     "end_time": "2021-06-10T14:26:30.165106Z",
     "start_time": "2021-06-10T14:26:30.157940Z"
    }
   },
   "outputs": [],
   "source": [
    "import bz2\n",
    "import pickle\n",
    "import _pickle as cPickle"
   ]
  },
  {
   "cell_type": "code",
   "execution_count": 14,
   "metadata": {
    "ExecuteTime": {
     "end_time": "2021-06-10T14:26:33.751483Z",
     "start_time": "2021-06-10T14:26:33.741722Z"
    }
   },
   "outputs": [],
   "source": [
    "def loosen(file):\n",
    " pikd = open(file, 'rb')\n",
    " data = pickle.load(pikd)\n",
    " pikd.close()\n",
    " return data"
   ]
  },
  {
   "cell_type": "code",
   "execution_count": 15,
   "metadata": {
    "ExecuteTime": {
     "end_time": "2021-06-10T14:27:15.811812Z",
     "start_time": "2021-06-10T14:26:37.940887Z"
    }
   },
   "outputs": [],
   "source": [
    "dfTrain = loosen('dfProcess.pickle')"
   ]
  },
  {
   "cell_type": "code",
   "execution_count": 19,
   "metadata": {
    "ExecuteTime": {
     "end_time": "2021-06-10T14:28:30.816830Z",
     "start_time": "2021-06-10T14:28:30.759656Z"
    }
   },
   "outputs": [
    {
     "data": {
      "text/html": [
       "<div>\n",
       "<style scoped>\n",
       "    .dataframe tbody tr th:only-of-type {\n",
       "        vertical-align: middle;\n",
       "    }\n",
       "\n",
       "    .dataframe tbody tr th {\n",
       "        vertical-align: top;\n",
       "    }\n",
       "\n",
       "    .dataframe thead th {\n",
       "        text-align: right;\n",
       "    }\n",
       "</style>\n",
       "<table border=\"1\" class=\"dataframe\">\n",
       "  <thead>\n",
       "    <tr style=\"text-align: right;\">\n",
       "      <th></th>\n",
       "      <th>hora</th>\n",
       "      <th>minuto</th>\n",
       "      <th>dia</th>\n",
       "      <th>mes</th>\n",
       "      <th>ano</th>\n",
       "      <th>diaDaSemana</th>\n",
       "      <th>rua</th>\n",
       "      <th>bairro</th>\n",
       "      <th>longitude</th>\n",
       "      <th>latitude</th>\n",
       "      <th>velocidade_via</th>\n",
       "      <th>velocidadeMedia</th>\n",
       "      <th>numeroVeiculos</th>\n",
       "      <th>equipamento</th>\n",
       "    </tr>\n",
       "  </thead>\n",
       "  <tbody>\n",
       "    <tr>\n",
       "      <th>0</th>\n",
       "      <td>0</td>\n",
       "      <td>15</td>\n",
       "      <td>01</td>\n",
       "      <td>01</td>\n",
       "      <td>2016</td>\n",
       "      <td>Friday</td>\n",
       "      <td>RUA MADRE DE DEUS, SEMAFORO 020.</td>\n",
       "      <td>Bairro do Recife</td>\n",
       "      <td>-34.873669</td>\n",
       "      <td>-8.0634</td>\n",
       "      <td>30 Km/h</td>\n",
       "      <td>15.500000</td>\n",
       "      <td>2</td>\n",
       "      <td>FS002</td>\n",
       "    </tr>\n",
       "    <tr>\n",
       "      <th>1</th>\n",
       "      <td>0</td>\n",
       "      <td>30</td>\n",
       "      <td>01</td>\n",
       "      <td>01</td>\n",
       "      <td>2016</td>\n",
       "      <td>Friday</td>\n",
       "      <td>RUA MADRE DE DEUS, SEMAFORO 020.</td>\n",
       "      <td>Bairro do Recife</td>\n",
       "      <td>-34.873669</td>\n",
       "      <td>-8.0634</td>\n",
       "      <td>30 Km/h</td>\n",
       "      <td>15.500000</td>\n",
       "      <td>1</td>\n",
       "      <td>FS002</td>\n",
       "    </tr>\n",
       "    <tr>\n",
       "      <th>2</th>\n",
       "      <td>0</td>\n",
       "      <td>45</td>\n",
       "      <td>01</td>\n",
       "      <td>01</td>\n",
       "      <td>2016</td>\n",
       "      <td>Friday</td>\n",
       "      <td>RUA MADRE DE DEUS, SEMAFORO 020.</td>\n",
       "      <td>Bairro do Recife</td>\n",
       "      <td>-34.873669</td>\n",
       "      <td>-8.0634</td>\n",
       "      <td>30 Km/h</td>\n",
       "      <td>15.400000</td>\n",
       "      <td>5</td>\n",
       "      <td>FS002</td>\n",
       "    </tr>\n",
       "    <tr>\n",
       "      <th>3</th>\n",
       "      <td>0</td>\n",
       "      <td>59</td>\n",
       "      <td>01</td>\n",
       "      <td>01</td>\n",
       "      <td>2016</td>\n",
       "      <td>Friday</td>\n",
       "      <td>RUA MADRE DE DEUS, SEMAFORO 020.</td>\n",
       "      <td>Bairro do Recife</td>\n",
       "      <td>-34.873669</td>\n",
       "      <td>-8.0634</td>\n",
       "      <td>30 Km/h</td>\n",
       "      <td>10.250000</td>\n",
       "      <td>2</td>\n",
       "      <td>FS002</td>\n",
       "    </tr>\n",
       "    <tr>\n",
       "      <th>4</th>\n",
       "      <td>1</td>\n",
       "      <td>75</td>\n",
       "      <td>01</td>\n",
       "      <td>01</td>\n",
       "      <td>2016</td>\n",
       "      <td>Friday</td>\n",
       "      <td>RUA MADRE DE DEUS, SEMAFORO 020.</td>\n",
       "      <td>Bairro do Recife</td>\n",
       "      <td>-34.873669</td>\n",
       "      <td>-8.0634</td>\n",
       "      <td>30 Km/h</td>\n",
       "      <td>15.500000</td>\n",
       "      <td>4</td>\n",
       "      <td>FS002</td>\n",
       "    </tr>\n",
       "    <tr>\n",
       "      <th>...</th>\n",
       "      <td>...</td>\n",
       "      <td>...</td>\n",
       "      <td>...</td>\n",
       "      <td>...</td>\n",
       "      <td>...</td>\n",
       "      <td>...</td>\n",
       "      <td>...</td>\n",
       "      <td>...</td>\n",
       "      <td>...</td>\n",
       "      <td>...</td>\n",
       "      <td>...</td>\n",
       "      <td>...</td>\n",
       "      <td>...</td>\n",
       "      <td>...</td>\n",
       "    </tr>\n",
       "    <tr>\n",
       "      <th>9561061</th>\n",
       "      <td>22</td>\n",
       "      <td>1379</td>\n",
       "      <td>31</td>\n",
       "      <td>01</td>\n",
       "      <td>2020</td>\n",
       "      <td>Friday</td>\n",
       "      <td>AV. GOV. AGAMENON MAGALHAES, SEMAFORO 069</td>\n",
       "      <td>Paissandu</td>\n",
       "      <td>-34.89733</td>\n",
       "      <td>-8.06268</td>\n",
       "      <td>60 Km/h</td>\n",
       "      <td>22.243243</td>\n",
       "      <td>37</td>\n",
       "      <td>FS037</td>\n",
       "    </tr>\n",
       "    <tr>\n",
       "      <th>9561062</th>\n",
       "      <td>23</td>\n",
       "      <td>1395</td>\n",
       "      <td>31</td>\n",
       "      <td>01</td>\n",
       "      <td>2020</td>\n",
       "      <td>Friday</td>\n",
       "      <td>AV. GOV. AGAMENON MAGALHAES, SEMAFORO 069</td>\n",
       "      <td>Paissandu</td>\n",
       "      <td>-34.89733</td>\n",
       "      <td>-8.06268</td>\n",
       "      <td>60 Km/h</td>\n",
       "      <td>22.057143</td>\n",
       "      <td>35</td>\n",
       "      <td>FS037</td>\n",
       "    </tr>\n",
       "    <tr>\n",
       "      <th>9561063</th>\n",
       "      <td>23</td>\n",
       "      <td>1410</td>\n",
       "      <td>31</td>\n",
       "      <td>01</td>\n",
       "      <td>2020</td>\n",
       "      <td>Friday</td>\n",
       "      <td>AV. GOV. AGAMENON MAGALHAES, SEMAFORO 069</td>\n",
       "      <td>Paissandu</td>\n",
       "      <td>-34.89733</td>\n",
       "      <td>-8.06268</td>\n",
       "      <td>60 Km/h</td>\n",
       "      <td>19.771429</td>\n",
       "      <td>35</td>\n",
       "      <td>FS037</td>\n",
       "    </tr>\n",
       "    <tr>\n",
       "      <th>9561064</th>\n",
       "      <td>23</td>\n",
       "      <td>1425</td>\n",
       "      <td>31</td>\n",
       "      <td>01</td>\n",
       "      <td>2020</td>\n",
       "      <td>Friday</td>\n",
       "      <td>AV. GOV. AGAMENON MAGALHAES, SEMAFORO 069</td>\n",
       "      <td>Paissandu</td>\n",
       "      <td>-34.89733</td>\n",
       "      <td>-8.06268</td>\n",
       "      <td>60 Km/h</td>\n",
       "      <td>19.388889</td>\n",
       "      <td>18</td>\n",
       "      <td>FS037</td>\n",
       "    </tr>\n",
       "    <tr>\n",
       "      <th>9561065</th>\n",
       "      <td>23</td>\n",
       "      <td>1439</td>\n",
       "      <td>31</td>\n",
       "      <td>01</td>\n",
       "      <td>2020</td>\n",
       "      <td>Friday</td>\n",
       "      <td>AV. GOV. AGAMENON MAGALHAES, SEMAFORO 069</td>\n",
       "      <td>Paissandu</td>\n",
       "      <td>-34.89733</td>\n",
       "      <td>-8.06268</td>\n",
       "      <td>60 Km/h</td>\n",
       "      <td>17.950000</td>\n",
       "      <td>20</td>\n",
       "      <td>FS037</td>\n",
       "    </tr>\n",
       "  </tbody>\n",
       "</table>\n",
       "<p>9561066 rows × 14 columns</p>\n",
       "</div>"
      ],
      "text/plain": [
       "        hora  minuto dia mes   ano diaDaSemana  \\\n",
       "0          0      15  01  01  2016      Friday   \n",
       "1          0      30  01  01  2016      Friday   \n",
       "2          0      45  01  01  2016      Friday   \n",
       "3          0      59  01  01  2016      Friday   \n",
       "4          1      75  01  01  2016      Friday   \n",
       "...      ...     ...  ..  ..   ...         ...   \n",
       "9561061   22    1379  31  01  2020      Friday   \n",
       "9561062   23    1395  31  01  2020      Friday   \n",
       "9561063   23    1410  31  01  2020      Friday   \n",
       "9561064   23    1425  31  01  2020      Friday   \n",
       "9561065   23    1439  31  01  2020      Friday   \n",
       "\n",
       "                                               rua            bairro  \\\n",
       "0                 RUA MADRE DE DEUS, SEMAFORO 020.  Bairro do Recife   \n",
       "1                 RUA MADRE DE DEUS, SEMAFORO 020.  Bairro do Recife   \n",
       "2                 RUA MADRE DE DEUS, SEMAFORO 020.  Bairro do Recife   \n",
       "3                 RUA MADRE DE DEUS, SEMAFORO 020.  Bairro do Recife   \n",
       "4                 RUA MADRE DE DEUS, SEMAFORO 020.  Bairro do Recife   \n",
       "...                                            ...               ...   \n",
       "9561061  AV. GOV. AGAMENON MAGALHAES, SEMAFORO 069         Paissandu   \n",
       "9561062  AV. GOV. AGAMENON MAGALHAES, SEMAFORO 069         Paissandu   \n",
       "9561063  AV. GOV. AGAMENON MAGALHAES, SEMAFORO 069         Paissandu   \n",
       "9561064  AV. GOV. AGAMENON MAGALHAES, SEMAFORO 069         Paissandu   \n",
       "9561065  AV. GOV. AGAMENON MAGALHAES, SEMAFORO 069         Paissandu   \n",
       "\n",
       "         longitude latitude velocidade_via  velocidadeMedia  numeroVeiculos  \\\n",
       "0       -34.873669  -8.0634        30 Km/h        15.500000               2   \n",
       "1       -34.873669  -8.0634        30 Km/h        15.500000               1   \n",
       "2       -34.873669  -8.0634        30 Km/h        15.400000               5   \n",
       "3       -34.873669  -8.0634        30 Km/h        10.250000               2   \n",
       "4       -34.873669  -8.0634        30 Km/h        15.500000               4   \n",
       "...            ...      ...            ...              ...             ...   \n",
       "9561061  -34.89733 -8.06268        60 Km/h        22.243243              37   \n",
       "9561062  -34.89733 -8.06268        60 Km/h        22.057143              35   \n",
       "9561063  -34.89733 -8.06268        60 Km/h        19.771429              35   \n",
       "9561064  -34.89733 -8.06268        60 Km/h        19.388889              18   \n",
       "9561065  -34.89733 -8.06268        60 Km/h        17.950000              20   \n",
       "\n",
       "        equipamento  \n",
       "0             FS002  \n",
       "1             FS002  \n",
       "2             FS002  \n",
       "3             FS002  \n",
       "4             FS002  \n",
       "...             ...  \n",
       "9561061       FS037  \n",
       "9561062       FS037  \n",
       "9561063       FS037  \n",
       "9561064       FS037  \n",
       "9561065       FS037  \n",
       "\n",
       "[9561066 rows x 14 columns]"
      ]
     },
     "execution_count": 19,
     "metadata": {},
     "output_type": "execute_result"
    }
   ],
   "source": [
    "dfTrain"
   ]
  },
  {
   "cell_type": "code",
   "execution_count": 33,
   "metadata": {
    "ExecuteTime": {
     "end_time": "2021-05-08T00:42:13.227521Z",
     "start_time": "2021-05-08T00:41:45.285850Z"
    }
   },
   "outputs": [],
   "source": [
    "import os\n",
    "\n",
    "import numpy as np\n",
    "import pandas as pd\n",
    "from sklearn.metrics import accuracy_score, confusion_matrix, precision_score,f1_score,precision_recall_curve\n",
    "from sklearn.model_selection import train_test_split\n",
    "from sklearn import preprocessing\n",
    "\n",
    "from tensorflow.keras.models import Sequential # Foward propagation\n",
    "from tensorflow.keras.layers import Dense, Dropout, BatchNormalization\n",
    "from tensorflow.keras.utils import plot_model\n",
    "from tensorflow.keras import optimizers #Back Propagation\n",
    "\n",
    "import matplotlib.pyplot as plt\n",
    "\n",
    "os.environ[\"PATH\"] += os.pathsep + 'C:\\Program Files\\Graphviz/bin/'"
   ]
  },
  {
   "cell_type": "code",
   "execution_count": 5,
   "metadata": {
    "ExecuteTime": {
     "end_time": "2021-05-04T14:48:27.094405Z",
     "start_time": "2021-05-04T14:48:27.083514Z"
    }
   },
   "outputs": [],
   "source": [
    "def setDiaDaSemanaInt(diaDaSemana):\n",
    "    if diaDaSemana == 'Sunday':\n",
    "        return 1\n",
    "    if diaDaSemana == 'Monday':\n",
    "        return 2\n",
    "    if diaDaSemana == 'Tuesday':\n",
    "        return 3\n",
    "    if diaDaSemana == 'Wednesday':\n",
    "        return 4\n",
    "    if diaDaSemana == 'Thursday':\n",
    "        return 5\n",
    "    if diaDaSemana == 'Friday':\n",
    "        return 6\n",
    "    if diaDaSemana == 'Saturday':\n",
    "        return 7"
   ]
  },
  {
   "cell_type": "code",
   "execution_count": 6,
   "metadata": {
    "ExecuteTime": {
     "end_time": "2021-05-04T14:51:01.145442Z",
     "start_time": "2021-05-04T14:48:27.095417Z"
    }
   },
   "outputs": [],
   "source": [
    "dfTrain.diaDaSemana = dfTrain.apply(lambda row: setDiaDaSemanaInt(row.diaDaSemana),axis=1)"
   ]
  },
  {
   "cell_type": "code",
   "execution_count": 7,
   "metadata": {
    "ExecuteTime": {
     "end_time": "2021-05-04T14:53:30.259422Z",
     "start_time": "2021-05-04T14:51:01.154249Z"
    }
   },
   "outputs": [],
   "source": [
    "dfTrain.hora = dfTrain.apply(lambda row: int(row.hora),axis=1)"
   ]
  },
  {
   "cell_type": "markdown",
   "metadata": {},
   "source": [
    "### Create a dataset by dfTrain to train with NN"
   ]
  },
  {
   "cell_type": "code",
   "execution_count": 8,
   "metadata": {
    "ExecuteTime": {
     "end_time": "2021-05-04T14:53:30.291161Z",
     "start_time": "2021-05-04T14:53:30.266126Z"
    }
   },
   "outputs": [],
   "source": [
    "dataFrameNN = pd.DataFrame(columns=['seg','ter','quar','qui','sex','sab','dom','velocidadeMedia','hora'])"
   ]
  },
  {
   "cell_type": "code",
   "execution_count": 9,
   "metadata": {
    "ExecuteTime": {
     "end_time": "2021-05-04T14:53:32.623088Z",
     "start_time": "2021-05-04T14:53:30.292586Z"
    }
   },
   "outputs": [],
   "source": [
    "dataFrameNN.velocidadeMedia = dfTrain.velocidadeMedia"
   ]
  },
  {
   "cell_type": "code",
   "execution_count": 10,
   "metadata": {
    "ExecuteTime": {
     "end_time": "2021-05-04T14:53:33.229299Z",
     "start_time": "2021-05-04T14:53:32.626096Z"
    }
   },
   "outputs": [],
   "source": [
    "dataFrameNN.hora = dfTrain.hora"
   ]
  },
  {
   "cell_type": "code",
   "execution_count": 11,
   "metadata": {
    "ExecuteTime": {
     "end_time": "2021-05-04T14:53:33.275358Z",
     "start_time": "2021-05-04T14:53:33.231225Z"
    }
   },
   "outputs": [],
   "source": [
    "dataFrameNN['diaDaSemana'] = dfTrain.diaDaSemana"
   ]
  },
  {
   "cell_type": "code",
   "execution_count": 12,
   "metadata": {
    "ExecuteTime": {
     "end_time": "2021-05-04T14:55:15.684640Z",
     "start_time": "2021-05-04T14:53:33.278379Z"
    }
   },
   "outputs": [],
   "source": [
    "dataFrameNN.seg = dfTrain.apply(lambda row: 1 if row['diaDaSemana'] == 2 else 0 ,axis=1)"
   ]
  },
  {
   "cell_type": "code",
   "execution_count": 13,
   "metadata": {
    "ExecuteTime": {
     "end_time": "2021-05-04T14:56:59.128267Z",
     "start_time": "2021-05-04T14:55:15.692678Z"
    }
   },
   "outputs": [],
   "source": [
    "dataFrameNN.ter = dfTrain.apply(lambda row: 1 if row['diaDaSemana'] == 3 else 0 ,axis=1)"
   ]
  },
  {
   "cell_type": "code",
   "execution_count": 14,
   "metadata": {
    "ExecuteTime": {
     "end_time": "2021-05-04T14:58:41.979155Z",
     "start_time": "2021-05-04T14:56:59.132314Z"
    }
   },
   "outputs": [],
   "source": [
    "dataFrameNN.quar = dfTrain.apply(lambda row: 1 if row['diaDaSemana'] == 4 else 0 ,axis=1)"
   ]
  },
  {
   "cell_type": "code",
   "execution_count": 15,
   "metadata": {
    "ExecuteTime": {
     "end_time": "2021-05-04T15:00:22.177114Z",
     "start_time": "2021-05-04T14:58:41.981297Z"
    }
   },
   "outputs": [],
   "source": [
    "dataFrameNN.qui = dfTrain.apply(lambda row: 1 if row['diaDaSemana'] == 5 else 0 ,axis=1)"
   ]
  },
  {
   "cell_type": "code",
   "execution_count": 16,
   "metadata": {
    "ExecuteTime": {
     "end_time": "2021-05-04T15:02:03.783275Z",
     "start_time": "2021-05-04T15:00:22.178175Z"
    }
   },
   "outputs": [],
   "source": [
    "dataFrameNN.sex = dfTrain.apply(lambda row: 1 if row['diaDaSemana'] == 6 else 0 ,axis=1)"
   ]
  },
  {
   "cell_type": "code",
   "execution_count": 17,
   "metadata": {
    "ExecuteTime": {
     "end_time": "2021-05-04T15:03:37.221626Z",
     "start_time": "2021-05-04T15:02:03.787280Z"
    }
   },
   "outputs": [],
   "source": [
    "dataFrameNN.sab = dfTrain.apply(lambda row: 1 if row['diaDaSemana'] == 7 else 0 ,axis=1)"
   ]
  },
  {
   "cell_type": "code",
   "execution_count": 18,
   "metadata": {
    "ExecuteTime": {
     "end_time": "2021-05-04T15:05:18.770962Z",
     "start_time": "2021-05-04T15:03:37.223630Z"
    },
    "scrolled": true
   },
   "outputs": [],
   "source": [
    "dataFrameNN.dom = dfTrain.apply(lambda row: 1 if row['diaDaSemana'] == 1 else 0 ,axis=1)"
   ]
  },
  {
   "cell_type": "code",
   "execution_count": 19,
   "metadata": {
    "ExecuteTime": {
     "end_time": "2021-05-04T15:05:18.986254Z",
     "start_time": "2021-05-04T15:05:18.775048Z"
    }
   },
   "outputs": [],
   "source": [
    "dataFrameNN['isJan'] = ''\n",
    "dataFrameNN['isJuly'] = ''"
   ]
  },
  {
   "cell_type": "code",
   "execution_count": 20,
   "metadata": {
    "ExecuteTime": {
     "end_time": "2021-05-04T15:05:19.077774Z",
     "start_time": "2021-05-04T15:05:18.988651Z"
    }
   },
   "outputs": [],
   "source": [
    "dataFrameNN['mes'] = dfTrain.mes"
   ]
  },
  {
   "cell_type": "code",
   "execution_count": 20,
   "metadata": {
    "ExecuteTime": {
     "end_time": "2021-06-10T14:33:32.612915Z",
     "start_time": "2021-06-10T14:33:26.594162Z"
    }
   },
   "outputs": [],
   "source": [
    "dataFrameNN = pd.read_csv('dataFrameNN.csv')"
   ]
  },
  {
   "cell_type": "code",
   "execution_count": 5,
   "metadata": {
    "ExecuteTime": {
     "end_time": "2021-05-06T02:11:07.431576Z",
     "start_time": "2021-05-06T02:11:07.202947Z"
    }
   },
   "outputs": [],
   "source": [
    "dataFrameNN = dataFrameNN.drop(['Unnamed: 0'],axis = 'columns')"
   ]
  },
  {
   "cell_type": "code",
   "execution_count": 22,
   "metadata": {
    "ExecuteTime": {
     "end_time": "2021-05-06T01:04:06.398319Z",
     "start_time": "2021-05-06T01:04:06.387227Z"
    }
   },
   "outputs": [],
   "source": [
    "def isJuly_isJan(mes):\n",
    "    if(int(mes) == 7 or int(mes) == 1):\n",
    "        return 1\n",
    "    else:\n",
    "        return 0"
   ]
  },
  {
   "cell_type": "code",
   "execution_count": 23,
   "metadata": {
    "ExecuteTime": {
     "end_time": "2021-05-06T01:05:23.295050Z",
     "start_time": "2021-05-06T01:04:07.170652Z"
    }
   },
   "outputs": [],
   "source": [
    "dataFrameNN['isJan_isJuly'] = dataFrameNN.apply(lambda row: isJuly_isJan(row['mes']),axis=1)\n",
    "\n",
    "#If is 1 is true, if is 0 is not july or january"
   ]
  },
  {
   "cell_type": "code",
   "execution_count": 24,
   "metadata": {
    "ExecuteTime": {
     "end_time": "2021-05-06T01:05:57.542284Z",
     "start_time": "2021-05-06T01:05:23.342127Z"
    }
   },
   "outputs": [],
   "source": [
    "dataFrameNN.to_csv('dataFrameNN.csv',encoding='utf-8')"
   ]
  },
  {
   "cell_type": "markdown",
   "metadata": {},
   "source": [
    "### Train Red light Camera"
   ]
  },
  {
   "cell_type": "code",
   "execution_count": 76,
   "metadata": {
    "ExecuteTime": {
     "end_time": "2021-05-27T02:47:30.587466Z",
     "start_time": "2021-05-27T02:47:30.539384Z"
    }
   },
   "outputs": [
    {
     "name": "stdout",
     "output_type": "stream",
     "text": [
      "Wall time: 0 ns\n"
     ]
    }
   ],
   "source": [
    "import numpy as np\n",
    "import glob\n",
    "import matplotlib.pyplot as plt \n",
    "import pandas as pd \n",
    "#import folium\n",
    "import requests\n",
    "import json\n",
    "\n",
    "import datetime\n",
    "from datetime import timedelta\n",
    "\n",
    "from sklearn.metrics import accuracy_score, confusion_matrix, precision_score,f1_score,precision_recall_curve\n",
    "from sklearn.model_selection import train_test_split\n",
    "from sklearn import preprocessing\n",
    "\n",
    "from sklearn.neural_network import MLPRegressor\n",
    "from sklearn.model_selection import train_test_split\n",
    "from sklearn.model_selection import GridSearchCV\n",
    "from sklearn.metrics import mean_squared_error\n",
    "from sklearn.model_selection import train_test_split\n",
    "%time\n",
    "%matplotlib inline"
   ]
  },
  {
   "cell_type": "code",
   "execution_count": 77,
   "metadata": {
    "ExecuteTime": {
     "end_time": "2021-05-27T02:47:44.391321Z",
     "start_time": "2021-05-27T02:47:30.591004Z"
    }
   },
   "outputs": [],
   "source": [
    "dfProcess= pd.read_csv('dfProcess.csv')"
   ]
  },
  {
   "cell_type": "code",
   "execution_count": 78,
   "metadata": {
    "ExecuteTime": {
     "end_time": "2021-05-27T02:47:45.138866Z",
     "start_time": "2021-05-27T02:47:44.393578Z"
    }
   },
   "outputs": [],
   "source": [
    "dfProcess=dfProcess.drop(['Unnamed: 0'],axis='columns')"
   ]
  },
  {
   "cell_type": "code",
   "execution_count": 79,
   "metadata": {
    "ExecuteTime": {
     "end_time": "2021-05-27T02:47:45.154537Z",
     "start_time": "2021-05-27T02:47:45.140862Z"
    }
   },
   "outputs": [],
   "source": [
    "districArray = removeDuplicated(districArray)"
   ]
  },
  {
   "cell_type": "code",
   "execution_count": 80,
   "metadata": {
    "ExecuteTime": {
     "end_time": "2021-05-27T02:47:45.169679Z",
     "start_time": "2021-05-27T02:47:45.156536Z"
    }
   },
   "outputs": [
    {
     "data": {
      "text/plain": [
       "20"
      ]
     },
     "execution_count": 80,
     "metadata": {},
     "output_type": "execute_result"
    }
   ],
   "source": [
    "len(districArray)"
   ]
  },
  {
   "cell_type": "code",
   "execution_count": 81,
   "metadata": {
    "ExecuteTime": {
     "end_time": "2021-05-27T02:47:45.185343Z",
     "start_time": "2021-05-27T02:47:45.171680Z"
    }
   },
   "outputs": [],
   "source": [
    "arrayEquipamento =dfProcess['equipamento'].to_numpy()"
   ]
  },
  {
   "cell_type": "code",
   "execution_count": 82,
   "metadata": {
    "ExecuteTime": {
     "end_time": "2021-05-27T02:47:47.111399Z",
     "start_time": "2021-05-27T02:47:45.186904Z"
    },
    "scrolled": false
   },
   "outputs": [],
   "source": [
    "arrayEquipamento = removeDuplicated(arrayEquipamento)"
   ]
  },
  {
   "cell_type": "code",
   "execution_count": 83,
   "metadata": {
    "ExecuteTime": {
     "end_time": "2021-05-27T02:47:47.127158Z",
     "start_time": "2021-05-27T02:47:47.114774Z"
    }
   },
   "outputs": [],
   "source": [
    "arrayEquipamento = np.asarray(arrayEquipamento)"
   ]
  },
  {
   "cell_type": "code",
   "execution_count": 84,
   "metadata": {
    "ExecuteTime": {
     "end_time": "2021-05-27T02:47:47.142670Z",
     "start_time": "2021-05-27T02:47:47.129107Z"
    }
   },
   "outputs": [],
   "source": [
    "arrayEquipamento.sort()"
   ]
  },
  {
   "cell_type": "code",
   "execution_count": 86,
   "metadata": {
    "ExecuteTime": {
     "end_time": "2021-05-27T02:47:47.174369Z",
     "start_time": "2021-05-27T02:47:47.160235Z"
    }
   },
   "outputs": [],
   "source": [
    "def valueToZeroToOne_velocidadeMedia(value):\n",
    "    return ((value - min_velocidadeMedia)/(max_velocidadeMedia - min_velocidadeMedia))"
   ]
  },
  {
   "cell_type": "code",
   "execution_count": 87,
   "metadata": {
    "ExecuteTime": {
     "end_time": "2021-05-27T02:47:47.189823Z",
     "start_time": "2021-05-27T02:47:47.176544Z"
    }
   },
   "outputs": [],
   "source": [
    "def valueToZeroToOne_hora(value):\n",
    "    return ((value - min_hora)/(max_hora - min_hora))"
   ]
  },
  {
   "cell_type": "code",
   "execution_count": 88,
   "metadata": {
    "ExecuteTime": {
     "end_time": "2021-05-27T02:47:47.205881Z",
     "start_time": "2021-05-27T02:47:47.191604Z"
    }
   },
   "outputs": [],
   "source": [
    "def setDiaDaSemanaInt(diaDaSemana):\n",
    "    if diaDaSemana == 'Sunday':\n",
    "        return 1\n",
    "    if diaDaSemana == 'Monday':\n",
    "        return 2\n",
    "    if diaDaSemana == 'Tuesday':\n",
    "        return 3\n",
    "    if diaDaSemana == 'Wednesday':\n",
    "        return 4\n",
    "    if diaDaSemana == 'Thursday':\n",
    "        return 5\n",
    "    if diaDaSemana == 'Friday':\n",
    "        return 6\n",
    "    if diaDaSemana == 'Saturday':\n",
    "        return 7"
   ]
  },
  {
   "cell_type": "code",
   "execution_count": 89,
   "metadata": {
    "ExecuteTime": {
     "end_time": "2021-05-27T02:48:51.964986Z",
     "start_time": "2021-05-27T02:47:47.208186Z"
    }
   },
   "outputs": [],
   "source": [
    "dfProcess['diaDaSemana'] = dfProcess.apply(lambda row: setDiaDaSemanaInt(row['diaDaSemana']) ,axis=1)"
   ]
  },
  {
   "cell_type": "code",
   "execution_count": 90,
   "metadata": {
    "ExecuteTime": {
     "end_time": "2021-05-27T02:48:51.980069Z",
     "start_time": "2021-05-27T02:48:51.970260Z"
    }
   },
   "outputs": [],
   "source": [
    "def isJuly_isJan(mes):\n",
    "    if(int(mes) == 7 or int(mes) == 1):\n",
    "        return 1\n",
    "    else:\n",
    "        return 0"
   ]
  },
  {
   "cell_type": "code",
   "execution_count": 91,
   "metadata": {
    "ExecuteTime": {
     "end_time": "2021-05-27T02:48:51.995408Z",
     "start_time": "2021-05-27T02:48:51.982109Z"
    }
   },
   "outputs": [],
   "source": [
    "param_grid = {\n",
    "    'hidden_layer_sizes':[(5,),(10,),(20,)], # Feito # OK\n",
    "    'activation':['logistic'], #Feito #OK\n",
    "    'solver':['sgd'], # OK \n",
    "    'momentum':[0.5], \n",
    "    'learning_rate_init':[0.1,0.05],  # Feito # OK\n",
    "    'max_iter': [1000,10000], #Feito #OK \n",
    "    'learning_rate':['constant'] #Valor default #Feito \n",
    "}"
   ]
  },
  {
   "cell_type": "code",
   "execution_count": 92,
   "metadata": {
    "ExecuteTime": {
     "end_time": "2021-05-27T02:48:52.011052Z",
     "start_time": "2021-05-27T02:48:51.996388Z"
    }
   },
   "outputs": [],
   "source": [
    "def diaDaSemana_isJanisJuly(dataFrame):\n",
    "    dataFrame['seg'] = dataFrame.apply(lambda row: 1 if row['diaDaSemana'] == 2 else 0 ,axis=1)\n",
    "    dataFrame['ter'] = dataFrame.apply(lambda row: 1 if row['diaDaSemana'] == 3 else 0 ,axis=1)\n",
    "    dataFrame['quar'] = dataFrame.apply(lambda row: 1 if row['diaDaSemana'] == 4 else 0 ,axis=1)\n",
    "    dataFrame['qui'] = dataFrame.apply(lambda row: 1 if row['diaDaSemana'] == 5 else 0 ,axis=1)\n",
    "    dataFrame['sex'] = dataFrame.apply(lambda row: 1 if row['diaDaSemana'] == 6 else 0 ,axis=1)\n",
    "    dataFrame['sab'] = dataFrame.apply(lambda row: 1 if row['diaDaSemana'] == 7 else 0 ,axis=1)\n",
    "    dataFrame['dom'] = dataFrame.apply(lambda row: 1 if row['diaDaSemana'] == 1 else 0 ,axis=1)\n",
    "    dataFrame['isJan_isJuly'] = dataFrame.apply(lambda row: isJuly_isJan(row['mes']),axis=1)\n",
    "    return dataFrame"
   ]
  },
  {
   "cell_type": "code",
   "execution_count": 93,
   "metadata": {
    "ExecuteTime": {
     "end_time": "2021-05-27T02:48:52.027107Z",
     "start_time": "2021-05-27T02:48:52.012043Z"
    }
   },
   "outputs": [],
   "source": [
    "def onlyEquipament(equipamento,row):\n",
    "    if(equipamento == row.equipamento):\n",
    "        dataFrameTeste.append(row)"
   ]
  },
  {
   "cell_type": "code",
   "execution_count": 94,
   "metadata": {
    "ExecuteTime": {
     "end_time": "2021-05-27T02:58:28.025167Z",
     "start_time": "2021-05-27T02:48:52.029034Z"
    }
   },
   "outputs": [],
   "source": [
    "dfProcess = diaDaSemana_isJanisJuly(dfProcess)"
   ]
  },
  {
   "cell_type": "code",
   "execution_count": 20,
   "metadata": {
    "ExecuteTime": {
     "end_time": "2021-05-21T01:44:22.154369Z",
     "start_time": "2021-05-20T22:02:10.669441Z"
    }
   },
   "outputs": [
    {
     "name": "stdout",
     "output_type": "stream",
     "text": [
      "Pegando valores do equipamento FS002\n",
      "Min/Max Velo media e Hora\n",
      "Normalizando dados, VeloMedia, Hora\n",
      "Normalizando Velocidade Media\n",
      "0          0.0\n",
      "1          0.0\n",
      "2          0.0\n",
      "3          0.0\n",
      "4          0.0\n",
      "          ... \n",
      "9343713    1.0\n",
      "9343714    1.0\n",
      "9343715    1.0\n",
      "9343716    1.0\n",
      "9343717    1.0\n",
      "Name: hora, Length: 346968, dtype: float64\n",
      "0          0.1\n",
      "1          0.1\n",
      "2          0.1\n",
      "3          0.0\n",
      "4          0.1\n",
      "          ... \n",
      "9343713    0.1\n",
      "9343714    0.1\n",
      "9343715    0.1\n",
      "9343716    0.1\n",
      "9343717    0.1\n",
      "Name: velocidadeMedia, Length: 346968, dtype: float64\n",
      "Parte do treinamento\n",
      "Fazendo o FIT com o DataFrame\n",
      "Salvando dados no disco\n",
      "Pegando valores do equipamento FS003\n",
      "Min/Max Velo media e Hora\n",
      "Normalizando dados, VeloMedia, Hora\n",
      "Normalizando Velocidade Media\n",
      "7973       0.0\n",
      "7974       0.0\n",
      "7975       0.0\n",
      "7976       0.0\n",
      "7977       0.0\n",
      "          ... \n",
      "9349445    1.0\n",
      "9349446    1.0\n",
      "9349447    1.0\n",
      "9349448    1.0\n",
      "9349449    1.0\n",
      "Name: hora, Length: 239048, dtype: float64\n",
      "7973       0.2\n",
      "7974       0.2\n",
      "7975       0.1\n",
      "7976       0.2\n",
      "7977       0.2\n",
      "          ... \n",
      "9349445    0.2\n",
      "9349446    0.2\n",
      "9349447    0.2\n",
      "9349448    0.2\n",
      "9349449    0.2\n",
      "Name: velocidadeMedia, Length: 239048, dtype: float64\n",
      "Parte do treinamento\n",
      "Fazendo o FIT com o DataFrame\n",
      "Salvando dados no disco\n",
      "Pegando valores do equipamento FS004\n",
      "Min/Max Velo media e Hora\n",
      "Normalizando dados, VeloMedia, Hora\n",
      "Normalizando Velocidade Media\n",
      "13567      0.0\n",
      "13568      0.0\n",
      "13569      0.0\n",
      "13570      0.0\n",
      "13571      0.0\n",
      "          ... \n",
      "9359335    0.8\n",
      "9359336    0.8\n",
      "9359337    0.8\n",
      "9359338    0.8\n",
      "9359339    0.8\n",
      "Name: hora, Length: 484389, dtype: float64\n",
      "13567      0.3\n",
      "13568      0.2\n",
      "13569      0.2\n",
      "13570      0.3\n",
      "13571      0.3\n",
      "          ... \n",
      "9359335    0.2\n",
      "9359336    0.2\n",
      "9359337    0.2\n",
      "9359338    0.2\n",
      "9359339    0.2\n",
      "Name: velocidadeMedia, Length: 484389, dtype: float64\n",
      "Parte do treinamento\n",
      "Fazendo o FIT com o DataFrame\n",
      "Salvando dados no disco\n",
      "Pegando valores do equipamento FS005\n",
      "Min/Max Velo media e Hora\n",
      "Normalizando dados, VeloMedia, Hora\n",
      "Normalizando Velocidade Media\n",
      "24548      0.0\n",
      "24549      0.0\n",
      "24550      0.0\n",
      "24551      0.0\n",
      "24552      0.0\n",
      "          ... \n",
      "9370968    1.0\n",
      "9370969    1.0\n",
      "9370970    1.0\n",
      "9370971    1.0\n",
      "9370972    1.0\n",
      "Name: hora, Length: 489053, dtype: float64\n",
      "24548      0.5\n",
      "24549      0.4\n",
      "24550      0.3\n",
      "24551      0.4\n",
      "24552      0.3\n",
      "          ... \n",
      "9370968    0.4\n",
      "9370969    0.4\n",
      "9370970    0.4\n",
      "9370971    0.4\n",
      "9370972    0.4\n",
      "Name: velocidadeMedia, Length: 489053, dtype: float64\n",
      "Parte do treinamento\n",
      "Fazendo o FIT com o DataFrame\n",
      "Salvando dados no disco\n",
      "Pegando valores do equipamento FS006\n",
      "Min/Max Velo media e Hora\n",
      "Normalizando dados, VeloMedia, Hora\n",
      "Normalizando Velocidade Media\n",
      "35591      0.0\n",
      "35592      0.0\n",
      "35593      0.0\n",
      "35594      0.0\n",
      "35595      0.0\n",
      "          ... \n",
      "9382662    1.0\n",
      "9382663    1.0\n",
      "9382664    1.0\n",
      "9382665    1.0\n",
      "9382666    1.0\n",
      "Name: hora, Length: 484942, dtype: float64\n",
      "35591      0.4\n",
      "35592      0.4\n",
      "35593      0.4\n",
      "35594      0.4\n",
      "35595      0.4\n",
      "          ... \n",
      "9382662    0.2\n",
      "9382663    0.2\n",
      "9382664    0.2\n",
      "9382665    0.2\n",
      "9382666    0.2\n",
      "Name: velocidadeMedia, Length: 484942, dtype: float64\n",
      "Parte do treinamento\n",
      "Fazendo o FIT com o DataFrame\n",
      "Salvando dados no disco\n",
      "Pegando valores do equipamento FS007\n",
      "Min/Max Velo media e Hora\n",
      "Normalizando dados, VeloMedia, Hora\n",
      "Normalizando Velocidade Media\n",
      "47357      0.0\n",
      "47358      0.0\n",
      "47359      0.0\n",
      "47360      0.0\n",
      "47361      0.0\n",
      "          ... \n",
      "9390681    1.0\n",
      "9390682    1.0\n",
      "9390683    1.0\n",
      "9390684    1.0\n",
      "9390685    1.0\n",
      "Name: hora, Length: 347590, dtype: float64\n",
      "47357      0.5\n",
      "47358      0.5\n",
      "47359      0.5\n",
      "47360      0.5\n",
      "47361      0.5\n",
      "          ... \n",
      "9390681    0.4\n",
      "9390682    0.5\n",
      "9390683    0.4\n",
      "9390684    0.5\n",
      "9390685    0.4\n",
      "Name: velocidadeMedia, Length: 347590, dtype: float64\n",
      "Parte do treinamento\n",
      "Fazendo o FIT com o DataFrame\n",
      "Salvando dados no disco\n",
      "Pegando valores do equipamento FS008\n",
      "Min/Max Velo media e Hora\n",
      "Normalizando dados, VeloMedia, Hora\n",
      "Normalizando Velocidade Media\n",
      "56217      0.0\n",
      "56218      0.0\n",
      "56219      0.0\n",
      "56220      0.0\n",
      "56221      0.0\n",
      "          ... \n",
      "9399344    1.0\n",
      "9399345    1.0\n",
      "9399346    1.0\n",
      "9399347    1.0\n",
      "9399348    1.0\n",
      "Name: hora, Length: 368683, dtype: float64\n",
      "56217      0.6\n",
      "56218      0.6\n",
      "56219      0.6\n",
      "56220      0.6\n",
      "56221      0.6\n",
      "          ... \n",
      "9399344    0.5\n",
      "9399345    0.5\n",
      "9399346    0.6\n",
      "9399347    0.5\n",
      "9399348    0.5\n",
      "Name: velocidadeMedia, Length: 368683, dtype: float64\n",
      "Parte do treinamento\n",
      "Fazendo o FIT com o DataFrame\n",
      "Salvando dados no disco\n",
      "Pegando valores do equipamento FS009\n",
      "Min/Max Velo media e Hora\n",
      "Normalizando dados, VeloMedia, Hora\n",
      "Normalizando Velocidade Media\n",
      "64810      0.0\n",
      "64811      0.0\n",
      "64812      0.0\n",
      "64813      0.0\n",
      "64814      0.0\n",
      "          ... \n",
      "9410916    1.0\n",
      "9410917    1.0\n",
      "9410918    1.0\n",
      "9410919    1.0\n",
      "9410920    1.0\n",
      "Name: hora, Length: 367201, dtype: float64\n",
      "64810      0.1\n",
      "64811      0.2\n",
      "64812      0.1\n",
      "64813      0.2\n",
      "64814      0.2\n",
      "          ... \n",
      "9410916    0.1\n",
      "9410917    0.1\n",
      "9410918    0.1\n",
      "9410919    0.1\n",
      "9410920    0.2\n",
      "Name: velocidadeMedia, Length: 367201, dtype: float64\n",
      "Parte do treinamento\n",
      "Fazendo o FIT com o DataFrame\n",
      "Salvando dados no disco\n",
      "Pegando valores do equipamento FS010\n",
      "Min/Max Velo media e Hora\n",
      "Normalizando dados, VeloMedia, Hora\n",
      "Normalizando Velocidade Media\n",
      "75243      0.0\n",
      "75244      0.0\n",
      "75245      0.0\n",
      "75246      0.0\n",
      "75247      0.0\n",
      "          ... \n",
      "9419642    1.0\n",
      "9419643    1.0\n",
      "9419644    1.0\n",
      "9419645    1.0\n",
      "9419646    1.0\n",
      "Name: hora, Length: 353033, dtype: float64\n",
      "75243      0.2\n",
      "75244      0.3\n",
      "75245      0.2\n",
      "75246      0.2\n",
      "75247      0.2\n",
      "          ... \n",
      "9419642    0.3\n",
      "9419643    0.4\n",
      "9419644    0.4\n",
      "9419645    0.5\n",
      "9419646    0.5\n",
      "Name: velocidadeMedia, Length: 353033, dtype: float64\n",
      "Parte do treinamento\n",
      "Fazendo o FIT com o DataFrame\n",
      "Salvando dados no disco\n",
      "Pegando valores do equipamento FS011\n",
      "Min/Max Velo media e Hora\n",
      "Normalizando dados, VeloMedia, Hora\n",
      "Normalizando Velocidade Media\n",
      "84042      0.0\n",
      "84043      0.0\n",
      "84044      0.0\n",
      "84045      0.0\n",
      "84046      0.0\n",
      "          ... \n",
      "9428085    1.0\n",
      "9428086    1.0\n",
      "9428087    1.0\n",
      "9428088    1.0\n",
      "9428089    1.0\n",
      "Name: hora, Length: 343897, dtype: float64\n",
      "84042      0.3\n",
      "84043      0.4\n",
      "84044      0.4\n",
      "84045      0.4\n",
      "84046      0.4\n",
      "          ... \n",
      "9428085    0.3\n",
      "9428086    0.2\n",
      "9428087    0.2\n",
      "9428088    0.2\n",
      "9428089    0.3\n",
      "Name: velocidadeMedia, Length: 343897, dtype: float64\n",
      "Parte do treinamento\n",
      "Fazendo o FIT com o DataFrame\n",
      "Salvando dados no disco\n",
      "Pegando valores do equipamento FS012\n",
      "Min/Max Velo media e Hora\n",
      "Normalizando dados, VeloMedia, Hora\n",
      "Normalizando Velocidade Media\n",
      "92619      0.0\n",
      "92620      0.0\n",
      "92621      0.0\n",
      "92622      0.0\n",
      "92623      0.0\n",
      "          ... \n",
      "9437004    1.0\n",
      "9437005    1.0\n",
      "9437006    1.0\n",
      "9437007    1.0\n",
      "9437008    1.0\n",
      "Name: hora, Length: 359789, dtype: float64\n",
      "92619      0.4\n",
      "92620      0.4\n",
      "92621      0.3\n",
      "92622      0.3\n",
      "92623      0.3\n",
      "          ... \n",
      "9437004    0.4\n",
      "9437005    0.4\n",
      "9437006    0.4\n",
      "9437007    0.4\n",
      "9437008    0.4\n",
      "Name: velocidadeMedia, Length: 359789, dtype: float64\n",
      "Parte do treinamento\n",
      "Fazendo o FIT com o DataFrame\n",
      "Salvando dados no disco\n",
      "Pegando valores do equipamento FS013\n",
      "Min/Max Velo media e Hora\n",
      "Normalizando dados, VeloMedia, Hora\n",
      "Normalizando Velocidade Media\n",
      "99332      0.0\n",
      "99333      0.0\n",
      "99334      0.0\n",
      "99335      0.0\n",
      "99336      0.0\n",
      "          ... \n",
      "2094415    0.5\n",
      "2094416    0.5\n",
      "2094417    0.5\n",
      "2094418    0.6\n",
      "2094419    0.6\n",
      "Name: hora, Length: 84286, dtype: float64\n",
      "99332      0.3\n",
      "99333      0.3\n",
      "99334      0.3\n",
      "99335      0.3\n",
      "99336      0.3\n",
      "          ... \n",
      "2094415    0.3\n",
      "2094416    0.3\n",
      "2094417    0.2\n",
      "2094418    0.2\n",
      "2094419    0.3\n",
      "Name: velocidadeMedia, Length: 84286, dtype: float64\n",
      "Parte do treinamento\n",
      "Fazendo o FIT com o DataFrame\n",
      "Salvando dados no disco\n",
      "Pegando valores do equipamento FS014\n",
      "Min/Max Velo media e Hora\n",
      "Normalizando dados, VeloMedia, Hora\n",
      "Normalizando Velocidade Media\n",
      "107620     0.0\n",
      "107621     0.0\n",
      "107622     0.1\n",
      "107623     0.1\n",
      "107624     0.1\n",
      "          ... \n",
      "9448801    1.0\n",
      "9448802    1.0\n",
      "9448803    1.0\n",
      "9448804    1.0\n",
      "9448805    1.0\n",
      "Name: hora, Length: 482482, dtype: float64\n",
      "107620     0.1\n",
      "107621     0.1\n",
      "107622     0.2\n",
      "107623     0.1\n",
      "107624     0.2\n",
      "          ... \n",
      "9448801    0.2\n",
      "9448802    0.3\n",
      "9448803    0.3\n",
      "9448804    0.4\n",
      "9448805    0.4\n",
      "Name: velocidadeMedia, Length: 482482, dtype: float64\n",
      "Parte do treinamento\n",
      "Fazendo o FIT com o DataFrame\n",
      "Salvando dados no disco\n",
      "Pegando valores do equipamento FS015\n"
     ]
    },
    {
     "name": "stdout",
     "output_type": "stream",
     "text": [
      "Min/Max Velo media e Hora\n",
      "Normalizando dados, VeloMedia, Hora\n",
      "Normalizando Velocidade Media\n",
      "116171     0.0\n",
      "116172     0.0\n",
      "116173     0.0\n",
      "116174     0.0\n",
      "116175     0.0\n",
      "          ... \n",
      "9454871    0.6\n",
      "9454872    0.6\n",
      "9454873    0.7\n",
      "9454874    0.7\n",
      "9454875    0.7\n",
      "Name: hora, Length: 469385, dtype: float64\n",
      "116171     0.4\n",
      "116172     0.4\n",
      "116173     0.4\n",
      "116174     0.4\n",
      "116175     0.4\n",
      "          ... \n",
      "9454871    0.2\n",
      "9454872    0.2\n",
      "9454873    0.3\n",
      "9454874    0.3\n",
      "9454875    0.3\n",
      "Name: velocidadeMedia, Length: 469385, dtype: float64\n",
      "Parte do treinamento\n",
      "Fazendo o FIT com o DataFrame\n",
      "Salvando dados no disco\n",
      "Pegando valores do equipamento FS016\n",
      "Min/Max Velo media e Hora\n",
      "Normalizando dados, VeloMedia, Hora\n",
      "Normalizando Velocidade Media\n",
      "127665     0.0\n",
      "127666     0.0\n",
      "127667     0.0\n",
      "127668     0.0\n",
      "127669     0.0\n",
      "          ... \n",
      "9462841    1.0\n",
      "9462842    1.0\n",
      "9462843    1.0\n",
      "9462844    1.0\n",
      "9462845    1.0\n",
      "Name: hora, Length: 359007, dtype: float64\n",
      "127665     0.6\n",
      "127666     0.6\n",
      "127667     0.6\n",
      "127668     0.5\n",
      "127669     0.6\n",
      "          ... \n",
      "9462841    0.4\n",
      "9462842    0.4\n",
      "9462843    0.5\n",
      "9462844    0.4\n",
      "9462845    0.5\n",
      "Name: velocidadeMedia, Length: 359007, dtype: float64\n",
      "Parte do treinamento\n",
      "Fazendo o FIT com o DataFrame\n",
      "Salvando dados no disco\n",
      "Pegando valores do equipamento FS017\n",
      "Min/Max Velo media e Hora\n",
      "Normalizando dados, VeloMedia, Hora\n",
      "Normalizando Velocidade Media\n",
      "135165     0.0\n",
      "135166     0.0\n",
      "135167     0.0\n",
      "135168     0.0\n",
      "135169     0.0\n",
      "          ... \n",
      "9471487    1.0\n",
      "9471488    1.0\n",
      "9471489    1.0\n",
      "9471490    1.0\n",
      "9471491    1.0\n",
      "Name: hora, Length: 346847, dtype: float64\n",
      "135165     0.6\n",
      "135166     0.6\n",
      "135167     0.6\n",
      "135168     0.4\n",
      "135169     0.4\n",
      "          ... \n",
      "9471487    0.3\n",
      "9471488    0.4\n",
      "9471489    0.5\n",
      "9471490    0.5\n",
      "9471491    0.4\n",
      "Name: velocidadeMedia, Length: 346847, dtype: float64\n",
      "Parte do treinamento\n",
      "Fazendo o FIT com o DataFrame\n",
      "Salvando dados no disco\n",
      "Pegando valores do equipamento FS018\n",
      "Min/Max Velo media e Hora\n",
      "Normalizando dados, VeloMedia, Hora\n",
      "Normalizando Velocidade Media\n",
      "144083     0.0\n",
      "144084     0.0\n",
      "144085     0.0\n",
      "144086     0.0\n",
      "144087     0.0\n",
      "          ... \n",
      "9481584    1.0\n",
      "9481585    1.0\n",
      "9481586    1.0\n",
      "9481587    1.0\n",
      "9481588    1.0\n",
      "Name: hora, Length: 446523, dtype: float64\n",
      "144083     0.5\n",
      "144084     0.5\n",
      "144085     0.5\n",
      "144086     0.6\n",
      "144087     0.5\n",
      "          ... \n",
      "9481584    0.5\n",
      "9481585    0.5\n",
      "9481586    0.5\n",
      "9481587    0.5\n",
      "9481588    0.5\n",
      "Name: velocidadeMedia, Length: 446523, dtype: float64\n",
      "Parte do treinamento\n",
      "Fazendo o FIT com o DataFrame\n",
      "Salvando dados no disco\n",
      "Pegando valores do equipamento FS019\n",
      "Min/Max Velo media e Hora\n",
      "Normalizando dados, VeloMedia, Hora\n",
      "Normalizando Velocidade Media\n",
      "155482     0.0\n",
      "155483     0.0\n",
      "155484     0.0\n",
      "155485     0.0\n",
      "155486     0.0\n",
      "          ... \n",
      "9487292    0.6\n",
      "9487293    0.6\n",
      "9487294    0.6\n",
      "9487295    0.7\n",
      "9487296    0.7\n",
      "Name: hora, Length: 241525, dtype: float64\n",
      "155482     0.2\n",
      "155483     0.3\n",
      "155484     0.2\n",
      "155485     0.2\n",
      "155486     0.2\n",
      "          ... \n",
      "9487292    0.3\n",
      "9487293    0.2\n",
      "9487294    0.2\n",
      "9487295    0.2\n",
      "9487296    0.2\n",
      "Name: velocidadeMedia, Length: 241525, dtype: float64\n",
      "Parte do treinamento\n",
      "Fazendo o FIT com o DataFrame\n",
      "Salvando dados no disco\n",
      "Pegando valores do equipamento FS020\n",
      "Min/Max Velo media e Hora\n",
      "Normalizando dados, VeloMedia, Hora\n",
      "Normalizando Velocidade Media\n",
      "160852     0.0\n",
      "160853     0.0\n",
      "160854     0.0\n",
      "160855     0.0\n",
      "160856     0.0\n",
      "          ... \n",
      "9493131    1.0\n",
      "9493132    1.0\n",
      "9493133    1.0\n",
      "9493134    1.0\n",
      "9493135    1.0\n",
      "Name: hora, Length: 226026, dtype: float64\n",
      "160852     0.3\n",
      "160853     0.3\n",
      "160854     0.3\n",
      "160855     0.3\n",
      "160856     0.3\n",
      "          ... \n",
      "9493131    0.2\n",
      "9493132    0.2\n",
      "9493133    0.2\n",
      "9493134    0.2\n",
      "9493135    0.2\n",
      "Name: velocidadeMedia, Length: 226026, dtype: float64\n",
      "Parte do treinamento\n",
      "Fazendo o FIT com o DataFrame\n",
      "Salvando dados no disco\n",
      "Pegando valores do equipamento FS021\n",
      "Min/Max Velo media e Hora\n",
      "Normalizando dados, VeloMedia, Hora\n",
      "Normalizando Velocidade Media\n",
      "166312     0.6\n",
      "166313     0.6\n",
      "166314     0.6\n",
      "166315     0.6\n",
      "166316     0.6\n",
      "          ... \n",
      "9501519    1.0\n",
      "9501520    1.0\n",
      "9501521    1.0\n",
      "9501522    1.0\n",
      "9501523    1.0\n",
      "Name: hora, Length: 352664, dtype: float64\n",
      "166312     0.4\n",
      "166313     0.5\n",
      "166314     0.5\n",
      "166315     0.5\n",
      "166316     0.5\n",
      "          ... \n",
      "9501519    0.4\n",
      "9501520    0.4\n",
      "9501521    0.4\n",
      "9501522    0.3\n",
      "9501523    0.4\n",
      "Name: velocidadeMedia, Length: 352664, dtype: float64\n",
      "Parte do treinamento\n",
      "Fazendo o FIT com o DataFrame\n",
      "Salvando dados no disco\n",
      "Pegando valores do equipamento FS022\n",
      "Min/Max Velo media e Hora\n",
      "Normalizando dados, VeloMedia, Hora\n",
      "Normalizando Velocidade Media\n",
      "173027     0.0\n",
      "173028     0.0\n",
      "173029     0.0\n",
      "173030     0.0\n",
      "173031     0.0\n",
      "          ... \n",
      "9501571    0.5\n",
      "9501572    0.4\n",
      "9501573    0.4\n",
      "9501574    0.5\n",
      "9501575    0.5\n",
      "Name: hora, Length: 319747, dtype: float64\n",
      "173027     0.4\n",
      "173028     0.5\n",
      "173029     0.5\n",
      "173030     0.5\n",
      "173031     0.4\n",
      "          ... \n",
      "9501571    0.3\n",
      "9501572    0.4\n",
      "9501573    0.4\n",
      "9501574    0.4\n",
      "9501575    0.5\n",
      "Name: velocidadeMedia, Length: 319747, dtype: float64\n",
      "Parte do treinamento\n",
      "Fazendo o FIT com o DataFrame\n",
      "Salvando dados no disco\n",
      "Pegando valores do equipamento FS023\n",
      "Min/Max Velo media e Hora\n",
      "Normalizando dados, VeloMedia, Hora\n",
      "Normalizando Velocidade Media\n",
      "4516493    0.4\n",
      "4516494    0.4\n",
      "4516495    0.4\n",
      "4516496    0.4\n",
      "4516497    0.4\n",
      "          ... \n",
      "9507267    1.0\n",
      "9507268    1.0\n",
      "9507269    1.0\n",
      "9507270    1.0\n",
      "9507271    1.0\n",
      "Name: hora, Length: 109336, dtype: float64\n",
      "4516493    0.6\n",
      "4516494    0.6\n",
      "4516495    0.7\n",
      "4516496    0.7\n",
      "4516497    0.7\n",
      "          ... \n",
      "9507267    0.5\n",
      "9507268    0.5\n",
      "9507269    0.5\n",
      "9507270    0.5\n",
      "9507271    0.5\n",
      "Name: velocidadeMedia, Length: 109336, dtype: float64\n",
      "Parte do treinamento\n",
      "Fazendo o FIT com o DataFrame\n",
      "Salvando dados no disco\n",
      "Pegando valores do equipamento FS024\n",
      "Min/Max Velo media e Hora\n",
      "Normalizando dados, VeloMedia, Hora\n",
      "Normalizando Velocidade Media\n",
      "181780     0.0\n",
      "181781     0.0\n",
      "181782     0.0\n",
      "181783     0.0\n",
      "181784     0.0\n",
      "          ... \n",
      "9512790    1.0\n",
      "9512791    1.0\n",
      "9512792    1.0\n",
      "9512793    1.0\n",
      "9512794    1.0\n",
      "Name: hora, Length: 238915, dtype: float64\n",
      "181780     0.6\n",
      "181781     0.5\n",
      "181782     0.5\n",
      "181783     0.5\n",
      "181784     0.5\n",
      "          ... \n",
      "9512790    0.5\n",
      "9512791    0.5\n",
      "9512792    0.4\n",
      "9512793    0.4\n",
      "9512794    0.5\n",
      "Name: velocidadeMedia, Length: 238915, dtype: float64\n",
      "Parte do treinamento\n",
      "Fazendo o FIT com o DataFrame\n",
      "Salvando dados no disco\n",
      "Pegando valores do equipamento FS025\n",
      "Min/Max Velo media e Hora\n",
      "Normalizando dados, VeloMedia, Hora\n",
      "Normalizando Velocidade Media\n",
      "2364685    0.5\n",
      "2364686    0.5\n",
      "2364687    0.5\n",
      "2364688    0.5\n",
      "2364689    0.7\n",
      "          ... \n",
      "9518700    1.0\n",
      "9518701    1.0\n",
      "9518702    1.0\n",
      "9518703    1.0\n",
      "9518704    1.0\n",
      "Name: hora, Length: 179151, dtype: float64\n",
      "2364685    0.1\n",
      "2364686    0.4\n",
      "2364687    0.4\n",
      "2364688    0.4\n",
      "2364689    0.4\n",
      "          ... \n",
      "9518700    0.5\n",
      "9518701    0.5\n",
      "9518702    0.5\n",
      "9518703    0.5\n",
      "9518704    0.5\n",
      "Name: velocidadeMedia, Length: 179151, dtype: float64\n",
      "Parte do treinamento\n",
      "Fazendo o FIT com o DataFrame\n",
      "Salvando dados no disco\n",
      "Pegando valores do equipamento FS026\n",
      "Min/Max Velo media e Hora\n",
      "Normalizando dados, VeloMedia, Hora\n",
      "Normalizando Velocidade Media\n",
      "2565034    0.7\n",
      "2565035    0.7\n",
      "2565036    0.7\n",
      "2565037    0.7\n",
      "2565038    0.7\n",
      "          ... \n",
      "9524304    1.0\n",
      "9524305    1.0\n",
      "9524306    1.0\n",
      "9524307    1.0\n",
      "9524308    1.0\n",
      "Name: hora, Length: 164269, dtype: float64\n",
      "2565034    0.3\n",
      "2565035    0.3\n",
      "2565036    0.4\n",
      "2565037    0.4\n",
      "2565038    0.4\n",
      "          ... \n",
      "9524304    0.4\n",
      "9524305    0.5\n",
      "9524306    0.5\n",
      "9524307    0.5\n",
      "9524308    0.5\n",
      "Name: velocidadeMedia, Length: 164269, dtype: float64\n",
      "Parte do treinamento\n",
      "Fazendo o FIT com o DataFrame\n",
      "Salvando dados no disco\n",
      "Pegando valores do equipamento FS027\n",
      "Min/Max Velo media e Hora\n",
      "Normalizando dados, VeloMedia, Hora\n",
      "Normalizando Velocidade Media\n",
      "4532778    0.7\n",
      "4532779    0.7\n",
      "4532780    0.7\n",
      "4532781    0.7\n",
      "4532782    0.7\n",
      "          ... \n",
      "9529978    1.0\n",
      "9529979    1.0\n",
      "9529980    1.0\n",
      "9529981    1.0\n",
      "9529982    1.0\n",
      "Name: hora, Length: 113994, dtype: float64\n",
      "4532778    0.3\n",
      "4532779    0.3\n",
      "4532780    0.2\n",
      "4532781    0.3\n",
      "4532782    0.3\n",
      "          ... \n",
      "9529978    0.3\n",
      "9529979    0.3\n",
      "9529980    0.3\n",
      "9529981    0.3\n",
      "9529982    0.3\n",
      "Name: velocidadeMedia, Length: 113994, dtype: float64\n",
      "Parte do treinamento\n",
      "Fazendo o FIT com o DataFrame\n",
      "Salvando dados no disco\n",
      "Pegando valores do equipamento FS028\n"
     ]
    },
    {
     "name": "stdout",
     "output_type": "stream",
     "text": [
      "Min/Max Velo media e Hora\n",
      "Normalizando dados, VeloMedia, Hora\n",
      "Normalizando Velocidade Media\n",
      "4533421    0.7\n",
      "4533422    0.7\n",
      "4533423    0.7\n",
      "4533424    0.7\n",
      "4533425    0.7\n",
      "          ... \n",
      "9535560    1.0\n",
      "9535561    1.0\n",
      "9535562    1.0\n",
      "9535563    1.0\n",
      "9535564    1.0\n",
      "Name: hora, Length: 121804, dtype: float64\n",
      "4533421    0.4\n",
      "4533422    0.3\n",
      "4533423    0.4\n",
      "4533424    0.3\n",
      "4533425    0.3\n",
      "          ... \n",
      "9535560    0.2\n",
      "9535561    0.3\n",
      "9535562    0.3\n",
      "9535563    0.2\n",
      "9535564    0.2\n",
      "Name: velocidadeMedia, Length: 121804, dtype: float64\n",
      "Parte do treinamento\n",
      "Fazendo o FIT com o DataFrame\n",
      "Salvando dados no disco\n",
      "Pegando valores do equipamento FS029\n",
      "Min/Max Velo media e Hora\n",
      "Normalizando dados, VeloMedia, Hora\n",
      "Normalizando Velocidade Media\n",
      "4534065    0.7\n",
      "4534066    0.7\n",
      "4534067    0.7\n",
      "4534068    0.7\n",
      "4534069    0.7\n",
      "          ... \n",
      "9541497    1.0\n",
      "9541498    1.0\n",
      "9541499    1.0\n",
      "9541500    1.0\n",
      "9541501    1.0\n",
      "Name: hora, Length: 122863, dtype: float64\n",
      "4534065    0.5\n",
      "4534066    0.5\n",
      "4534067    0.4\n",
      "4534068    0.4\n",
      "4534069    0.4\n",
      "          ... \n",
      "9541497    0.4\n",
      "9541498    0.4\n",
      "9541499    0.4\n",
      "9541500    0.4\n",
      "9541501    0.4\n",
      "Name: velocidadeMedia, Length: 122863, dtype: float64\n",
      "Parte do treinamento\n",
      "Fazendo o FIT com o DataFrame\n",
      "Salvando dados no disco\n",
      "Pegando valores do equipamento FS030\n",
      "Min/Max Velo media e Hora\n",
      "Normalizando dados, VeloMedia, Hora\n",
      "Normalizando Velocidade Media\n",
      "4534651    0.7\n",
      "4534652    0.7\n",
      "4534653    0.7\n",
      "4534654    0.7\n",
      "4534655    0.7\n",
      "          ... \n",
      "9547157    1.0\n",
      "9547158    1.0\n",
      "9547159    1.0\n",
      "9547160    1.0\n",
      "9547161    1.0\n",
      "Name: hora, Length: 121421, dtype: float64\n",
      "4534651    0.2\n",
      "4534652    0.2\n",
      "4534653    0.2\n",
      "4534654    0.3\n",
      "4534655    0.2\n",
      "          ... \n",
      "9547157    0.2\n",
      "9547158    0.2\n",
      "9547159    0.2\n",
      "9547160    0.2\n",
      "9547161    0.2\n",
      "Name: velocidadeMedia, Length: 121421, dtype: float64\n",
      "Parte do treinamento\n",
      "Fazendo o FIT com o DataFrame\n",
      "Salvando dados no disco\n",
      "Pegando valores do equipamento FS033\n",
      "Min/Max Velo media e Hora\n",
      "Normalizando dados, VeloMedia, Hora\n",
      "Normalizando Velocidade Media\n",
      "187363     0.0\n",
      "187364     0.0\n",
      "187365     0.0\n",
      "187366     0.0\n",
      "187367     0.0\n",
      "          ... \n",
      "9549554    0.5\n",
      "9549555    0.5\n",
      "9549556    0.5\n",
      "9549557    0.5\n",
      "9549558    0.5\n",
      "Name: hora, Length: 424401, dtype: float64\n",
      "187363     0.2\n",
      "187364     0.1\n",
      "187365     0.2\n",
      "187366     0.2\n",
      "187367     0.2\n",
      "          ... \n",
      "9549554    0.1\n",
      "9549555    0.0\n",
      "9549556    0.2\n",
      "9549557    0.3\n",
      "9549558    0.3\n",
      "Name: velocidadeMedia, Length: 424401, dtype: float64\n",
      "Parte do treinamento\n",
      "Fazendo o FIT com o DataFrame\n",
      "Salvando dados no disco\n",
      "Pegando valores do equipamento FS037\n",
      "Min/Max Velo media e Hora\n",
      "Normalizando dados, VeloMedia, Hora\n",
      "Normalizando Velocidade Media\n",
      "198562     0.0\n",
      "198563     0.0\n",
      "198564     0.0\n",
      "198565     0.0\n",
      "198566     0.0\n",
      "          ... \n",
      "9561061    1.0\n",
      "9561062    1.0\n",
      "9561063    1.0\n",
      "9561064    1.0\n",
      "9561065    1.0\n",
      "Name: hora, Length: 451827, dtype: float64\n",
      "198562     0.2\n",
      "198563     0.2\n",
      "198564     0.2\n",
      "198565     0.2\n",
      "198566     0.2\n",
      "          ... \n",
      "9561061    0.2\n",
      "9561062    0.2\n",
      "9561063    0.1\n",
      "9561064    0.1\n",
      "9561065    0.1\n",
      "Name: velocidadeMedia, Length: 451827, dtype: float64\n",
      "Parte do treinamento\n",
      "Fazendo o FIT com o DataFrame\n",
      "Salvando dados no disco\n"
     ]
    }
   ],
   "source": [
    "for i in arrayEquipamento:\n",
    "    print(\"Pegando valores do equipamento \" + i )\n",
    "    equipamento = dfProcess.loc[dfProcess['equipamento'] == i]\n",
    "    equipamento = pd.DataFrame(equipamento)\n",
    "    print(\"Min/Max Velo media e Hora\")\n",
    "    min_velocidadeMedia = equipamento['velocidadeMedia'].min()\n",
    "    max_velocidadeMedia = equipamento['velocidadeMedia'].max()\n",
    "    min_hora = equipamento['hora'].min()\n",
    "    max_hora = equipamento['hora'].max()\n",
    "    print(\"Normalizando dados, VeloMedia, Hora\")\n",
    "    print(\"Normalizando Velocidade Media\")\n",
    "    equipamento['velocidadeMedia'] = equipamento.apply(lambda row: valueToZeroToOne_velocidadeMedia(row['velocidadeMedia']),axis=1)\n",
    "    equipamento['hora'] = equipamento.apply(lambda row: valueToZeroToOne_hora(row['hora']),axis=1)\n",
    "    equipamento.velocidadeMedia = np.round(equipamento.velocidadeMedia,decimals=1)\n",
    "    equipamento.hora = np.round(equipamento.hora,decimals=1)\n",
    "    print(equipamento.hora)\n",
    "    print(equipamento.velocidadeMedia)\n",
    "    print(\"Parte do treinamento\")\n",
    "    df_x = np.asarray(equipamento[['seg','ter','quar','qui','sex','sab','dom','hora','isJan_isJuly']], dtype='float64')\n",
    "    df_y = np.asarray(equipamento['velocidadeMedia'], dtype='float64')\n",
    "    df_x = np.nan_to_num(df_x)\n",
    "    df_y = np.nan_to_num(df_y)\n",
    "    df_x = df_x.astype(np.float64)\n",
    "    df_y = df_y.astype(np.float64)\n",
    "    x_train, x_test, y_train, y_test = train_test_split(df_x,df_y, test_size=0.30)\n",
    "    nn = MLPRegressor()\n",
    "    gridSearch = GridSearchCV(nn,param_grid,cv=10,refit=False,scoring=['neg_mean_squared_error','neg_mean_squared_log_error','neg_median_absolute_error','neg_mean_absolute_error','neg_root_mean_squared_error'])\n",
    "    print(\"Fazendo o FIT com o DataFrame\")\n",
    "    gridSearch = gridSearch.fit(x_train,y_train)\n",
    "    print(\"Salvando dados no disco\")\n",
    "    mlpGridResult = pd.DataFrame(data=gridSearch.cv_results_)\n",
    "    mlpGridResult.to_csv(\"result_\" + i + \".csv\",encoding='utf-8')"
   ]
  },
  {
   "cell_type": "code",
   "execution_count": null,
   "metadata": {},
   "outputs": [],
   "source": []
  }
 ],
 "metadata": {
  "kernelspec": {
   "display_name": "Python 3",
   "language": "python",
   "name": "python3"
  },
  "language_info": {
   "codemirror_mode": {
    "name": "ipython",
    "version": 3
   },
   "file_extension": ".py",
   "mimetype": "text/x-python",
   "name": "python",
   "nbconvert_exporter": "python",
   "pygments_lexer": "ipython3",
   "version": "3.7.7"
  }
 },
 "nbformat": 4,
 "nbformat_minor": 4
}
